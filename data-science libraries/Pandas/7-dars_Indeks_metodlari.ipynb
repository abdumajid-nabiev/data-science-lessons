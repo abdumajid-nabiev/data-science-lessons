{
 "cells": [
  {
   "cell_type": "markdown",
   "id": "d10e3834-be1b-4aff-8874-01261b9839b3",
   "metadata": {},
   "source": [
    "# 7-dars_Indeks_metodlari"
   ]
  },
  {
   "cell_type": "code",
   "execution_count": 1,
   "id": "2eae6d19-2e69-4d52-a654-1aa7a2037410",
   "metadata": {},
   "outputs": [],
   "source": [
    "import numpy as np"
   ]
  },
  {
   "cell_type": "code",
   "execution_count": 2,
   "id": "1822a717-527f-4333-b098-6fcd055e68e5",
   "metadata": {},
   "outputs": [],
   "source": [
    "import pandas as pd"
   ]
  },
  {
   "cell_type": "code",
   "execution_count": 3,
   "id": "ce5e5f38-9211-4054-a958-8a20e044b5e0",
   "metadata": {},
   "outputs": [],
   "source": [
    "from pandas import Series"
   ]
  },
  {
   "cell_type": "code",
   "execution_count": null,
   "id": "7d7fdbbe-e9e8-4623-a775-60914fe285c2",
   "metadata": {},
   "outputs": [],
   "source": []
  },
  {
   "cell_type": "code",
   "execution_count": 13,
   "id": "6b1cb3c0-36c0-4d68-8d53-10602767c607",
   "metadata": {},
   "outputs": [],
   "source": [
    "usernames = {\n",
    "        'john': 'john77',\n",
    "        'max': 'jax',\n",
    "        'kate': 'cathy',\n",
    "        'sally': 'sally112'\n",
    "    }\n",
    "gmails = {\n",
    "        'john': 'johnson@gmail.com',\n",
    "        'max': 'maxjohnson@gmail.com',\n",
    "        'kate': 'katecathy@gmail.com',\n",
    "        'sally': 'sally112@gmail.com'\n",
    "    }\n",
    "data = {'username':usernames,\n",
    "        'email': gmails}\n",
    "\n",
    "df = pd.DataFrame(data)"
   ]
  },
  {
   "cell_type": "code",
   "execution_count": 14,
   "id": "835bbbf6-50a3-425c-a5da-61fab1f005c9",
   "metadata": {},
   "outputs": [
    {
     "data": {
      "text/html": [
       "<div>\n",
       "<style scoped>\n",
       "    .dataframe tbody tr th:only-of-type {\n",
       "        vertical-align: middle;\n",
       "    }\n",
       "\n",
       "    .dataframe tbody tr th {\n",
       "        vertical-align: top;\n",
       "    }\n",
       "\n",
       "    .dataframe thead th {\n",
       "        text-align: right;\n",
       "    }\n",
       "</style>\n",
       "<table border=\"1\" class=\"dataframe\">\n",
       "  <thead>\n",
       "    <tr style=\"text-align: right;\">\n",
       "      <th></th>\n",
       "      <th>username</th>\n",
       "      <th>email</th>\n",
       "    </tr>\n",
       "  </thead>\n",
       "  <tbody>\n",
       "    <tr>\n",
       "      <th>john</th>\n",
       "      <td>john77</td>\n",
       "      <td>johnson@gmail.com</td>\n",
       "    </tr>\n",
       "    <tr>\n",
       "      <th>max</th>\n",
       "      <td>jax</td>\n",
       "      <td>maxjohnson@gmail.com</td>\n",
       "    </tr>\n",
       "    <tr>\n",
       "      <th>kate</th>\n",
       "      <td>cathy</td>\n",
       "      <td>katecathy@gmail.com</td>\n",
       "    </tr>\n",
       "    <tr>\n",
       "      <th>sally</th>\n",
       "      <td>sally112</td>\n",
       "      <td>sally112@gmail.com</td>\n",
       "    </tr>\n",
       "  </tbody>\n",
       "</table>\n",
       "</div>"
      ],
      "text/plain": [
       "       username                 email\n",
       "john     john77     johnson@gmail.com\n",
       "max         jax  maxjohnson@gmail.com\n",
       "kate      cathy   katecathy@gmail.com\n",
       "sally  sally112    sally112@gmail.com"
      ]
     },
     "execution_count": 14,
     "metadata": {},
     "output_type": "execute_result"
    }
   ],
   "source": [
    "df"
   ]
  },
  {
   "cell_type": "code",
   "execution_count": 15,
   "id": "26c27664-d086-42e7-8204-8deebacec45a",
   "metadata": {},
   "outputs": [
    {
     "data": {
      "text/plain": [
       "Index(['john', 'max', 'kate', 'sally'], dtype='object')"
      ]
     },
     "execution_count": 15,
     "metadata": {},
     "output_type": "execute_result"
    }
   ],
   "source": [
    "df1.index"
   ]
  },
  {
   "cell_type": "code",
   "execution_count": 16,
   "id": "3a10b5ba-a10c-4f30-9f2d-d22b2a291b2d",
   "metadata": {},
   "outputs": [],
   "source": [
    "arr  = ['john', 'max', 'kate', 'sally']"
   ]
  },
  {
   "cell_type": "code",
   "execution_count": 17,
   "id": "2f742084-e4c4-44a8-8d2f-61cdf4b2eb6a",
   "metadata": {},
   "outputs": [
    {
     "data": {
      "text/plain": [
       "'john'"
      ]
     },
     "execution_count": 17,
     "metadata": {},
     "output_type": "execute_result"
    }
   ],
   "source": [
    "arr[0]"
   ]
  },
  {
   "cell_type": "code",
   "execution_count": 27,
   "id": "f54dc365-adeb-4e07-8f3e-262ffdc6aefa",
   "metadata": {},
   "outputs": [],
   "source": [
    "data2 = {\n",
    "    \n",
    "    'username':{'john':'john22',\n",
    "                'max':'jax2', \n",
    "                'kate':'kathy',\n",
    "                'sally':'silly'},\n",
    "    'gmail':{'john':'john22@gmail.com',\n",
    "             'max':'jax222@gmail.com',\n",
    "             'kate':'katecathy22@gmail.com',\n",
    "             'sally': 'sally22@gmail.com'}\n",
    "}"
   ]
  },
  {
   "cell_type": "code",
   "execution_count": 28,
   "id": "06701767-bbd3-463f-bfce-47b7d1abc97a",
   "metadata": {},
   "outputs": [
    {
     "data": {
      "text/plain": [
       "{'username': {'john': 'john22',\n",
       "  'max': 'jax2',\n",
       "  'kate': 'kathy',\n",
       "  'sally': 'silly'},\n",
       " 'gmail': {'john': 'john22@gmail.com',\n",
       "  'max': 'jax222@gmail.com',\n",
       "  'kate': 'katecathy22@gmail.com',\n",
       "  'sally': 'sally22@gmail.com'}}"
      ]
     },
     "execution_count": 28,
     "metadata": {},
     "output_type": "execute_result"
    }
   ],
   "source": [
    "data2"
   ]
  },
  {
   "cell_type": "code",
   "execution_count": 29,
   "id": "cd2c5890-6732-43b8-8105-128c5da43fa4",
   "metadata": {},
   "outputs": [
    {
     "data": {
      "text/html": [
       "<div>\n",
       "<style scoped>\n",
       "    .dataframe tbody tr th:only-of-type {\n",
       "        vertical-align: middle;\n",
       "    }\n",
       "\n",
       "    .dataframe tbody tr th {\n",
       "        vertical-align: top;\n",
       "    }\n",
       "\n",
       "    .dataframe thead th {\n",
       "        text-align: right;\n",
       "    }\n",
       "</style>\n",
       "<table border=\"1\" class=\"dataframe\">\n",
       "  <thead>\n",
       "    <tr style=\"text-align: right;\">\n",
       "      <th></th>\n",
       "      <th>username</th>\n",
       "      <th>gmail</th>\n",
       "    </tr>\n",
       "  </thead>\n",
       "  <tbody>\n",
       "    <tr>\n",
       "      <th>john</th>\n",
       "      <td>john22</td>\n",
       "      <td>john22@gmail.com</td>\n",
       "    </tr>\n",
       "    <tr>\n",
       "      <th>max</th>\n",
       "      <td>jax2</td>\n",
       "      <td>jax222@gmail.com</td>\n",
       "    </tr>\n",
       "    <tr>\n",
       "      <th>kate</th>\n",
       "      <td>kathy</td>\n",
       "      <td>katecathy22@gmail.com</td>\n",
       "    </tr>\n",
       "    <tr>\n",
       "      <th>sally</th>\n",
       "      <td>silly</td>\n",
       "      <td>sally22@gmail.com</td>\n",
       "    </tr>\n",
       "  </tbody>\n",
       "</table>\n",
       "</div>"
      ],
      "text/plain": [
       "      username                  gmail\n",
       "john    john22       john22@gmail.com\n",
       "max       jax2       jax222@gmail.com\n",
       "kate     kathy  katecathy22@gmail.com\n",
       "sally    silly      sally22@gmail.com"
      ]
     },
     "execution_count": 29,
     "metadata": {},
     "output_type": "execute_result"
    }
   ],
   "source": [
    "pd.DataFrame(data2)"
   ]
  },
  {
   "cell_type": "code",
   "execution_count": 49,
   "id": "128b6583-5655-4f2b-bf4c-e80b6f383240",
   "metadata": {},
   "outputs": [],
   "source": [
    "fd = pd.DataFrame(data2)"
   ]
  },
  {
   "cell_type": "code",
   "execution_count": 51,
   "id": "0b78753e-ce11-4229-8113-a189f35c27c9",
   "metadata": {},
   "outputs": [
    {
     "data": {
      "text/html": [
       "<div>\n",
       "<style scoped>\n",
       "    .dataframe tbody tr th:only-of-type {\n",
       "        vertical-align: middle;\n",
       "    }\n",
       "\n",
       "    .dataframe tbody tr th {\n",
       "        vertical-align: top;\n",
       "    }\n",
       "\n",
       "    .dataframe thead th {\n",
       "        text-align: right;\n",
       "    }\n",
       "</style>\n",
       "<table border=\"1\" class=\"dataframe\">\n",
       "  <thead>\n",
       "    <tr style=\"text-align: right;\">\n",
       "      <th></th>\n",
       "      <th>username</th>\n",
       "      <th>gmail</th>\n",
       "    </tr>\n",
       "  </thead>\n",
       "  <tbody>\n",
       "    <tr>\n",
       "      <th>john</th>\n",
       "      <td>john22</td>\n",
       "      <td>john22@gmail.com</td>\n",
       "    </tr>\n",
       "    <tr>\n",
       "      <th>max</th>\n",
       "      <td>jax2</td>\n",
       "      <td>jax222@gmail.com</td>\n",
       "    </tr>\n",
       "    <tr>\n",
       "      <th>kate</th>\n",
       "      <td>kathy</td>\n",
       "      <td>katecathy22@gmail.com</td>\n",
       "    </tr>\n",
       "    <tr>\n",
       "      <th>sally</th>\n",
       "      <td>silly</td>\n",
       "      <td>sally22@gmail.com</td>\n",
       "    </tr>\n",
       "  </tbody>\n",
       "</table>\n",
       "</div>"
      ],
      "text/plain": [
       "      username                  gmail\n",
       "john    john22       john22@gmail.com\n",
       "max       jax2       jax222@gmail.com\n",
       "kate     kathy  katecathy22@gmail.com\n",
       "sally    silly      sally22@gmail.com"
      ]
     },
     "execution_count": 51,
     "metadata": {},
     "output_type": "execute_result"
    }
   ],
   "source": [
    "pd.DataFrame(fd)"
   ]
  },
  {
   "cell_type": "code",
   "execution_count": 44,
   "id": "2cca5d60-a85f-4724-baa9-fa73e3480e18",
   "metadata": {},
   "outputs": [],
   "source": [
    "newind = pd.Index(['max', 'Jacob', 'sally'])"
   ]
  },
  {
   "cell_type": "code",
   "execution_count": 45,
   "id": "af17cafc-8571-4a13-80be-5354e9818b91",
   "metadata": {},
   "outputs": [
    {
     "data": {
      "text/plain": [
       "Index(['max', 'Jacob', 'sally'], dtype='object')"
      ]
     },
     "execution_count": 45,
     "metadata": {},
     "output_type": "execute_result"
    }
   ],
   "source": [
    "newind"
   ]
  },
  {
   "cell_type": "code",
   "execution_count": 46,
   "id": "5eabed55-d679-4c2c-8bc5-0e90ab2c09e3",
   "metadata": {},
   "outputs": [
    {
     "data": {
      "text/plain": [
       "array([ True, False,  True])"
      ]
     },
     "execution_count": 46,
     "metadata": {},
     "output_type": "execute_result"
    }
   ],
   "source": [
    "newind.isin(df.index)"
   ]
  },
  {
   "cell_type": "code",
   "execution_count": 53,
   "id": "78a66587-4bfc-495d-8ee9-46f1046f3824",
   "metadata": {},
   "outputs": [
    {
     "data": {
      "text/plain": [
       "Index(['john', 'kate'], dtype='object')"
      ]
     },
     "execution_count": 53,
     "metadata": {},
     "output_type": "execute_result"
    }
   ],
   "source": [
    "fd.index.difference (newind)"
   ]
  },
  {
   "cell_type": "code",
   "execution_count": 54,
   "id": "978afc4a-40be-4394-9cd9-9bf0beb49029",
   "metadata": {},
   "outputs": [
    {
     "data": {
      "text/plain": [
       "Index(['Jacob'], dtype='object')"
      ]
     },
     "execution_count": 54,
     "metadata": {},
     "output_type": "execute_result"
    }
   ],
   "source": [
    "newind.difference(fd.index)"
   ]
  },
  {
   "cell_type": "code",
   "execution_count": 55,
   "id": "6e299abe-4608-4d6b-9ff7-fddee892b2eb",
   "metadata": {},
   "outputs": [
    {
     "data": {
      "text/plain": [
       "Index(['Jacob', 'john', 'kate', 'max', 'sally'], dtype='object')"
      ]
     },
     "execution_count": 55,
     "metadata": {},
     "output_type": "execute_result"
    }
   ],
   "source": [
    "fd.index.union(newind)"
   ]
  },
  {
   "cell_type": "code",
   "execution_count": 56,
   "id": "ba90e00c-305f-4e46-8ec1-87db9380b33d",
   "metadata": {},
   "outputs": [
    {
     "data": {
      "text/plain": [
       "Index(['max', 'kate', 'sally'], dtype='object')"
      ]
     },
     "execution_count": 56,
     "metadata": {},
     "output_type": "execute_result"
    }
   ],
   "source": [
    "fd.index.delete(0)"
   ]
  },
  {
   "cell_type": "code",
   "execution_count": 57,
   "id": "c49623b1-dd2f-4abf-b131-0b71b799832f",
   "metadata": {},
   "outputs": [
    {
     "data": {
      "text/html": [
       "<div>\n",
       "<style scoped>\n",
       "    .dataframe tbody tr th:only-of-type {\n",
       "        vertical-align: middle;\n",
       "    }\n",
       "\n",
       "    .dataframe tbody tr th {\n",
       "        vertical-align: top;\n",
       "    }\n",
       "\n",
       "    .dataframe thead th {\n",
       "        text-align: right;\n",
       "    }\n",
       "</style>\n",
       "<table border=\"1\" class=\"dataframe\">\n",
       "  <thead>\n",
       "    <tr style=\"text-align: right;\">\n",
       "      <th></th>\n",
       "      <th>username</th>\n",
       "      <th>gmail</th>\n",
       "    </tr>\n",
       "  </thead>\n",
       "  <tbody>\n",
       "    <tr>\n",
       "      <th>john</th>\n",
       "      <td>john22</td>\n",
       "      <td>john22@gmail.com</td>\n",
       "    </tr>\n",
       "    <tr>\n",
       "      <th>max</th>\n",
       "      <td>jax2</td>\n",
       "      <td>jax222@gmail.com</td>\n",
       "    </tr>\n",
       "    <tr>\n",
       "      <th>kate</th>\n",
       "      <td>kathy</td>\n",
       "      <td>katecathy22@gmail.com</td>\n",
       "    </tr>\n",
       "    <tr>\n",
       "      <th>sally</th>\n",
       "      <td>silly</td>\n",
       "      <td>sally22@gmail.com</td>\n",
       "    </tr>\n",
       "  </tbody>\n",
       "</table>\n",
       "</div>"
      ],
      "text/plain": [
       "      username                  gmail\n",
       "john    john22       john22@gmail.com\n",
       "max       jax2       jax222@gmail.com\n",
       "kate     kathy  katecathy22@gmail.com\n",
       "sally    silly      sally22@gmail.com"
      ]
     },
     "execution_count": 57,
     "metadata": {},
     "output_type": "execute_result"
    }
   ],
   "source": [
    "fd"
   ]
  },
  {
   "cell_type": "code",
   "execution_count": 60,
   "id": "e5371f26-21e1-4b0a-8e02-f9d08dcb5db0",
   "metadata": {},
   "outputs": [
    {
     "data": {
      "text/plain": [
       "Index(['Jacob', 'sally'], dtype='object')"
      ]
     },
     "execution_count": 60,
     "metadata": {},
     "output_type": "execute_result"
    }
   ],
   "source": [
    "newind.drop(\"max\")"
   ]
  },
  {
   "cell_type": "code",
   "execution_count": 61,
   "id": "9c272024-2eb0-4efb-a75a-14e54a2ff471",
   "metadata": {},
   "outputs": [
    {
     "data": {
      "text/plain": [
       "Index(['john', 'max', 'kate', 'Gogo', 'sally'], dtype='object')"
      ]
     },
     "execution_count": 61,
     "metadata": {},
     "output_type": "execute_result"
    }
   ],
   "source": [
    "fd.index.insert(3, 'Gogo')"
   ]
  },
  {
   "cell_type": "code",
   "execution_count": 65,
   "id": "907f8c7e-bfff-45c4-aeed-f4462dc953ff",
   "metadata": {},
   "outputs": [
    {
     "ename": "AttributeError",
     "evalue": "'Index' object has no attribute 'is_monotonic'",
     "output_type": "error",
     "traceback": [
      "\u001b[0;31m---------------------------------------------------------------------------\u001b[0m",
      "\u001b[0;31mAttributeError\u001b[0m                            Traceback (most recent call last)",
      "Cell \u001b[0;32mIn[65], line 1\u001b[0m\n\u001b[0;32m----> 1\u001b[0m \u001b[43mfd\u001b[49m\u001b[38;5;241;43m.\u001b[39;49m\u001b[43mindex\u001b[49m\u001b[38;5;241;43m.\u001b[39;49m\u001b[43mis_monotonic\u001b[49m\n",
      "\u001b[0;31mAttributeError\u001b[0m: 'Index' object has no attribute 'is_monotonic'"
     ]
    }
   ],
   "source": [
    "fd.index.is_monotonic"
   ]
  },
  {
   "cell_type": "code",
   "execution_count": 66,
   "id": "be96b211-0bb1-4505-9293-f50f1feb6cd1",
   "metadata": {},
   "outputs": [
    {
     "data": {
      "text/plain": [
       "True"
      ]
     },
     "execution_count": 66,
     "metadata": {},
     "output_type": "execute_result"
    }
   ],
   "source": [
    "fd.index.is_unique"
   ]
  },
  {
   "cell_type": "code",
   "execution_count": 67,
   "id": "00ace7a4-dad4-4bd5-841c-5490fe2a2df7",
   "metadata": {},
   "outputs": [
    {
     "data": {
      "text/html": [
       "<div>\n",
       "<style scoped>\n",
       "    .dataframe tbody tr th:only-of-type {\n",
       "        vertical-align: middle;\n",
       "    }\n",
       "\n",
       "    .dataframe tbody tr th {\n",
       "        vertical-align: top;\n",
       "    }\n",
       "\n",
       "    .dataframe thead th {\n",
       "        text-align: right;\n",
       "    }\n",
       "</style>\n",
       "<table border=\"1\" class=\"dataframe\">\n",
       "  <thead>\n",
       "    <tr style=\"text-align: right;\">\n",
       "      <th></th>\n",
       "      <th>username</th>\n",
       "      <th>gmail</th>\n",
       "    </tr>\n",
       "  </thead>\n",
       "  <tbody>\n",
       "    <tr>\n",
       "      <th>john</th>\n",
       "      <td>john22</td>\n",
       "      <td>john22@gmail.com</td>\n",
       "    </tr>\n",
       "    <tr>\n",
       "      <th>max</th>\n",
       "      <td>jax2</td>\n",
       "      <td>jax222@gmail.com</td>\n",
       "    </tr>\n",
       "    <tr>\n",
       "      <th>kate</th>\n",
       "      <td>kathy</td>\n",
       "      <td>katecathy22@gmail.com</td>\n",
       "    </tr>\n",
       "    <tr>\n",
       "      <th>sally</th>\n",
       "      <td>silly</td>\n",
       "      <td>sally22@gmail.com</td>\n",
       "    </tr>\n",
       "  </tbody>\n",
       "</table>\n",
       "</div>"
      ],
      "text/plain": [
       "      username                  gmail\n",
       "john    john22       john22@gmail.com\n",
       "max       jax2       jax222@gmail.com\n",
       "kate     kathy  katecathy22@gmail.com\n",
       "sally    silly      sally22@gmail.com"
      ]
     },
     "execution_count": 67,
     "metadata": {},
     "output_type": "execute_result"
    }
   ],
   "source": [
    "fd"
   ]
  },
  {
   "cell_type": "code",
   "execution_count": 68,
   "id": "07a48c96-5f68-4afd-b082-cb18fefe36be",
   "metadata": {},
   "outputs": [
    {
     "data": {
      "text/plain": [
       "Index(['john', 'max', 'kate', 'sally'], dtype='object')"
      ]
     },
     "execution_count": 68,
     "metadata": {},
     "output_type": "execute_result"
    }
   ],
   "source": [
    "fd.index.unique()"
   ]
  },
  {
   "cell_type": "code",
   "execution_count": null,
   "id": "bf8e8ac7-b661-438d-8906-51870ae2921b",
   "metadata": {},
   "outputs": [],
   "source": []
  }
 ],
 "metadata": {
  "kernelspec": {
   "display_name": "Python 3 (ipykernel)",
   "language": "python",
   "name": "python3"
  },
  "language_info": {
   "codemirror_mode": {
    "name": "ipython",
    "version": 3
   },
   "file_extension": ".py",
   "mimetype": "text/x-python",
   "name": "python",
   "nbconvert_exporter": "python",
   "pygments_lexer": "ipython3",
   "version": "3.10.12"
  },
  "widgets": {
   "application/vnd.jupyter.widget-state+json": {
    "state": {},
    "version_major": 2,
    "version_minor": 0
   }
  }
 },
 "nbformat": 4,
 "nbformat_minor": 5
}
