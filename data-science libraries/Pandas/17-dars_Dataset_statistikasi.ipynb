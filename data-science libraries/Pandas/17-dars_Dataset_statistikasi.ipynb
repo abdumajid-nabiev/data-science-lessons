{
 "cells": [
  {
   "cell_type": "code",
   "execution_count": 1,
   "id": "f47dd9d4-24f7-4561-86a2-9d765dbb5055",
   "metadata": {
    "tags": []
   },
   "outputs": [],
   "source": [
    "import numpy as np\n",
    "import pandas as pd"
   ]
  },
  {
   "cell_type": "code",
   "execution_count": 2,
   "id": "f40a7e26-039f-4fd7-a7db-826ae27d9e33",
   "metadata": {
    "tags": []
   },
   "outputs": [
    {
     "data": {
      "text/html": [
       "<div>\n",
       "<style scoped>\n",
       "    .dataframe tbody tr th:only-of-type {\n",
       "        vertical-align: middle;\n",
       "    }\n",
       "\n",
       "    .dataframe tbody tr th {\n",
       "        vertical-align: top;\n",
       "    }\n",
       "\n",
       "    .dataframe thead th {\n",
       "        text-align: right;\n",
       "    }\n",
       "</style>\n",
       "<table border=\"1\" class=\"dataframe\">\n",
       "  <thead>\n",
       "    <tr style=\"text-align: right;\">\n",
       "      <th></th>\n",
       "      <th>maydoni</th>\n",
       "      <th>aholisi</th>\n",
       "    </tr>\n",
       "    <tr>\n",
       "      <th>Boʻlinishi</th>\n",
       "      <th></th>\n",
       "      <th></th>\n",
       "    </tr>\n",
       "  </thead>\n",
       "  <tbody>\n",
       "    <tr>\n",
       "      <th>Andijon viloyati</th>\n",
       "      <td>4200.0</td>\n",
       "      <td>1899000.0</td>\n",
       "    </tr>\n",
       "    <tr>\n",
       "      <th>Buxoro viloyati</th>\n",
       "      <td>39400.0</td>\n",
       "      <td>1384700.0</td>\n",
       "    </tr>\n",
       "    <tr>\n",
       "      <th>Fargʻona viloyati</th>\n",
       "      <td>6800.0</td>\n",
       "      <td>2597000.0</td>\n",
       "    </tr>\n",
       "    <tr>\n",
       "      <th>Jizzax viloyati</th>\n",
       "      <td>20500.0</td>\n",
       "      <td>910500.0</td>\n",
       "    </tr>\n",
       "    <tr>\n",
       "      <th>Xorazm viloyati</th>\n",
       "      <td>6300.0</td>\n",
       "      <td>1200000.0</td>\n",
       "    </tr>\n",
       "    <tr>\n",
       "      <th>Namangan viloyati</th>\n",
       "      <td>7900.0</td>\n",
       "      <td>1862000.0</td>\n",
       "    </tr>\n",
       "    <tr>\n",
       "      <th>Navoiy viloyati</th>\n",
       "      <td>110800.0</td>\n",
       "      <td>767500.0</td>\n",
       "    </tr>\n",
       "    <tr>\n",
       "      <th>Qashqadaryo viloyati</th>\n",
       "      <td>28400.0</td>\n",
       "      <td>2029000.0</td>\n",
       "    </tr>\n",
       "    <tr>\n",
       "      <th>Qoraqalpogʻiston Respublikasi</th>\n",
       "      <td>160000.0</td>\n",
       "      <td>1200000.0</td>\n",
       "    </tr>\n",
       "    <tr>\n",
       "      <th>Samarqand viloyati</th>\n",
       "      <td>16400.0</td>\n",
       "      <td>2322000.0</td>\n",
       "    </tr>\n",
       "    <tr>\n",
       "      <th>Sirdaryo viloyati</th>\n",
       "      <td>5100.0</td>\n",
       "      <td>648100.0</td>\n",
       "    </tr>\n",
       "    <tr>\n",
       "      <th>Surxondaryo viloyati</th>\n",
       "      <td>20800.0</td>\n",
       "      <td>1676000.0</td>\n",
       "    </tr>\n",
       "    <tr>\n",
       "      <th>Toshkent viloyati</th>\n",
       "      <td>15300.0</td>\n",
       "      <td>4450000.0</td>\n",
       "    </tr>\n",
       "  </tbody>\n",
       "</table>\n",
       "</div>"
      ],
      "text/plain": [
       "                                maydoni    aholisi\n",
       "Boʻlinishi                                        \n",
       "Andijon viloyati                 4200.0  1899000.0\n",
       "Buxoro viloyati                 39400.0  1384700.0\n",
       "Fargʻona viloyati                6800.0  2597000.0\n",
       "Jizzax viloyati                 20500.0   910500.0\n",
       "Xorazm viloyati                  6300.0  1200000.0\n",
       "Namangan viloyati                7900.0  1862000.0\n",
       "Navoiy viloyati                110800.0   767500.0\n",
       "Qashqadaryo viloyati            28400.0  2029000.0\n",
       "Qoraqalpogʻiston Respublikasi  160000.0  1200000.0\n",
       "Samarqand viloyati              16400.0  2322000.0\n",
       "Sirdaryo viloyati                5100.0   648100.0\n",
       "Surxondaryo viloyati            20800.0  1676000.0\n",
       "Toshkent viloyati               15300.0  4450000.0"
      ]
     },
     "execution_count": 2,
     "metadata": {},
     "output_type": "execute_result"
    }
   ],
   "source": [
    "# Keyingi mashqlar uchun ma'lumotlarni Githubdan yuklab olamiz\n",
    "df = pd.read_csv('https://raw.githubusercontent.com/anvarnarz/praktikum_datasets/main/uzbekistan.csv', index_col=0)\n",
    "df.columns = ['maydoni','aholisi']\n",
    "df"
   ]
  },
  {
   "cell_type": "code",
   "execution_count": 3,
   "id": "22930521-ff1d-47fa-aaa8-c115a7776def",
   "metadata": {
    "tags": []
   },
   "outputs": [
    {
     "data": {
      "text/plain": [
       "maydoni      441900.0\n",
       "aholisi    22945800.0\n",
       "dtype: float64"
      ]
     },
     "execution_count": 3,
     "metadata": {},
     "output_type": "execute_result"
    }
   ],
   "source": [
    "df.sum()"
   ]
  },
  {
   "cell_type": "code",
   "execution_count": 4,
   "id": "4207408a-242c-4aa5-a397-5d4156d44658",
   "metadata": {
    "tags": []
   },
   "outputs": [
    {
     "data": {
      "text/html": [
       "<div>\n",
       "<style scoped>\n",
       "    .dataframe tbody tr th:only-of-type {\n",
       "        vertical-align: middle;\n",
       "    }\n",
       "\n",
       "    .dataframe tbody tr th {\n",
       "        vertical-align: top;\n",
       "    }\n",
       "\n",
       "    .dataframe thead th {\n",
       "        text-align: right;\n",
       "    }\n",
       "</style>\n",
       "<table border=\"1\" class=\"dataframe\">\n",
       "  <thead>\n",
       "    <tr style=\"text-align: right;\">\n",
       "      <th></th>\n",
       "      <th>2020</th>\n",
       "      <th>2021</th>\n",
       "    </tr>\n",
       "  </thead>\n",
       "  <tbody>\n",
       "    <tr>\n",
       "      <th>Labo</th>\n",
       "      <td>4521</td>\n",
       "      <td>7542</td>\n",
       "    </tr>\n",
       "    <tr>\n",
       "      <th>Damas</th>\n",
       "      <td>30889</td>\n",
       "      <td>33682</td>\n",
       "    </tr>\n",
       "    <tr>\n",
       "      <th>Spark</th>\n",
       "      <td>16370</td>\n",
       "      <td>6485</td>\n",
       "    </tr>\n",
       "    <tr>\n",
       "      <th>Nexia</th>\n",
       "      <td>41663</td>\n",
       "      <td>14442</td>\n",
       "    </tr>\n",
       "    <tr>\n",
       "      <th>Cobalt</th>\n",
       "      <td>44901</td>\n",
       "      <td>36317</td>\n",
       "    </tr>\n",
       "  </tbody>\n",
       "</table>\n",
       "</div>"
      ],
      "text/plain": [
       "         2020   2021\n",
       "Labo     4521   7542\n",
       "Damas   30889  33682\n",
       "Spark   16370   6485\n",
       "Nexia   41663  14442\n",
       "Cobalt  44901  36317"
      ]
     },
     "execution_count": 4,
     "metadata": {},
     "output_type": "execute_result"
    }
   ],
   "source": [
    "df2 = pd.read_csv(\"https://raw.githubusercontent.com/anvarnarz/praktikum_datasets/main/gm_sales.csv\", index_col=0)\n",
    "df2.head()"
   ]
  },
  {
   "cell_type": "code",
   "execution_count": 5,
   "id": "d5c8455e-8069-4092-ab55-d3de4987d12f",
   "metadata": {
    "tags": []
   },
   "outputs": [
    {
     "data": {
      "text/plain": [
       "2020    168712\n",
       "2021    124734\n",
       "dtype: int64"
      ]
     },
     "execution_count": 5,
     "metadata": {},
     "output_type": "execute_result"
    }
   ],
   "source": [
    "df2.sum()"
   ]
  },
  {
   "cell_type": "code",
   "execution_count": 6,
   "id": "44def917-d401-409e-8bca-b18b55b10731",
   "metadata": {
    "tags": []
   },
   "outputs": [
    {
     "data": {
      "text/plain": [
       "Labo      12063\n",
       "Damas     64571\n",
       "Spark     22855\n",
       "Nexia     56105\n",
       "Cobalt    81218\n",
       "Gentra    56634\n",
       "dtype: int64"
      ]
     },
     "execution_count": 6,
     "metadata": {},
     "output_type": "execute_result"
    }
   ],
   "source": [
    "df2.sum(axis=1)"
   ]
  },
  {
   "cell_type": "code",
   "execution_count": 7,
   "id": "838c44ec-7664-450a-9d39-1f6bc5c9739a",
   "metadata": {
    "tags": []
   },
   "outputs": [
    {
     "data": {
      "text/plain": [
       "Labo      12063\n",
       "Damas     64571\n",
       "Spark     22855\n",
       "Nexia     56105\n",
       "Cobalt    81218\n",
       "Gentra    56634\n",
       "dtype: int64"
      ]
     },
     "execution_count": 7,
     "metadata": {},
     "output_type": "execute_result"
    }
   ],
   "source": [
    "df2.sum('columns')"
   ]
  },
  {
   "cell_type": "code",
   "execution_count": 9,
   "id": "0f22f6a5-5c9d-43ca-b309-eb3ff4726b55",
   "metadata": {
    "tags": []
   },
   "outputs": [
    {
     "data": {
      "text/plain": [
       "Labo       6031.5\n",
       "Damas     32285.5\n",
       "Spark     11427.5\n",
       "Nexia     28052.5\n",
       "Cobalt    40609.0\n",
       "Gentra    28317.0\n",
       "dtype: float64"
      ]
     },
     "execution_count": 9,
     "metadata": {},
     "output_type": "execute_result"
    }
   ],
   "source": [
    "df2.mean(axis=1)"
   ]
  },
  {
   "cell_type": "code",
   "execution_count": 10,
   "id": "17c0c9b6-941f-4b05-bf7c-cc3fd9def36a",
   "metadata": {
    "tags": []
   },
   "outputs": [
    {
     "data": {
      "text/plain": [
       "2020    168712\n",
       "2021    124734\n",
       "dtype: int64"
      ]
     },
     "execution_count": 10,
     "metadata": {},
     "output_type": "execute_result"
    }
   ],
   "source": [
    "df2.sum()"
   ]
  },
  {
   "cell_type": "code",
   "execution_count": 11,
   "id": "2519ad3c-aeda-43a5-99f4-b53a2001968b",
   "metadata": {
    "tags": []
   },
   "outputs": [
    {
     "data": {
      "text/plain": [
       "maydoni    3.399231e+04\n",
       "aholisi    1.765062e+06\n",
       "dtype: float64"
      ]
     },
     "execution_count": 11,
     "metadata": {},
     "output_type": "execute_result"
    }
   ],
   "source": [
    "df.mean()"
   ]
  },
  {
   "cell_type": "markdown",
   "id": "ab573da3-1350-446e-b2fd-1e718095de1f",
   "metadata": {},
   "source": [
    "Boshqa funksiyalar\n",
    "\n",
    "`count` - NaN bo'lmagan qiymatlar soni\n",
    "\n",
    "`median` - qiymatlar medianini hisbolash\n",
    "\n",
    "`mad` - mean absolute deviation\n",
    "\n",
    "`prod` - barcha qiymatlar ko'paytmasi\n",
    "\n",
    "`var` - variance (dispersiya)\n",
    "\n",
    "`std` - standart deviation (standart chetlanis)\n",
    "\n",
    "`skew` - skewness\n",
    "\n",
    "`kurt` - kurtosis\n",
    "\n",
    "`cumsum` - cumulative sum\n",
    "\n",
    "`cummin` va `cummax`- cumulative min and max\n",
    "\n",
    "`cumprod` - cumulative product\n",
    "\n",
    "`diff` - arifmetik farq (difference)\n",
    "\n",
    "`pct_change` - percent changes"
   ]
  },
  {
   "cell_type": "code",
   "execution_count": 13,
   "id": "c2bd0ad4-dbe0-43d3-a216-d9f5f2e0cb2c",
   "metadata": {
    "tags": []
   },
   "outputs": [
    {
     "data": {
      "text/plain": [
       "maydoni     Andijon viloyati\n",
       "aholisi    Sirdaryo viloyati\n",
       "dtype: object"
      ]
     },
     "execution_count": 13,
     "metadata": {},
     "output_type": "execute_result"
    }
   ],
   "source": [
    "df.idxmin() # indeks bo'yicha minimal qiymatga ega bo'lgan ma'lumotlar"
   ]
  },
  {
   "cell_type": "code",
   "execution_count": 14,
   "id": "5df4b668-6c29-4a88-b44b-e21181d9dbc5",
   "metadata": {
    "tags": []
   },
   "outputs": [
    {
     "data": {
      "text/plain": [
       "maydoni    Qoraqalpogʻiston Respublikasi\n",
       "aholisi                Toshkent viloyati\n",
       "dtype: object"
      ]
     },
     "execution_count": 14,
     "metadata": {},
     "output_type": "execute_result"
    }
   ],
   "source": [
    "df.idxmax()        "
   ]
  },
  {
   "cell_type": "code",
   "execution_count": 15,
   "id": "6c265a6d-42a4-43b5-b57a-f174e2a2fecd",
   "metadata": {
    "tags": []
   },
   "outputs": [
    {
     "data": {
      "text/plain": [
       "'Qoraqalpogʻiston Respublikasi'"
      ]
     },
     "execution_count": 15,
     "metadata": {},
     "output_type": "execute_result"
    }
   ],
   "source": [
    "df['maydoni'].idxmax()"
   ]
  },
  {
   "cell_type": "code",
   "execution_count": 16,
   "id": "f1bdd823-9675-4cff-89e3-61c84977629d",
   "metadata": {
    "tags": []
   },
   "outputs": [
    {
     "data": {
      "text/plain": [
       "'Toshkent viloyati'"
      ]
     },
     "execution_count": 16,
     "metadata": {},
     "output_type": "execute_result"
    }
   ],
   "source": [
    "df['aholisi'].idxmax()"
   ]
  },
  {
   "cell_type": "code",
   "execution_count": 18,
   "id": "a7cb6f7c-312a-49aa-bfaa-511cd3a64afa",
   "metadata": {
    "tags": []
   },
   "outputs": [
    {
     "data": {
      "text/plain": [
       "10"
      ]
     },
     "execution_count": 18,
     "metadata": {},
     "output_type": "execute_result"
    }
   ],
   "source": [
    "df['aholisi'].argmin()  # argmin faqat Series object uchun ishlatiladi"
   ]
  },
  {
   "cell_type": "code",
   "execution_count": 19,
   "id": "c8a0ce04-7200-45f0-8dba-bc7def8eab07",
   "metadata": {
    "tags": []
   },
   "outputs": [
    {
     "data": {
      "text/plain": [
       "12"
      ]
     },
     "execution_count": 19,
     "metadata": {},
     "output_type": "execute_result"
    }
   ],
   "source": [
    "df['aholisi'].argmax()"
   ]
  },
  {
   "cell_type": "code",
   "execution_count": 20,
   "id": "614ab69b-7b0e-49b6-baeb-dc4766318c8d",
   "metadata": {
    "tags": []
   },
   "outputs": [
    {
     "data": {
      "text/plain": [
       "maydoni      15300.0\n",
       "aholisi    4450000.0\n",
       "Name: Toshkent viloyati, dtype: float64"
      ]
     },
     "execution_count": 20,
     "metadata": {},
     "output_type": "execute_result"
    }
   ],
   "source": [
    "df.iloc[12]"
   ]
  },
  {
   "cell_type": "code",
   "execution_count": null,
   "id": "bdce3632-3081-483b-9816-ce22d5ddf2ca",
   "metadata": {},
   "outputs": [],
   "source": []
  }
 ],
 "metadata": {
  "kernelspec": {
   "display_name": "Python 3 (ipykernel)",
   "language": "python",
   "name": "python3"
  },
  "language_info": {
   "codemirror_mode": {
    "name": "ipython",
    "version": 3
   },
   "file_extension": ".py",
   "mimetype": "text/x-python",
   "name": "python",
   "nbconvert_exporter": "python",
   "pygments_lexer": "ipython3",
   "version": "3.10.12"
  },
  "widgets": {
   "application/vnd.jupyter.widget-state+json": {
    "state": {},
    "version_major": 2,
    "version_minor": 0
   }
  }
 },
 "nbformat": 4,
 "nbformat_minor": 5
}
