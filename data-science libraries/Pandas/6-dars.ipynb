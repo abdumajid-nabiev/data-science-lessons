{
 "cells": [
  {
   "cell_type": "markdown",
   "id": "8d19fb1c-19c7-4d3e-961f-5a6b154444b9",
   "metadata": {},
   "source": [
    "# 6-dars: Indekslar"
   ]
  },
  {
   "cell_type": "code",
   "execution_count": 1,
   "id": "906c566a-19e1-49a7-baba-a0ba7f3f4c6f",
   "metadata": {},
   "outputs": [],
   "source": [
    "import numpy as np"
   ]
  },
  {
   "cell_type": "code",
   "execution_count": 2,
   "id": "bb84f94f-e9be-482f-8501-462913bf994f",
   "metadata": {},
   "outputs": [],
   "source": [
    "import pandas as pd"
   ]
  },
  {
   "cell_type": "code",
   "execution_count": 4,
   "id": "a678f43b-1e54-46e0-a858-7a3ab8d6b170",
   "metadata": {},
   "outputs": [],
   "source": [
    "from pandas import Series"
   ]
  },
  {
   "cell_type": "code",
   "execution_count": null,
   "id": "67f674c0-b9a1-4050-a9c3-4d06db3c46af",
   "metadata": {},
   "outputs": [],
   "source": []
  },
  {
   "cell_type": "code",
   "execution_count": 5,
   "id": "39ad8bd5-fbd1-4e77-9ce8-28bfefdd373c",
   "metadata": {},
   "outputs": [],
   "source": [
    "data = {\n",
    "'Uzbekistan':{2010:32, 2011:33, 2012:34, 2013:35},\n",
    "'Pakistan':{2010:10, 2011:11, 2012:12, 2013:13}\n",
    "}\n",
    "df = pd.DataFrame(data)"
   ]
  },
  {
   "cell_type": "code",
   "execution_count": 7,
   "id": "a495909c-2b7f-4f60-94a0-383d0097eefd",
   "metadata": {},
   "outputs": [
    {
     "data": {
      "text/html": [
       "<div>\n",
       "<style scoped>\n",
       "    .dataframe tbody tr th:only-of-type {\n",
       "        vertical-align: middle;\n",
       "    }\n",
       "\n",
       "    .dataframe tbody tr th {\n",
       "        vertical-align: top;\n",
       "    }\n",
       "\n",
       "    .dataframe thead th {\n",
       "        text-align: right;\n",
       "    }\n",
       "</style>\n",
       "<table border=\"1\" class=\"dataframe\">\n",
       "  <thead>\n",
       "    <tr style=\"text-align: right;\">\n",
       "      <th></th>\n",
       "      <th>Uzbekistan</th>\n",
       "      <th>Pakistan</th>\n",
       "    </tr>\n",
       "  </thead>\n",
       "  <tbody>\n",
       "    <tr>\n",
       "      <th>2010</th>\n",
       "      <td>32</td>\n",
       "      <td>10</td>\n",
       "    </tr>\n",
       "    <tr>\n",
       "      <th>2011</th>\n",
       "      <td>33</td>\n",
       "      <td>11</td>\n",
       "    </tr>\n",
       "    <tr>\n",
       "      <th>2012</th>\n",
       "      <td>34</td>\n",
       "      <td>12</td>\n",
       "    </tr>\n",
       "    <tr>\n",
       "      <th>2013</th>\n",
       "      <td>35</td>\n",
       "      <td>13</td>\n",
       "    </tr>\n",
       "  </tbody>\n",
       "</table>\n",
       "</div>"
      ],
      "text/plain": [
       "      Uzbekistan  Pakistan\n",
       "2010          32        10\n",
       "2011          33        11\n",
       "2012          34        12\n",
       "2013          35        13"
      ]
     },
     "execution_count": 7,
     "metadata": {},
     "output_type": "execute_result"
    }
   ],
   "source": [
    "df"
   ]
  },
  {
   "cell_type": "code",
   "execution_count": 8,
   "id": "66c2b416-1e6f-470c-aa44-68bbd442f2bf",
   "metadata": {},
   "outputs": [
    {
     "data": {
      "text/plain": [
       "Index([2010, 2011, 2012, 2013], dtype='int64')"
      ]
     },
     "execution_count": 8,
     "metadata": {},
     "output_type": "execute_result"
    }
   ],
   "source": [
    "df.index"
   ]
  },
  {
   "cell_type": "code",
   "execution_count": 9,
   "id": "3757631d-2ea3-4023-899a-8cf1af292d76",
   "metadata": {},
   "outputs": [
    {
     "data": {
      "text/plain": [
       "Index(['Uzbekistan', 'Pakistan'], dtype='object')"
      ]
     },
     "execution_count": 9,
     "metadata": {},
     "output_type": "execute_result"
    }
   ],
   "source": [
    "df.columns"
   ]
  },
  {
   "cell_type": "code",
   "execution_count": 10,
   "id": "f40299d2-73fb-4b16-807d-f92c1aae4103",
   "metadata": {},
   "outputs": [],
   "source": [
    "indeks = df.columns"
   ]
  },
  {
   "cell_type": "code",
   "execution_count": 11,
   "id": "d42121de-11dd-444f-b625-1aa93a0d547f",
   "metadata": {},
   "outputs": [
    {
     "data": {
      "text/plain": [
       "Index(['Uzbekistan', 'Pakistan'], dtype='object')"
      ]
     },
     "execution_count": 11,
     "metadata": {},
     "output_type": "execute_result"
    }
   ],
   "source": [
    "indeks"
   ]
  },
  {
   "cell_type": "code",
   "execution_count": 12,
   "id": "f053be1b-47b4-452b-a60a-1f85adc2caa6",
   "metadata": {},
   "outputs": [
    {
     "data": {
      "text/plain": [
       "True"
      ]
     },
     "execution_count": 12,
     "metadata": {},
     "output_type": "execute_result"
    }
   ],
   "source": [
    "'Pakistan' in indeks"
   ]
  },
  {
   "cell_type": "code",
   "execution_count": 13,
   "id": "9a460360-211c-4a4a-81e8-347bfe293d6d",
   "metadata": {},
   "outputs": [
    {
     "data": {
      "text/plain": [
       "False"
      ]
     },
     "execution_count": 13,
     "metadata": {},
     "output_type": "execute_result"
    }
   ],
   "source": [
    "'Kazakiztan' in df.columns"
   ]
  },
  {
   "cell_type": "code",
   "execution_count": 14,
   "id": "d1c1848b-a662-4292-a2ad-91bf4e79a49c",
   "metadata": {},
   "outputs": [
    {
     "data": {
      "text/plain": [
       "True"
      ]
     },
     "execution_count": 14,
     "metadata": {},
     "output_type": "execute_result"
    }
   ],
   "source": [
    "2010 in df.index"
   ]
  },
  {
   "cell_type": "code",
   "execution_count": 15,
   "id": "42d6962d-c704-47a8-be23-25ddc62144bb",
   "metadata": {},
   "outputs": [
    {
     "data": {
      "text/plain": [
       "Index(['Uzbekistan', 'Pakistan'], dtype='object')"
      ]
     },
     "execution_count": 15,
     "metadata": {},
     "output_type": "execute_result"
    }
   ],
   "source": [
    "indeks"
   ]
  },
  {
   "cell_type": "code",
   "execution_count": 16,
   "id": "c4c2535b-0eff-422f-a867-f44c48e190a9",
   "metadata": {},
   "outputs": [
    {
     "data": {
      "text/plain": [
       "'Uzbekistan'"
      ]
     },
     "execution_count": 16,
     "metadata": {},
     "output_type": "execute_result"
    }
   ],
   "source": [
    "indeks[0]"
   ]
  },
  {
   "cell_type": "code",
   "execution_count": 18,
   "id": "96ac5995-88e3-4d85-bb0a-d811a7dff331",
   "metadata": {},
   "outputs": [
    {
     "data": {
      "text/plain": [
       "Index(['Uzbekistan', 'Pakistan'], dtype='object')"
      ]
     },
     "execution_count": 18,
     "metadata": {},
     "output_type": "execute_result"
    }
   ],
   "source": [
    "indeks [0:2]"
   ]
  },
  {
   "cell_type": "markdown",
   "id": "e1e383fd-14f5-48ae-9199-e8586546cabd",
   "metadata": {},
   "source": [
    "### Listlarni o'zgartirsa bo'ladi lekin Indeks ni emas"
   ]
  },
  {
   "cell_type": "code",
   "execution_count": null,
   "id": "b451ace0-df6a-4d11-b776-b3d9cff5c246",
   "metadata": {},
   "outputs": [],
   "source": []
  }
 ],
 "metadata": {
  "kernelspec": {
   "display_name": "Python 3 (ipykernel)",
   "language": "python",
   "name": "python3"
  },
  "language_info": {
   "codemirror_mode": {
    "name": "ipython",
    "version": 3
   },
   "file_extension": ".py",
   "mimetype": "text/x-python",
   "name": "python",
   "nbconvert_exporter": "python",
   "pygments_lexer": "ipython3",
   "version": "3.10.12"
  }
 },
 "nbformat": 4,
 "nbformat_minor": 5
}
