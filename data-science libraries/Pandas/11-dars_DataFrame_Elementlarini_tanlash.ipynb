{
 "cells": [
  {
   "cell_type": "code",
   "execution_count": 1,
   "id": "45eb2312-a672-4e74-ac19-32a6e300bf30",
   "metadata": {},
   "outputs": [],
   "source": [
    "import numpy as np\n",
    "import pandas as pd"
   ]
  },
  {
   "cell_type": "code",
   "execution_count": 5,
   "id": "cb394e11-82aa-4e35-8fce-9d92e2be407a",
   "metadata": {},
   "outputs": [],
   "source": [
    "data = {'Country': ['USA', 'UEA', 'KSA', 'UZB', 'ALASKA'],\n",
    "        'Population (millions)': [50, 80, 120, 299, 100],\n",
    "        'GDP (billion USD)': [500, 700, 900, 887, 1000],\n",
    "        'Area (thousand sq km)': [200, 300, 400, 500, 700],\n",
    "        'Happiness Index': [7.2, 6.5, 8.0, 9.0, 6.0]}"
   ]
  },
  {
   "cell_type": "code",
   "execution_count": 6,
   "id": "dc7bc98b-4af9-4b1e-b967-c83d35dc4094",
   "metadata": {},
   "outputs": [],
   "source": [
    "df = pd.DataFrame(data)"
   ]
  },
  {
   "cell_type": "code",
   "execution_count": 7,
   "id": "0c76f61f-d02c-4cd2-a145-30719adda2af",
   "metadata": {},
   "outputs": [
    {
     "data": {
      "text/html": [
       "<div>\n",
       "<style scoped>\n",
       "    .dataframe tbody tr th:only-of-type {\n",
       "        vertical-align: middle;\n",
       "    }\n",
       "\n",
       "    .dataframe tbody tr th {\n",
       "        vertical-align: top;\n",
       "    }\n",
       "\n",
       "    .dataframe thead th {\n",
       "        text-align: right;\n",
       "    }\n",
       "</style>\n",
       "<table border=\"1\" class=\"dataframe\">\n",
       "  <thead>\n",
       "    <tr style=\"text-align: right;\">\n",
       "      <th></th>\n",
       "      <th>Country</th>\n",
       "      <th>Population (millions)</th>\n",
       "      <th>GDP (billion USD)</th>\n",
       "      <th>Area (thousand sq km)</th>\n",
       "      <th>Happiness Index</th>\n",
       "    </tr>\n",
       "  </thead>\n",
       "  <tbody>\n",
       "    <tr>\n",
       "      <th>0</th>\n",
       "      <td>USA</td>\n",
       "      <td>50</td>\n",
       "      <td>500</td>\n",
       "      <td>200</td>\n",
       "      <td>7.2</td>\n",
       "    </tr>\n",
       "    <tr>\n",
       "      <th>1</th>\n",
       "      <td>UEA</td>\n",
       "      <td>80</td>\n",
       "      <td>700</td>\n",
       "      <td>300</td>\n",
       "      <td>6.5</td>\n",
       "    </tr>\n",
       "    <tr>\n",
       "      <th>2</th>\n",
       "      <td>KSA</td>\n",
       "      <td>120</td>\n",
       "      <td>900</td>\n",
       "      <td>400</td>\n",
       "      <td>8.0</td>\n",
       "    </tr>\n",
       "    <tr>\n",
       "      <th>3</th>\n",
       "      <td>UZB</td>\n",
       "      <td>299</td>\n",
       "      <td>887</td>\n",
       "      <td>500</td>\n",
       "      <td>9.0</td>\n",
       "    </tr>\n",
       "    <tr>\n",
       "      <th>4</th>\n",
       "      <td>ALASKA</td>\n",
       "      <td>100</td>\n",
       "      <td>1000</td>\n",
       "      <td>700</td>\n",
       "      <td>6.0</td>\n",
       "    </tr>\n",
       "  </tbody>\n",
       "</table>\n",
       "</div>"
      ],
      "text/plain": [
       "  Country  Population (millions)  GDP (billion USD)  Area (thousand sq km)  \\\n",
       "0     USA                     50                500                    200   \n",
       "1     UEA                     80                700                    300   \n",
       "2     KSA                    120                900                    400   \n",
       "3     UZB                    299                887                    500   \n",
       "4  ALASKA                    100               1000                    700   \n",
       "\n",
       "   Happiness Index  \n",
       "0              7.2  \n",
       "1              6.5  \n",
       "2              8.0  \n",
       "3              9.0  \n",
       "4              6.0  "
      ]
     },
     "execution_count": 7,
     "metadata": {},
     "output_type": "execute_result"
    }
   ],
   "source": [
    "df"
   ]
  },
  {
   "cell_type": "code",
   "execution_count": 8,
   "id": "cc4e3f88-d34a-4e6e-b7d2-470388735ad7",
   "metadata": {},
   "outputs": [
    {
     "data": {
      "text/plain": [
       "0       USA\n",
       "1       UEA\n",
       "2       KSA\n",
       "3       UZB\n",
       "4    ALASKA\n",
       "Name: Country, dtype: object"
      ]
     },
     "execution_count": 8,
     "metadata": {},
     "output_type": "execute_result"
    }
   ],
   "source": [
    "df['Country']"
   ]
  },
  {
   "cell_type": "code",
   "execution_count": 9,
   "id": "71517262-8713-466c-a2b8-f35422bdae9d",
   "metadata": {},
   "outputs": [
    {
     "data": {
      "text/html": [
       "<div>\n",
       "<style scoped>\n",
       "    .dataframe tbody tr th:only-of-type {\n",
       "        vertical-align: middle;\n",
       "    }\n",
       "\n",
       "    .dataframe tbody tr th {\n",
       "        vertical-align: top;\n",
       "    }\n",
       "\n",
       "    .dataframe thead th {\n",
       "        text-align: right;\n",
       "    }\n",
       "</style>\n",
       "<table border=\"1\" class=\"dataframe\">\n",
       "  <thead>\n",
       "    <tr style=\"text-align: right;\">\n",
       "      <th></th>\n",
       "      <th>Country</th>\n",
       "    </tr>\n",
       "  </thead>\n",
       "  <tbody>\n",
       "    <tr>\n",
       "      <th>0</th>\n",
       "      <td>USA</td>\n",
       "    </tr>\n",
       "    <tr>\n",
       "      <th>1</th>\n",
       "      <td>UEA</td>\n",
       "    </tr>\n",
       "    <tr>\n",
       "      <th>2</th>\n",
       "      <td>KSA</td>\n",
       "    </tr>\n",
       "    <tr>\n",
       "      <th>3</th>\n",
       "      <td>UZB</td>\n",
       "    </tr>\n",
       "    <tr>\n",
       "      <th>4</th>\n",
       "      <td>ALASKA</td>\n",
       "    </tr>\n",
       "  </tbody>\n",
       "</table>\n",
       "</div>"
      ],
      "text/plain": [
       "  Country\n",
       "0     USA\n",
       "1     UEA\n",
       "2     KSA\n",
       "3     UZB\n",
       "4  ALASKA"
      ]
     },
     "execution_count": 9,
     "metadata": {},
     "output_type": "execute_result"
    }
   ],
   "source": [
    "df[['Country']]"
   ]
  },
  {
   "cell_type": "code",
   "execution_count": 11,
   "id": "25af8793-e43e-4061-99c2-7afb827a1206",
   "metadata": {},
   "outputs": [
    {
     "data": {
      "text/plain": [
       "array(['USA', 'UEA', 'KSA', 'UZB', 'ALASKA'], dtype=object)"
      ]
     },
     "execution_count": 11,
     "metadata": {},
     "output_type": "execute_result"
    }
   ],
   "source": [
    "df['Country'].to_numpy()"
   ]
  },
  {
   "cell_type": "code",
   "execution_count": 12,
   "id": "80d22aa8-5084-4612-8fbf-038bbbc92e52",
   "metadata": {},
   "outputs": [
    {
     "data": {
      "text/plain": [
       "array([['USA'],\n",
       "       ['UEA'],\n",
       "       ['KSA'],\n",
       "       ['UZB'],\n",
       "       ['ALASKA']], dtype=object)"
      ]
     },
     "execution_count": 12,
     "metadata": {},
     "output_type": "execute_result"
    }
   ],
   "source": [
    "df[['Country']].to_numpy()"
   ]
  },
  {
   "cell_type": "code",
   "execution_count": 13,
   "id": "fb1ca844-ec34-4201-aa4b-162067c33013",
   "metadata": {},
   "outputs": [
    {
     "data": {
      "text/html": [
       "<div>\n",
       "<style scoped>\n",
       "    .dataframe tbody tr th:only-of-type {\n",
       "        vertical-align: middle;\n",
       "    }\n",
       "\n",
       "    .dataframe tbody tr th {\n",
       "        vertical-align: top;\n",
       "    }\n",
       "\n",
       "    .dataframe thead th {\n",
       "        text-align: right;\n",
       "    }\n",
       "</style>\n",
       "<table border=\"1\" class=\"dataframe\">\n",
       "  <thead>\n",
       "    <tr style=\"text-align: right;\">\n",
       "      <th></th>\n",
       "      <th>Population (millions)</th>\n",
       "      <th>GDP (billion USD)</th>\n",
       "    </tr>\n",
       "  </thead>\n",
       "  <tbody>\n",
       "    <tr>\n",
       "      <th>0</th>\n",
       "      <td>50</td>\n",
       "      <td>500</td>\n",
       "    </tr>\n",
       "    <tr>\n",
       "      <th>1</th>\n",
       "      <td>80</td>\n",
       "      <td>700</td>\n",
       "    </tr>\n",
       "    <tr>\n",
       "      <th>2</th>\n",
       "      <td>120</td>\n",
       "      <td>900</td>\n",
       "    </tr>\n",
       "    <tr>\n",
       "      <th>3</th>\n",
       "      <td>299</td>\n",
       "      <td>887</td>\n",
       "    </tr>\n",
       "    <tr>\n",
       "      <th>4</th>\n",
       "      <td>100</td>\n",
       "      <td>1000</td>\n",
       "    </tr>\n",
       "  </tbody>\n",
       "</table>\n",
       "</div>"
      ],
      "text/plain": [
       "   Population (millions)  GDP (billion USD)\n",
       "0                     50                500\n",
       "1                     80                700\n",
       "2                    120                900\n",
       "3                    299                887\n",
       "4                    100               1000"
      ]
     },
     "execution_count": 13,
     "metadata": {},
     "output_type": "execute_result"
    }
   ],
   "source": [
    "df[['Population (millions)',   'GDP (billion USD)']]"
   ]
  },
  {
   "cell_type": "code",
   "execution_count": 14,
   "id": "b8e81480-c0d2-46bb-a3b7-2cd0193a3ff3",
   "metadata": {},
   "outputs": [
    {
     "data": {
      "text/html": [
       "<div>\n",
       "<style scoped>\n",
       "    .dataframe tbody tr th:only-of-type {\n",
       "        vertical-align: middle;\n",
       "    }\n",
       "\n",
       "    .dataframe tbody tr th {\n",
       "        vertical-align: top;\n",
       "    }\n",
       "\n",
       "    .dataframe thead th {\n",
       "        text-align: right;\n",
       "    }\n",
       "</style>\n",
       "<table border=\"1\" class=\"dataframe\">\n",
       "  <thead>\n",
       "    <tr style=\"text-align: right;\">\n",
       "      <th></th>\n",
       "      <th>Country</th>\n",
       "      <th>Population (millions)</th>\n",
       "      <th>GDP (billion USD)</th>\n",
       "      <th>Area (thousand sq km)</th>\n",
       "      <th>Happiness Index</th>\n",
       "    </tr>\n",
       "  </thead>\n",
       "  <tbody>\n",
       "    <tr>\n",
       "      <th>3</th>\n",
       "      <td>UZB</td>\n",
       "      <td>299</td>\n",
       "      <td>887</td>\n",
       "      <td>500</td>\n",
       "      <td>9.0</td>\n",
       "    </tr>\n",
       "    <tr>\n",
       "      <th>4</th>\n",
       "      <td>ALASKA</td>\n",
       "      <td>100</td>\n",
       "      <td>1000</td>\n",
       "      <td>700</td>\n",
       "      <td>6.0</td>\n",
       "    </tr>\n",
       "  </tbody>\n",
       "</table>\n",
       "</div>"
      ],
      "text/plain": [
       "  Country  Population (millions)  GDP (billion USD)  Area (thousand sq km)  \\\n",
       "3     UZB                    299                887                    500   \n",
       "4  ALASKA                    100               1000                    700   \n",
       "\n",
       "   Happiness Index  \n",
       "3              9.0  \n",
       "4              6.0  "
      ]
     },
     "execution_count": 14,
     "metadata": {},
     "output_type": "execute_result"
    }
   ],
   "source": [
    "df[3:]"
   ]
  },
  {
   "cell_type": "code",
   "execution_count": 30,
   "id": "5dcb7454-37bf-420d-90eb-bbea441bf0ec",
   "metadata": {},
   "outputs": [],
   "source": [
    "df = df.set_index('Country')"
   ]
  },
  {
   "cell_type": "code",
   "execution_count": 31,
   "id": "1e76c2fc-5677-432c-ab93-bfc71e45f4b2",
   "metadata": {},
   "outputs": [
    {
     "data": {
      "text/html": [
       "<div>\n",
       "<style scoped>\n",
       "    .dataframe tbody tr th:only-of-type {\n",
       "        vertical-align: middle;\n",
       "    }\n",
       "\n",
       "    .dataframe tbody tr th {\n",
       "        vertical-align: top;\n",
       "    }\n",
       "\n",
       "    .dataframe thead th {\n",
       "        text-align: right;\n",
       "    }\n",
       "</style>\n",
       "<table border=\"1\" class=\"dataframe\">\n",
       "  <thead>\n",
       "    <tr style=\"text-align: right;\">\n",
       "      <th></th>\n",
       "      <th>Population (millions)</th>\n",
       "      <th>GDP (billion USD)</th>\n",
       "      <th>Area (thousand sq km)</th>\n",
       "      <th>Happiness Index</th>\n",
       "    </tr>\n",
       "    <tr>\n",
       "      <th>Country</th>\n",
       "      <th></th>\n",
       "      <th></th>\n",
       "      <th></th>\n",
       "      <th></th>\n",
       "    </tr>\n",
       "  </thead>\n",
       "  <tbody>\n",
       "    <tr>\n",
       "      <th>USA</th>\n",
       "      <td>50</td>\n",
       "      <td>500</td>\n",
       "      <td>200</td>\n",
       "      <td>7.2</td>\n",
       "    </tr>\n",
       "    <tr>\n",
       "      <th>UEA</th>\n",
       "      <td>80</td>\n",
       "      <td>700</td>\n",
       "      <td>300</td>\n",
       "      <td>6.5</td>\n",
       "    </tr>\n",
       "    <tr>\n",
       "      <th>KSA</th>\n",
       "      <td>120</td>\n",
       "      <td>900</td>\n",
       "      <td>400</td>\n",
       "      <td>8.0</td>\n",
       "    </tr>\n",
       "    <tr>\n",
       "      <th>UZB</th>\n",
       "      <td>299</td>\n",
       "      <td>887</td>\n",
       "      <td>500</td>\n",
       "      <td>9.0</td>\n",
       "    </tr>\n",
       "    <tr>\n",
       "      <th>ALASKA</th>\n",
       "      <td>100</td>\n",
       "      <td>1000</td>\n",
       "      <td>700</td>\n",
       "      <td>6.0</td>\n",
       "    </tr>\n",
       "  </tbody>\n",
       "</table>\n",
       "</div>"
      ],
      "text/plain": [
       "         Population (millions)  GDP (billion USD)  Area (thousand sq km)  \\\n",
       "Country                                                                    \n",
       "USA                         50                500                    200   \n",
       "UEA                         80                700                    300   \n",
       "KSA                        120                900                    400   \n",
       "UZB                        299                887                    500   \n",
       "ALASKA                     100               1000                    700   \n",
       "\n",
       "         Happiness Index  \n",
       "Country                   \n",
       "USA                  7.2  \n",
       "UEA                  6.5  \n",
       "KSA                  8.0  \n",
       "UZB                  9.0  \n",
       "ALASKA               6.0  "
      ]
     },
     "execution_count": 31,
     "metadata": {},
     "output_type": "execute_result"
    }
   ],
   "source": [
    "df"
   ]
  },
  {
   "cell_type": "code",
   "execution_count": 38,
   "id": "0a5d76ac-a8e8-41a4-91bd-a36e0047d901",
   "metadata": {},
   "outputs": [],
   "source": [
    "df = df.T"
   ]
  },
  {
   "cell_type": "code",
   "execution_count": 39,
   "id": "32013ec3-4fab-4c15-afbf-2a4c00d390b9",
   "metadata": {},
   "outputs": [
    {
     "data": {
      "text/html": [
       "<div>\n",
       "<style scoped>\n",
       "    .dataframe tbody tr th:only-of-type {\n",
       "        vertical-align: middle;\n",
       "    }\n",
       "\n",
       "    .dataframe tbody tr th {\n",
       "        vertical-align: top;\n",
       "    }\n",
       "\n",
       "    .dataframe thead th {\n",
       "        text-align: right;\n",
       "    }\n",
       "</style>\n",
       "<table border=\"1\" class=\"dataframe\">\n",
       "  <thead>\n",
       "    <tr style=\"text-align: right;\">\n",
       "      <th>Country</th>\n",
       "      <th>USA</th>\n",
       "      <th>UEA</th>\n",
       "      <th>KSA</th>\n",
       "      <th>UZB</th>\n",
       "      <th>ALASKA</th>\n",
       "    </tr>\n",
       "  </thead>\n",
       "  <tbody>\n",
       "    <tr>\n",
       "      <th>Population (millions)</th>\n",
       "      <td>NaN</td>\n",
       "      <td>NaN</td>\n",
       "      <td>NaN</td>\n",
       "      <td>NaN</td>\n",
       "      <td>NaN</td>\n",
       "    </tr>\n",
       "    <tr>\n",
       "      <th>GDP (billion USD)</th>\n",
       "      <td>NaN</td>\n",
       "      <td>700.0</td>\n",
       "      <td>900.0</td>\n",
       "      <td>887.0</td>\n",
       "      <td>1000.0</td>\n",
       "    </tr>\n",
       "    <tr>\n",
       "      <th>Area (thousand sq km)</th>\n",
       "      <td>NaN</td>\n",
       "      <td>NaN</td>\n",
       "      <td>NaN</td>\n",
       "      <td>NaN</td>\n",
       "      <td>700.0</td>\n",
       "    </tr>\n",
       "    <tr>\n",
       "      <th>Happiness Index</th>\n",
       "      <td>NaN</td>\n",
       "      <td>NaN</td>\n",
       "      <td>NaN</td>\n",
       "      <td>NaN</td>\n",
       "      <td>NaN</td>\n",
       "    </tr>\n",
       "  </tbody>\n",
       "</table>\n",
       "</div>"
      ],
      "text/plain": [
       "Country                USA    UEA    KSA    UZB  ALASKA\n",
       "Population (millions)  NaN    NaN    NaN    NaN     NaN\n",
       "GDP (billion USD)      NaN  700.0  900.0  887.0  1000.0\n",
       "Area (thousand sq km)  NaN    NaN    NaN    NaN   700.0\n",
       "Happiness Index        NaN    NaN    NaN    NaN     NaN"
      ]
     },
     "execution_count": 39,
     "metadata": {},
     "output_type": "execute_result"
    }
   ],
   "source": [
    "df[df>500]"
   ]
  },
  {
   "cell_type": "code",
   "execution_count": 40,
   "id": "7a1e79e5-ef7e-4768-9aef-512dc0b2e218",
   "metadata": {},
   "outputs": [],
   "source": [
    "df2 = df.transpose(copy=True)"
   ]
  },
  {
   "cell_type": "code",
   "execution_count": 41,
   "id": "ab966f43-4160-4f0f-a9de-6737237e29eb",
   "metadata": {},
   "outputs": [
    {
     "data": {
      "text/html": [
       "<div>\n",
       "<style scoped>\n",
       "    .dataframe tbody tr th:only-of-type {\n",
       "        vertical-align: middle;\n",
       "    }\n",
       "\n",
       "    .dataframe tbody tr th {\n",
       "        vertical-align: top;\n",
       "    }\n",
       "\n",
       "    .dataframe thead th {\n",
       "        text-align: right;\n",
       "    }\n",
       "</style>\n",
       "<table border=\"1\" class=\"dataframe\">\n",
       "  <thead>\n",
       "    <tr style=\"text-align: right;\">\n",
       "      <th></th>\n",
       "      <th>Population (millions)</th>\n",
       "      <th>GDP (billion USD)</th>\n",
       "      <th>Area (thousand sq km)</th>\n",
       "      <th>Happiness Index</th>\n",
       "    </tr>\n",
       "    <tr>\n",
       "      <th>Country</th>\n",
       "      <th></th>\n",
       "      <th></th>\n",
       "      <th></th>\n",
       "      <th></th>\n",
       "    </tr>\n",
       "  </thead>\n",
       "  <tbody>\n",
       "    <tr>\n",
       "      <th>USA</th>\n",
       "      <td>50.0</td>\n",
       "      <td>500.0</td>\n",
       "      <td>200.0</td>\n",
       "      <td>7.2</td>\n",
       "    </tr>\n",
       "    <tr>\n",
       "      <th>UEA</th>\n",
       "      <td>80.0</td>\n",
       "      <td>700.0</td>\n",
       "      <td>300.0</td>\n",
       "      <td>6.5</td>\n",
       "    </tr>\n",
       "    <tr>\n",
       "      <th>KSA</th>\n",
       "      <td>120.0</td>\n",
       "      <td>900.0</td>\n",
       "      <td>400.0</td>\n",
       "      <td>8.0</td>\n",
       "    </tr>\n",
       "    <tr>\n",
       "      <th>UZB</th>\n",
       "      <td>299.0</td>\n",
       "      <td>887.0</td>\n",
       "      <td>500.0</td>\n",
       "      <td>9.0</td>\n",
       "    </tr>\n",
       "    <tr>\n",
       "      <th>ALASKA</th>\n",
       "      <td>100.0</td>\n",
       "      <td>1000.0</td>\n",
       "      <td>700.0</td>\n",
       "      <td>6.0</td>\n",
       "    </tr>\n",
       "  </tbody>\n",
       "</table>\n",
       "</div>"
      ],
      "text/plain": [
       "         Population (millions)  GDP (billion USD)  Area (thousand sq km)  \\\n",
       "Country                                                                    \n",
       "USA                       50.0              500.0                  200.0   \n",
       "UEA                       80.0              700.0                  300.0   \n",
       "KSA                      120.0              900.0                  400.0   \n",
       "UZB                      299.0              887.0                  500.0   \n",
       "ALASKA                   100.0             1000.0                  700.0   \n",
       "\n",
       "         Happiness Index  \n",
       "Country                   \n",
       "USA                  7.2  \n",
       "UEA                  6.5  \n",
       "KSA                  8.0  \n",
       "UZB                  9.0  \n",
       "ALASKA               6.0  "
      ]
     },
     "execution_count": 41,
     "metadata": {},
     "output_type": "execute_result"
    }
   ],
   "source": [
    "df2"
   ]
  },
  {
   "cell_type": "code",
   "execution_count": 43,
   "id": "4e5d1bd4-3e5e-41ca-b637-9e4ddca73971",
   "metadata": {},
   "outputs": [
    {
     "data": {
      "text/html": [
       "<div>\n",
       "<style scoped>\n",
       "    .dataframe tbody tr th:only-of-type {\n",
       "        vertical-align: middle;\n",
       "    }\n",
       "\n",
       "    .dataframe tbody tr th {\n",
       "        vertical-align: top;\n",
       "    }\n",
       "\n",
       "    .dataframe thead th {\n",
       "        text-align: right;\n",
       "    }\n",
       "</style>\n",
       "<table border=\"1\" class=\"dataframe\">\n",
       "  <thead>\n",
       "    <tr style=\"text-align: right;\">\n",
       "      <th></th>\n",
       "      <th>Population (millions)</th>\n",
       "      <th>GDP (billion USD)</th>\n",
       "      <th>Area (thousand sq km)</th>\n",
       "      <th>Happiness Index</th>\n",
       "    </tr>\n",
       "    <tr>\n",
       "      <th>Country</th>\n",
       "      <th></th>\n",
       "      <th></th>\n",
       "      <th></th>\n",
       "      <th></th>\n",
       "    </tr>\n",
       "  </thead>\n",
       "  <tbody>\n",
       "    <tr>\n",
       "      <th>ALASKA</th>\n",
       "      <td>100.0</td>\n",
       "      <td>1000.0</td>\n",
       "      <td>700.0</td>\n",
       "      <td>6.0</td>\n",
       "    </tr>\n",
       "  </tbody>\n",
       "</table>\n",
       "</div>"
      ],
      "text/plain": [
       "         Population (millions)  GDP (billion USD)  Area (thousand sq km)  \\\n",
       "Country                                                                    \n",
       "ALASKA                   100.0             1000.0                  700.0   \n",
       "\n",
       "         Happiness Index  \n",
       "Country                   \n",
       "ALASKA               6.0  "
      ]
     },
     "execution_count": 43,
     "metadata": {},
     "output_type": "execute_result"
    }
   ],
   "source": [
    "df2[df2['GDP (billion USD)']>900]"
   ]
  },
  {
   "cell_type": "code",
   "execution_count": null,
   "id": "44b50db0-ab9f-445c-bf13-add83b1fa137",
   "metadata": {},
   "outputs": [],
   "source": []
  }
 ],
 "metadata": {
  "kernelspec": {
   "display_name": "Python 3 (ipykernel)",
   "language": "python",
   "name": "python3"
  },
  "language_info": {
   "codemirror_mode": {
    "name": "ipython",
    "version": 3
   },
   "file_extension": ".py",
   "mimetype": "text/x-python",
   "name": "python",
   "nbconvert_exporter": "python",
   "pygments_lexer": "ipython3",
   "version": "3.10.12"
  },
  "widgets": {
   "application/vnd.jupyter.widget-state+json": {
    "state": {},
    "version_major": 2,
    "version_minor": 0
   }
  }
 },
 "nbformat": 4,
 "nbformat_minor": 5
}
