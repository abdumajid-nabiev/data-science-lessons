{
 "cells": [
  {
   "cell_type": "code",
   "execution_count": 4,
   "id": "3c78e941-d238-4cf4-af4a-a7f0e3abb479",
   "metadata": {},
   "outputs": [],
   "source": [
    "import numpy as np\n",
    "import pandas as pd"
   ]
  },
  {
   "cell_type": "code",
   "execution_count": 5,
   "id": "cb95801f-42c9-4a45-9b52-50bbde292910",
   "metadata": {},
   "outputs": [],
   "source": [
    "usernames = {\n",
    "        'john': 'john77',\n",
    "        'max': 'jax',\n",
    "        'kate': 'cathy',\n",
    "        'sally': 'sally112'\n",
    "    }\n",
    "gmails = {\n",
    "        'john': 'johnson@gmail.com',\n",
    "        'max': 'maxjohnson@gmail.com',\n",
    "        'kate': 'katecathy@gmail.com',\n",
    "        'sally': 'sally112@gmail.com'\n",
    "    }\n",
    "data = {'username':usernames,\n",
    "        'email': gmails}\n",
    "\n",
    "df = pd.DataFrame(data)"
   ]
  },
  {
   "cell_type": "code",
   "execution_count": 6,
   "id": "2ccd7738-9822-4568-89fb-6f482bb64ec8",
   "metadata": {},
   "outputs": [
    {
     "data": {
      "text/html": [
       "<div>\n",
       "<style scoped>\n",
       "    .dataframe tbody tr th:only-of-type {\n",
       "        vertical-align: middle;\n",
       "    }\n",
       "\n",
       "    .dataframe tbody tr th {\n",
       "        vertical-align: top;\n",
       "    }\n",
       "\n",
       "    .dataframe thead th {\n",
       "        text-align: right;\n",
       "    }\n",
       "</style>\n",
       "<table border=\"1\" class=\"dataframe\">\n",
       "  <thead>\n",
       "    <tr style=\"text-align: right;\">\n",
       "      <th></th>\n",
       "      <th>username</th>\n",
       "      <th>email</th>\n",
       "    </tr>\n",
       "  </thead>\n",
       "  <tbody>\n",
       "    <tr>\n",
       "      <th>john</th>\n",
       "      <td>john77</td>\n",
       "      <td>johnson@gmail.com</td>\n",
       "    </tr>\n",
       "    <tr>\n",
       "      <th>max</th>\n",
       "      <td>jax</td>\n",
       "      <td>maxjohnson@gmail.com</td>\n",
       "    </tr>\n",
       "    <tr>\n",
       "      <th>kate</th>\n",
       "      <td>cathy</td>\n",
       "      <td>katecathy@gmail.com</td>\n",
       "    </tr>\n",
       "    <tr>\n",
       "      <th>sally</th>\n",
       "      <td>sally112</td>\n",
       "      <td>sally112@gmail.com</td>\n",
       "    </tr>\n",
       "  </tbody>\n",
       "</table>\n",
       "</div>"
      ],
      "text/plain": [
       "       username                 email\n",
       "john     john77     johnson@gmail.com\n",
       "max         jax  maxjohnson@gmail.com\n",
       "kate      cathy   katecathy@gmail.com\n",
       "sally  sally112    sally112@gmail.com"
      ]
     },
     "execution_count": 6,
     "metadata": {},
     "output_type": "execute_result"
    }
   ],
   "source": [
    "df"
   ]
  },
  {
   "cell_type": "code",
   "execution_count": 7,
   "id": "8eedfe80-ff59-4a85-a7f1-3a85398da74a",
   "metadata": {},
   "outputs": [],
   "source": [
    "data1 = df['email']"
   ]
  },
  {
   "cell_type": "code",
   "execution_count": 8,
   "id": "c43e252a-17e0-4219-9f23-a88e4bae202a",
   "metadata": {},
   "outputs": [
    {
     "data": {
      "text/plain": [
       "john        johnson@gmail.com\n",
       "max      maxjohnson@gmail.com\n",
       "kate      katecathy@gmail.com\n",
       "sally      sally112@gmail.com\n",
       "Name: email, dtype: object"
      ]
     },
     "execution_count": 8,
     "metadata": {},
     "output_type": "execute_result"
    }
   ],
   "source": [
    "data1"
   ]
  },
  {
   "cell_type": "code",
   "execution_count": 9,
   "id": "ebcf87e0-5d0f-44b4-9ca2-b4a02b5e4d7b",
   "metadata": {},
   "outputs": [
    {
     "data": {
      "text/plain": [
       "pandas.core.series.Series"
      ]
     },
     "execution_count": 9,
     "metadata": {},
     "output_type": "execute_result"
    }
   ],
   "source": [
    "type(data1)"
   ]
  },
  {
   "cell_type": "code",
   "execution_count": 10,
   "id": "89073e17-6544-42a5-88ff-f4e4552e5667",
   "metadata": {},
   "outputs": [],
   "source": [
    "data1 = df[['email']] # dataframe ko'rinishda chiqarish uchun [[]]  >>>> ro'yhat ichida ro'yhat beriladi"
   ]
  },
  {
   "cell_type": "code",
   "execution_count": 11,
   "id": "2e337ef9-acd7-40ab-9969-94977683d32a",
   "metadata": {},
   "outputs": [
    {
     "data": {
      "text/html": [
       "<div>\n",
       "<style scoped>\n",
       "    .dataframe tbody tr th:only-of-type {\n",
       "        vertical-align: middle;\n",
       "    }\n",
       "\n",
       "    .dataframe tbody tr th {\n",
       "        vertical-align: top;\n",
       "    }\n",
       "\n",
       "    .dataframe thead th {\n",
       "        text-align: right;\n",
       "    }\n",
       "</style>\n",
       "<table border=\"1\" class=\"dataframe\">\n",
       "  <thead>\n",
       "    <tr style=\"text-align: right;\">\n",
       "      <th></th>\n",
       "      <th>email</th>\n",
       "    </tr>\n",
       "  </thead>\n",
       "  <tbody>\n",
       "    <tr>\n",
       "      <th>john</th>\n",
       "      <td>johnson@gmail.com</td>\n",
       "    </tr>\n",
       "    <tr>\n",
       "      <th>max</th>\n",
       "      <td>maxjohnson@gmail.com</td>\n",
       "    </tr>\n",
       "    <tr>\n",
       "      <th>kate</th>\n",
       "      <td>katecathy@gmail.com</td>\n",
       "    </tr>\n",
       "    <tr>\n",
       "      <th>sally</th>\n",
       "      <td>sally112@gmail.com</td>\n",
       "    </tr>\n",
       "  </tbody>\n",
       "</table>\n",
       "</div>"
      ],
      "text/plain": [
       "                      email\n",
       "john      johnson@gmail.com\n",
       "max    maxjohnson@gmail.com\n",
       "kate    katecathy@gmail.com\n",
       "sally    sally112@gmail.com"
      ]
     },
     "execution_count": 11,
     "metadata": {},
     "output_type": "execute_result"
    }
   ],
   "source": [
    "data1"
   ]
  },
  {
   "cell_type": "code",
   "execution_count": 12,
   "id": "db650bdf-34b9-4c2a-b925-1131c0531eac",
   "metadata": {},
   "outputs": [
    {
     "data": {
      "text/plain": [
       "pandas.core.frame.DataFrame"
      ]
     },
     "execution_count": 12,
     "metadata": {},
     "output_type": "execute_result"
    }
   ],
   "source": [
    "type(data1)"
   ]
  },
  {
   "cell_type": "code",
   "execution_count": 13,
   "id": "6755f124-ca8b-4142-9ae7-b09f0c74d854",
   "metadata": {},
   "outputs": [],
   "source": [
    "data1 = df['email']"
   ]
  },
  {
   "cell_type": "code",
   "execution_count": 14,
   "id": "3ab5d368-7d8f-48f1-9fc1-eb5132a67834",
   "metadata": {},
   "outputs": [
    {
     "data": {
      "text/plain": [
       "john        johnson@gmail.com\n",
       "max      maxjohnson@gmail.com\n",
       "kate      katecathy@gmail.com\n",
       "sally      sally112@gmail.com\n",
       "Name: email, dtype: object"
      ]
     },
     "execution_count": 14,
     "metadata": {},
     "output_type": "execute_result"
    }
   ],
   "source": [
    "data1"
   ]
  },
  {
   "cell_type": "code",
   "execution_count": 15,
   "id": "058ca32c-f7f0-478b-adc1-f542a09f7789",
   "metadata": {},
   "outputs": [
    {
     "data": {
      "text/plain": [
       "str"
      ]
     },
     "execution_count": 15,
     "metadata": {},
     "output_type": "execute_result"
    }
   ],
   "source": [
    "type(data1['max'])"
   ]
  },
  {
   "cell_type": "code",
   "execution_count": 16,
   "id": "9ef5bb10-a7a8-47b2-820b-54fb90bbb887",
   "metadata": {},
   "outputs": [
    {
     "data": {
      "text/plain": [
       "pandas.core.series.Series"
      ]
     },
     "execution_count": 16,
     "metadata": {},
     "output_type": "execute_result"
    }
   ],
   "source": [
    "type(data1[['max']])"
   ]
  },
  {
   "cell_type": "code",
   "execution_count": 17,
   "id": "f2830388-63a6-4e66-b1b4-9ed36c033e05",
   "metadata": {},
   "outputs": [
    {
     "data": {
      "text/plain": [
       "john        johnson@gmail.com\n",
       "max      maxjohnson@gmail.com\n",
       "kate      katecathy@gmail.com\n",
       "sally      sally112@gmail.com\n",
       "Name: email, dtype: object"
      ]
     },
     "execution_count": 17,
     "metadata": {},
     "output_type": "execute_result"
    }
   ],
   "source": [
    "data1"
   ]
  },
  {
   "cell_type": "code",
   "execution_count": 18,
   "id": "44a1048a-abde-48f5-bb87-bcb020f1b6e0",
   "metadata": {},
   "outputs": [
    {
     "data": {
      "text/plain": [
       "john       johnson@gmail.com\n",
       "max     maxjohnson@gmail.com\n",
       "Name: email, dtype: object"
      ]
     },
     "execution_count": 18,
     "metadata": {},
     "output_type": "execute_result"
    }
   ],
   "source": [
    "data1[0:2]"
   ]
  },
  {
   "cell_type": "code",
   "execution_count": 20,
   "id": "b6e9788f-533d-467c-a48d-e9a0cfee00d1",
   "metadata": {},
   "outputs": [
    {
     "name": "stderr",
     "output_type": "stream",
     "text": [
      "/tmp/ipykernel_5190/1522021791.py:1: FutureWarning: Series.__getitem__ treating keys as positions is deprecated. In a future version, integer keys will always be treated as labels (consistent with DataFrame behavior). To access a value by position, use `ser.iloc[pos]`\n",
      "  data1[[0, 1, 2]]\n"
     ]
    },
    {
     "data": {
      "text/plain": [
       "john       johnson@gmail.com\n",
       "max     maxjohnson@gmail.com\n",
       "kate     katecathy@gmail.com\n",
       "Name: email, dtype: object"
      ]
     },
     "execution_count": 20,
     "metadata": {},
     "output_type": "execute_result"
    }
   ],
   "source": [
    "data1[[0, 1, 2]]"
   ]
  },
  {
   "cell_type": "code",
   "execution_count": 21,
   "id": "398c7e3b-2e36-42e0-83da-14b03cef953f",
   "metadata": {},
   "outputs": [],
   "source": [
    "obj = pd.Series(np.arange(8.), index = ['a', 'b', 'c', 'd', 'e', 'f', 'g', 'h'])"
   ]
  },
  {
   "cell_type": "code",
   "execution_count": 22,
   "id": "8cea3c7f-798c-4feb-8a24-86799106dd8d",
   "metadata": {},
   "outputs": [
    {
     "data": {
      "text/plain": [
       "a    0.0\n",
       "b    1.0\n",
       "c    2.0\n",
       "d    3.0\n",
       "e    4.0\n",
       "f    5.0\n",
       "g    6.0\n",
       "h    7.0\n",
       "dtype: float64"
      ]
     },
     "execution_count": 22,
     "metadata": {},
     "output_type": "execute_result"
    }
   ],
   "source": [
    "obj"
   ]
  },
  {
   "cell_type": "code",
   "execution_count": 23,
   "id": "15300012-c123-43e8-bed2-6475e7ab4161",
   "metadata": {},
   "outputs": [
    {
     "data": {
      "text/plain": [
       "0.0"
      ]
     },
     "execution_count": 23,
     "metadata": {},
     "output_type": "execute_result"
    }
   ],
   "source": [
    "obj['a']"
   ]
  },
  {
   "cell_type": "code",
   "execution_count": 25,
   "id": "c5a1739a-e9f8-4834-ae58-bec9a14d6a52",
   "metadata": {},
   "outputs": [
    {
     "data": {
      "text/plain": [
       "a    0.0\n",
       "dtype: float64"
      ]
     },
     "execution_count": 25,
     "metadata": {},
     "output_type": "execute_result"
    }
   ],
   "source": [
    "obj[['a']]  # bu series qaytaradi"
   ]
  },
  {
   "cell_type": "code",
   "execution_count": 26,
   "id": "8f5d5d4d-3392-4d32-9685-4ef76cd17504",
   "metadata": {},
   "outputs": [
    {
     "data": {
      "text/plain": [
       "a    0.0\n",
       "b    1.0\n",
       "c    2.0\n",
       "d    3.0\n",
       "dtype: float64"
      ]
     },
     "execution_count": 26,
     "metadata": {},
     "output_type": "execute_result"
    }
   ],
   "source": [
    "obj[0:4]"
   ]
  },
  {
   "cell_type": "code",
   "execution_count": 29,
   "id": "39125932-4f40-4c25-83d8-b6272932afdd",
   "metadata": {},
   "outputs": [
    {
     "data": {
      "text/plain": [
       "a    0.0\n",
       "b    1.0\n",
       "c    2.0\n",
       "d    3.0\n",
       "dtype: float64"
      ]
     },
     "execution_count": 29,
     "metadata": {},
     "output_type": "execute_result"
    }
   ],
   "source": [
    "obj['a': 'd']  # harfli indekslar orqali harfdan harfgacha qirqib olish mumkin"
   ]
  },
  {
   "cell_type": "code",
   "execution_count": 30,
   "id": "9b06c19f-a757-4b44-ab45-b3ba4d2735b4",
   "metadata": {},
   "outputs": [
    {
     "data": {
      "text/plain": [
       "a    0.0\n",
       "b    1.0\n",
       "c    2.0\n",
       "d    3.0\n",
       "e    4.0\n",
       "f    5.0\n",
       "g    6.0\n",
       "h    7.0\n",
       "dtype: float64"
      ]
     },
     "execution_count": 30,
     "metadata": {},
     "output_type": "execute_result"
    }
   ],
   "source": [
    "obj"
   ]
  },
  {
   "cell_type": "code",
   "execution_count": 31,
   "id": "2e8a5975-ada6-40c1-bfcf-3f488f689fa9",
   "metadata": {},
   "outputs": [
    {
     "name": "stderr",
     "output_type": "stream",
     "text": [
      "/tmp/ipykernel_5190/619217176.py:1: FutureWarning: Series.__getitem__ treating keys as positions is deprecated. In a future version, integer keys will always be treated as labels (consistent with DataFrame behavior). To access a value by position, use `ser.iloc[pos]`\n",
      "  obj[[1,5]]\n"
     ]
    },
    {
     "data": {
      "text/plain": [
       "b    1.0\n",
       "f    5.0\n",
       "dtype: float64"
      ]
     },
     "execution_count": 31,
     "metadata": {},
     "output_type": "execute_result"
    }
   ],
   "source": [
    "obj[[1,5]]"
   ]
  },
  {
   "cell_type": "code",
   "execution_count": 32,
   "id": "b54f054f-dd0f-494d-91e6-ec721331f06e",
   "metadata": {},
   "outputs": [
    {
     "data": {
      "text/plain": [
       "a    0.0\n",
       "f    5.0\n",
       "dtype: float64"
      ]
     },
     "execution_count": 32,
     "metadata": {},
     "output_type": "execute_result"
    }
   ],
   "source": [
    "obj[['a', 'f']]"
   ]
  },
  {
   "cell_type": "code",
   "execution_count": 33,
   "id": "5357009f-2d83-4eaa-a7ae-612b42ca3894",
   "metadata": {},
   "outputs": [],
   "source": [
    "obj['a':'c']=15"
   ]
  },
  {
   "cell_type": "code",
   "execution_count": 34,
   "id": "c460b362-75dc-4297-ac8a-c44abb67acb4",
   "metadata": {},
   "outputs": [
    {
     "data": {
      "text/plain": [
       "a    15.0\n",
       "b    15.0\n",
       "c    15.0\n",
       "d     3.0\n",
       "e     4.0\n",
       "f     5.0\n",
       "g     6.0\n",
       "h     7.0\n",
       "dtype: float64"
      ]
     },
     "execution_count": 34,
     "metadata": {},
     "output_type": "execute_result"
    }
   ],
   "source": [
    "obj"
   ]
  },
  {
   "cell_type": "code",
   "execution_count": 35,
   "id": "c8f1fea3-765a-4975-82b4-93fd7402deff",
   "metadata": {},
   "outputs": [
    {
     "data": {
      "text/plain": [
       "d    3.0\n",
       "e    4.0\n",
       "f    5.0\n",
       "g    6.0\n",
       "h    7.0\n",
       "dtype: float64"
      ]
     },
     "execution_count": 35,
     "metadata": {},
     "output_type": "execute_result"
    }
   ],
   "source": [
    "obj[obj<15]"
   ]
  },
  {
   "cell_type": "code",
   "execution_count": 37,
   "id": "da6ce320-04ab-4a63-bb18-283340988547",
   "metadata": {},
   "outputs": [
    {
     "data": {
      "text/plain": [
       "a    15.0\n",
       "b    15.0\n",
       "c    15.0\n",
       "dtype: float64"
      ]
     },
     "execution_count": 37,
     "metadata": {},
     "output_type": "execute_result"
    }
   ],
   "source": [
    "obj[obj==15]"
   ]
  },
  {
   "cell_type": "code",
   "execution_count": null,
   "id": "ca44cea7-7b89-48a7-8251-1d4a293d27fe",
   "metadata": {},
   "outputs": [],
   "source": []
  }
 ],
 "metadata": {
  "kernelspec": {
   "display_name": "Python 3 (ipykernel)",
   "language": "python",
   "name": "python3"
  },
  "language_info": {
   "codemirror_mode": {
    "name": "ipython",
    "version": 3
   },
   "file_extension": ".py",
   "mimetype": "text/x-python",
   "name": "python",
   "nbconvert_exporter": "python",
   "pygments_lexer": "ipython3",
   "version": "3.10.12"
  },
  "widgets": {
   "application/vnd.jupyter.widget-state+json": {
    "state": {},
    "version_major": 2,
    "version_minor": 0
   }
  }
 },
 "nbformat": 4,
 "nbformat_minor": 5
}
