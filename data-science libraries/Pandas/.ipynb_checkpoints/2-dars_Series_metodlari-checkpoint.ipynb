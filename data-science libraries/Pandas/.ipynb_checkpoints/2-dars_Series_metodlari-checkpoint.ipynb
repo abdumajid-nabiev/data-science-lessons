{
 "cells": [
  {
   "cell_type": "markdown",
   "id": "d91d895c-a37a-4ac1-8206-f6cfdb82d21f",
   "metadata": {},
   "source": [
    "# 2-dars:                Series metodlari"
   ]
  },
  {
   "cell_type": "code",
   "execution_count": 3,
   "id": "63ee76a6-6da7-4d37-9770-4510b3fd1dcf",
   "metadata": {},
   "outputs": [],
   "source": [
    "import pandas as pd"
   ]
  },
  {
   "cell_type": "code",
   "execution_count": 4,
   "id": "2cff1d69-4499-4cff-a48e-7ece18918bdb",
   "metadata": {},
   "outputs": [],
   "source": [
    "import numpy as np"
   ]
  },
  {
   "cell_type": "code",
   "execution_count": 5,
   "id": "f4735f30-28ba-45f9-9121-bb21702ebfc6",
   "metadata": {},
   "outputs": [],
   "source": [
    "from pandas import Series"
   ]
  },
  {
   "cell_type": "code",
   "execution_count": null,
   "id": "4586e7c1-745c-4980-a300-c4c6b2d00944",
   "metadata": {},
   "outputs": [],
   "source": []
  },
  {
   "cell_type": "code",
   "execution_count": 6,
   "id": "64aad898-574e-4090-936d-037c69baf676",
   "metadata": {},
   "outputs": [],
   "source": [
    "cars_dict = {'KIA':30000, 'BYD':12000, 'Dodge':20000, 'Honda':45000, 'Supra':700000}"
   ]
  },
  {
   "cell_type": "code",
   "execution_count": 7,
   "id": "3bc0299d-4780-42fd-86a1-2bceba7a49fb",
   "metadata": {},
   "outputs": [
    {
     "data": {
      "text/plain": [
       "dict"
      ]
     },
     "execution_count": 7,
     "metadata": {},
     "output_type": "execute_result"
    }
   ],
   "source": [
    "type(cars_dict)"
   ]
  },
  {
   "cell_type": "code",
   "execution_count": 8,
   "id": "b68b6e2a-b960-4ab1-852d-1e415db2a716",
   "metadata": {},
   "outputs": [],
   "source": [
    "cars = Series(cars_dict)"
   ]
  },
  {
   "cell_type": "code",
   "execution_count": 9,
   "id": "c2712ef0-3341-4e6b-a6d6-6d641a13374c",
   "metadata": {},
   "outputs": [
    {
     "data": {
      "text/plain": [
       "KIA       30000\n",
       "BYD       12000\n",
       "Dodge     20000\n",
       "Honda     45000\n",
       "Supra    700000\n",
       "dtype: int64"
      ]
     },
     "execution_count": 9,
     "metadata": {},
     "output_type": "execute_result"
    }
   ],
   "source": [
    "cars"
   ]
  },
  {
   "cell_type": "code",
   "execution_count": 10,
   "id": "4a71f0d3-7952-460d-b15e-1c2611b49afe",
   "metadata": {},
   "outputs": [
    {
     "data": {
      "text/plain": [
       "pandas.core.series.Series"
      ]
     },
     "execution_count": 10,
     "metadata": {},
     "output_type": "execute_result"
    }
   ],
   "source": [
    "type(cars)"
   ]
  },
  {
   "cell_type": "code",
   "execution_count": 11,
   "id": "f03e731f-756f-40aa-ac6d-04174a9ca99a",
   "metadata": {},
   "outputs": [],
   "source": [
    "cars1 = Series({'KIA':30000, 'BYD':12000, 'Dodge':20000, 'Honda':45000, 'Supra':700000})"
   ]
  },
  {
   "cell_type": "code",
   "execution_count": 12,
   "id": "7ebf5673-1825-4429-9b8b-367b08fa7572",
   "metadata": {},
   "outputs": [
    {
     "data": {
      "text/plain": [
       "KIA       30000\n",
       "BYD       12000\n",
       "Dodge     20000\n",
       "Honda     45000\n",
       "Supra    700000\n",
       "dtype: int64"
      ]
     },
     "execution_count": 12,
     "metadata": {},
     "output_type": "execute_result"
    }
   ],
   "source": [
    "cars1"
   ]
  },
  {
   "cell_type": "code",
   "execution_count": 13,
   "id": "7b8435f7-254f-492b-b256-f346236bba9d",
   "metadata": {},
   "outputs": [
    {
     "data": {
      "text/plain": [
       "True"
      ]
     },
     "execution_count": 13,
     "metadata": {},
     "output_type": "execute_result"
    }
   ],
   "source": [
    "'BYD' in cars"
   ]
  },
  {
   "cell_type": "code",
   "execution_count": 14,
   "id": "22ba1782-aa7a-4456-b7a2-7f24edd3412a",
   "metadata": {},
   "outputs": [
    {
     "data": {
      "text/plain": [
       "False"
      ]
     },
     "execution_count": 14,
     "metadata": {},
     "output_type": "execute_result"
    }
   ],
   "source": [
    "'BMW' in cars1"
   ]
  },
  {
   "cell_type": "code",
   "execution_count": 15,
   "id": "bcfa4b86-431f-4365-9563-02abb4cecaae",
   "metadata": {},
   "outputs": [
    {
     "data": {
      "text/plain": [
       "700000"
      ]
     },
     "execution_count": 15,
     "metadata": {},
     "output_type": "execute_result"
    }
   ],
   "source": [
    "cars1['Supra']"
   ]
  },
  {
   "cell_type": "code",
   "execution_count": 16,
   "id": "1dca5543-6aee-428d-ad51-96a7d11bafb3",
   "metadata": {},
   "outputs": [],
   "source": [
    "models = ['Supra', 'Dodge', 'KIA', 'Ferrari', 'Honda', 'BYD', 'Jaguar', 'Nissan']"
   ]
  },
  {
   "cell_type": "code",
   "execution_count": 17,
   "id": "93204cae-6c0c-4bac-abe9-663b05b0b66d",
   "metadata": {},
   "outputs": [],
   "source": [
    "cars2 = Series(cars_dict, index=models)"
   ]
  },
  {
   "cell_type": "code",
   "execution_count": 18,
   "id": "7506dfb6-2bd6-4da1-8788-669b40e75469",
   "metadata": {},
   "outputs": [
    {
     "data": {
      "text/plain": [
       "Supra      700000.0\n",
       "Dodge       20000.0\n",
       "KIA         30000.0\n",
       "Ferrari         NaN\n",
       "Honda       45000.0\n",
       "BYD         12000.0\n",
       "Jaguar          NaN\n",
       "Nissan          NaN\n",
       "dtype: float64"
      ]
     },
     "execution_count": 18,
     "metadata": {},
     "output_type": "execute_result"
    }
   ],
   "source": [
    "cars2"
   ]
  },
  {
   "cell_type": "code",
   "execution_count": 19,
   "id": "ccc1aed7-57d4-454c-9d94-cc75d4189899",
   "metadata": {},
   "outputs": [
    {
     "data": {
      "text/plain": [
       "Supra      False\n",
       "Dodge      False\n",
       "KIA        False\n",
       "Ferrari     True\n",
       "Honda      False\n",
       "BYD        False\n",
       "Jaguar      True\n",
       "Nissan      True\n",
       "dtype: bool"
      ]
     },
     "execution_count": 19,
     "metadata": {},
     "output_type": "execute_result"
    }
   ],
   "source": [
    "cars2.isnull()"
   ]
  },
  {
   "cell_type": "code",
   "execution_count": 20,
   "id": "44f80680-63e0-4f83-a2eb-be1df5bae458",
   "metadata": {},
   "outputs": [
    {
     "data": {
      "text/plain": [
       "Supra       True\n",
       "Dodge       True\n",
       "KIA         True\n",
       "Ferrari    False\n",
       "Honda       True\n",
       "BYD         True\n",
       "Jaguar     False\n",
       "Nissan     False\n",
       "dtype: bool"
      ]
     },
     "execution_count": 20,
     "metadata": {},
     "output_type": "execute_result"
    }
   ],
   "source": [
    "cars2.notnull()"
   ]
  },
  {
   "cell_type": "code",
   "execution_count": 21,
   "id": "e8cccb1b-fe44-4545-9593-eda04a505b4a",
   "metadata": {},
   "outputs": [
    {
     "data": {
      "text/plain": [
       "Supra      700000.0\n",
       "Dodge       20000.0\n",
       "KIA         30000.0\n",
       "Ferrari         NaN\n",
       "Honda       45000.0\n",
       "BYD         12000.0\n",
       "Jaguar          NaN\n",
       "Nissan          NaN\n",
       "dtype: float64"
      ]
     },
     "execution_count": 21,
     "metadata": {},
     "output_type": "execute_result"
    }
   ],
   "source": [
    "cars2"
   ]
  },
  {
   "cell_type": "code",
   "execution_count": 22,
   "id": "0b550362-d295-4f69-9afd-abc38a612617",
   "metadata": {},
   "outputs": [
    {
     "data": {
      "text/plain": [
       "KIA       30000\n",
       "BYD       12000\n",
       "Dodge     20000\n",
       "Honda     45000\n",
       "Supra    700000\n",
       "dtype: int64"
      ]
     },
     "execution_count": 22,
     "metadata": {},
     "output_type": "execute_result"
    }
   ],
   "source": [
    "cars1"
   ]
  },
  {
   "cell_type": "code",
   "execution_count": 24,
   "id": "b89b9d07-9ef5-4013-b985-c5aae21e1b8f",
   "metadata": {},
   "outputs": [
    {
     "data": {
      "text/plain": [
       "BYD          24000.0\n",
       "Dodge        40000.0\n",
       "Ferrari          NaN\n",
       "Honda        90000.0\n",
       "Jaguar           NaN\n",
       "KIA          60000.0\n",
       "Nissan           NaN\n",
       "Supra      1400000.0\n",
       "dtype: float64"
      ]
     },
     "execution_count": 24,
     "metadata": {},
     "output_type": "execute_result"
    }
   ],
   "source": [
    "cars1+cars2   # index bo'yicha qo'shadi"
   ]
  },
  {
   "cell_type": "code",
   "execution_count": 25,
   "id": "c6f99c86-2b2c-4dbd-b74e-3131a48c3e3f",
   "metadata": {},
   "outputs": [],
   "source": [
    "cars2.name='Salon'"
   ]
  },
  {
   "cell_type": "code",
   "execution_count": 27,
   "id": "bc4970e4-9a19-49c4-87b3-771101ac0a9d",
   "metadata": {},
   "outputs": [],
   "source": [
    "cars2.index.name = 'Modellar'"
   ]
  },
  {
   "cell_type": "code",
   "execution_count": 28,
   "id": "698abe32-b204-4221-b58a-d4c2c088dbe2",
   "metadata": {},
   "outputs": [
    {
     "data": {
      "text/plain": [
       "Modellar\n",
       "Supra      700000.0\n",
       "Dodge       20000.0\n",
       "KIA         30000.0\n",
       "Ferrari         NaN\n",
       "Honda       45000.0\n",
       "BYD         12000.0\n",
       "Jaguar          NaN\n",
       "Nissan          NaN\n",
       "Name: Salon, dtype: float64"
      ]
     },
     "execution_count": 28,
     "metadata": {},
     "output_type": "execute_result"
    }
   ],
   "source": [
    "cars2"
   ]
  },
  {
   "cell_type": "code",
   "execution_count": 30,
   "id": "106b3195-2554-4d82-8ed5-ba5e2970ada8",
   "metadata": {},
   "outputs": [
    {
     "data": {
      "text/plain": [
       "Index(['KIA', 'BYD', 'Dodge', 'Honda', 'Supra'], dtype='object')"
      ]
     },
     "execution_count": 30,
     "metadata": {},
     "output_type": "execute_result"
    }
   ],
   "source": [
    "cars.index # indekslar "
   ]
  },
  {
   "cell_type": "code",
   "execution_count": 31,
   "id": "eaecf5d8-8b0b-445f-9eae-0a0ff1b3f200",
   "metadata": {},
   "outputs": [
    {
     "data": {
      "text/plain": [
       "45000"
      ]
     },
     "execution_count": 31,
     "metadata": {},
     "output_type": "execute_result"
    }
   ],
   "source": [
    "cars['Honda']"
   ]
  },
  {
   "cell_type": "code",
   "execution_count": 32,
   "id": "26add309-af96-4b2c-81bf-ee3e61adb7b5",
   "metadata": {},
   "outputs": [],
   "source": [
    "# 'Honda','Mazda','Lacetti','Jaguar','Malibu','Toyota'\n",
    "new_prices = Series({\"Honda\":5000, \"Mazda\":-3000, \"Malibu\":4500, \"Toyota\":5200, 'Lacetti':-1200})"
   ]
  },
  {
   "cell_type": "code",
   "execution_count": 33,
   "id": "89e2d72e-9a28-4fcb-a5aa-5693a06c9be5",
   "metadata": {},
   "outputs": [
    {
     "data": {
      "text/plain": [
       "Honda      5000\n",
       "Mazda     -3000\n",
       "Malibu     4500\n",
       "Toyota     5200\n",
       "Lacetti   -1200\n",
       "dtype: int64"
      ]
     },
     "execution_count": 33,
     "metadata": {},
     "output_type": "execute_result"
    }
   ],
   "source": [
    "new_prices"
   ]
  },
  {
   "cell_type": "code",
   "execution_count": 34,
   "id": "0caf1937-d86f-49ba-b538-24fc07956fdc",
   "metadata": {},
   "outputs": [
    {
     "data": {
      "text/plain": [
       "BYD            NaN\n",
       "Dodge          NaN\n",
       "Honda      50000.0\n",
       "KIA            NaN\n",
       "Lacetti        NaN\n",
       "Malibu         NaN\n",
       "Mazda          NaN\n",
       "Supra          NaN\n",
       "Toyota         NaN\n",
       "dtype: float64"
      ]
     },
     "execution_count": 34,
     "metadata": {},
     "output_type": "execute_result"
    }
   ],
   "source": [
    "cars+new_prices"
   ]
  },
  {
   "cell_type": "code",
   "execution_count": 37,
   "id": "07ef3980-1286-44c5-861f-514b8d69e642",
   "metadata": {},
   "outputs": [
    {
     "data": {
      "text/plain": [
       "True"
      ]
     },
     "execution_count": 37,
     "metadata": {},
     "output_type": "execute_result"
    }
   ],
   "source": [
    "cars2.hasnans  # true = NaN qiymat bor,     false = NaN qiymat yo'q"
   ]
  },
  {
   "cell_type": "code",
   "execution_count": 38,
   "id": "86416b94-327d-4b0b-a975-2f774073c61d",
   "metadata": {},
   "outputs": [
    {
     "data": {
      "text/plain": [
       "True"
      ]
     },
     "execution_count": 38,
     "metadata": {},
     "output_type": "execute_result"
    }
   ],
   "source": [
    "cars.is_unique # qiymatlar takrorlanmas ekanini tekshirish"
   ]
  },
  {
   "cell_type": "code",
   "execution_count": 40,
   "id": "75869ae0-8539-420b-a7a4-dc50c82c9f45",
   "metadata": {},
   "outputs": [
    {
     "data": {
      "text/plain": [
       "Modellar\n",
       "Supra      700000.0\n",
       "Dodge       20000.0\n",
       "KIA         30000.0\n",
       "Ferrari         NaN\n",
       "Honda       45000.0\n",
       "BYD         12000.0\n",
       "Jaguar          NaN\n",
       "Nissan          NaN\n",
       "Name: Salon, dtype: float64"
      ]
     },
     "execution_count": 40,
     "metadata": {},
     "output_type": "execute_result"
    }
   ],
   "source": [
    "cars2"
   ]
  },
  {
   "cell_type": "code",
   "execution_count": 41,
   "id": "c82c882c-b192-41a9-83ce-71c4344623a3",
   "metadata": {},
   "outputs": [
    {
     "data": {
      "text/plain": [
       "False"
      ]
     },
     "execution_count": 41,
     "metadata": {},
     "output_type": "execute_result"
    }
   ],
   "source": [
    "cars2.is_unique # qiymatlar takrorlanmas ekanini tekshirish"
   ]
  },
  {
   "cell_type": "code",
   "execution_count": 42,
   "id": "db3ff706-0bdc-447c-aff2-6a841491ded6",
   "metadata": {},
   "outputs": [
    {
     "data": {
      "text/plain": [
       "KIA       30000\n",
       "BYD       12000\n",
       "Dodge     20000\n",
       "Honda     45000\n",
       "Supra    700000\n",
       "dtype: int64"
      ]
     },
     "execution_count": 42,
     "metadata": {},
     "output_type": "execute_result"
    }
   ],
   "source": [
    "cars"
   ]
  },
  {
   "cell_type": "code",
   "execution_count": 43,
   "id": "d7d8ae82-d4a2-4f0f-b45a-bddff5e98573",
   "metadata": {},
   "outputs": [
    {
     "data": {
      "text/plain": [
       "(5,)"
      ]
     },
     "execution_count": 43,
     "metadata": {},
     "output_type": "execute_result"
    }
   ],
   "source": [
    "cars.shape # Series hajmi"
   ]
  },
  {
   "cell_type": "code",
   "execution_count": 44,
   "id": "6dc0c329-3321-481a-8102-c829c0981a31",
   "metadata": {},
   "outputs": [
    {
     "data": {
      "text/plain": [
       "5"
      ]
     },
     "execution_count": 44,
     "metadata": {},
     "output_type": "execute_result"
    }
   ],
   "source": [
    "cars.size # Series hajmi"
   ]
  },
  {
   "cell_type": "code",
   "execution_count": 45,
   "id": "feb53445-9937-43c9-9b76-7da9499dc4e5",
   "metadata": {},
   "outputs": [
    {
     "data": {
      "text/plain": [
       "30000.0"
      ]
     },
     "execution_count": 45,
     "metadata": {},
     "output_type": "execute_result"
    }
   ],
   "source": [
    "cars2.iloc[2] # ma'lumotlarga indeks tartib raqami bo'yicha murojaat qilish"
   ]
  },
  {
   "cell_type": "code",
   "execution_count": 46,
   "id": "3b3c2b13-efac-408a-ab73-6fc8fdbc0416",
   "metadata": {},
   "outputs": [
    {
     "data": {
      "text/plain": [
       "20000"
      ]
     },
     "execution_count": 46,
     "metadata": {},
     "output_type": "execute_result"
    }
   ],
   "source": [
    "cars.iloc[2] # ma'lumotlarga indeks tartib raqami bo'yicha murojaat qilish"
   ]
  },
  {
   "cell_type": "code",
   "execution_count": 49,
   "id": "7a0299bf-29d6-4906-9b88-3d8bff247569",
   "metadata": {},
   "outputs": [
    {
     "data": {
      "text/plain": [
       "700000"
      ]
     },
     "execution_count": 49,
     "metadata": {},
     "output_type": "execute_result"
    }
   ],
   "source": [
    "cars.iloc[-1]   # supra narxi"
   ]
  },
  {
   "cell_type": "code",
   "execution_count": 51,
   "id": "2bb9e2af-dc5d-4094-9211-a09dfcc8131a",
   "metadata": {},
   "outputs": [
    {
     "data": {
      "text/plain": [
       "nan"
      ]
     },
     "execution_count": 51,
     "metadata": {},
     "output_type": "execute_result"
    }
   ],
   "source": [
    "cars2.iloc[-1] # bu indeksda qiymat yo'q degani"
   ]
  },
  {
   "cell_type": "code",
   "execution_count": 52,
   "id": "c87c0fbe-3e22-4e20-825c-f73cf4212f67",
   "metadata": {},
   "outputs": [
    {
     "data": {
      "text/plain": [
       "161400.0"
      ]
     },
     "execution_count": 52,
     "metadata": {},
     "output_type": "execute_result"
    }
   ],
   "source": [
    "cars.mean() # o'rtacha qiymat"
   ]
  },
  {
   "cell_type": "code",
   "execution_count": 53,
   "id": "91e8a214-965a-46b9-afac-d8549d0a6b3a",
   "metadata": {},
   "outputs": [
    {
     "data": {
      "text/plain": [
       "161400.0"
      ]
     },
     "execution_count": 53,
     "metadata": {},
     "output_type": "execute_result"
    }
   ],
   "source": [
    "cars2.mean() # o'rtacha qiymat"
   ]
  },
  {
   "cell_type": "code",
   "execution_count": null,
   "id": "e2facb4d-39b3-478d-83cb-eb1d231f750e",
   "metadata": {},
   "outputs": [],
   "source": []
  }
 ],
 "metadata": {
  "kernelspec": {
   "display_name": "Python 3 (ipykernel)",
   "language": "python",
   "name": "python3"
  },
  "language_info": {
   "codemirror_mode": {
    "name": "ipython",
    "version": 3
   },
   "file_extension": ".py",
   "mimetype": "text/x-python",
   "name": "python",
   "nbconvert_exporter": "python",
   "pygments_lexer": "ipython3",
   "version": "3.10.12"
  }
 },
 "nbformat": 4,
 "nbformat_minor": 5
}
