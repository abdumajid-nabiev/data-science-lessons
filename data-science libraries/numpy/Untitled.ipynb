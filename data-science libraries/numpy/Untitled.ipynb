{
 "cells": [
  {
   "cell_type": "code",
   "execution_count": 13,
   "id": "2494b617-1c3e-436a-acf6-65b1ceeac654",
   "metadata": {},
   "outputs": [],
   "source": [
    "import numpy as np"
   ]
  },
  {
   "cell_type": "code",
   "execution_count": 14,
   "id": "eeeeda6e-cd82-431f-9c4f-33c2098a80d4",
   "metadata": {},
   "outputs": [],
   "source": [
    "data1 = [3,4,5,3,2,5,7,8] # list \n",
    "arr1 = np.array(data1) # array1"
   ]
  },
  {
   "cell_type": "code",
   "execution_count": 15,
   "id": "5490daaf-af0d-4467-b5f2-dd42130bdf5f",
   "metadata": {},
   "outputs": [
    {
     "data": {
      "text/plain": [
       "array([3, 4, 5, 3, 2, 5, 7, 8])"
      ]
     },
     "execution_count": 15,
     "metadata": {},
     "output_type": "execute_result"
    }
   ],
   "source": [
    "arr1"
   ]
  },
  {
   "cell_type": "code",
   "execution_count": 16,
   "id": "b01b863b-fd56-4f1b-b1ea-9c6bab1ed4b7",
   "metadata": {},
   "outputs": [],
   "source": [
    "data2 = (43,343,35,4546,57,676,8,45)\n",
    "arr2 = np.array(data2) "
   ]
  },
  {
   "cell_type": "code",
   "execution_count": 17,
   "id": "35eec90e-4e77-47a1-bed9-da0354c25769",
   "metadata": {},
   "outputs": [
    {
     "data": {
      "text/plain": [
       "array([  43,  343,   35, 4546,   57,  676,    8,   45])"
      ]
     },
     "execution_count": 17,
     "metadata": {},
     "output_type": "execute_result"
    }
   ],
   "source": [
    "arr2"
   ]
  },
  {
   "cell_type": "code",
   "execution_count": 18,
   "id": "877bde72-64dd-4a51-a617-f6b798f88ed5",
   "metadata": {},
   "outputs": [
    {
     "data": {
      "text/plain": [
       "1"
      ]
     },
     "execution_count": 18,
     "metadata": {},
     "output_type": "execute_result"
    }
   ],
   "source": [
    "arr2.ndim"
   ]
  },
  {
   "cell_type": "code",
   "execution_count": 19,
   "id": "a48b2454-4cb7-45c0-adc0-d585466119b3",
   "metadata": {},
   "outputs": [
    {
     "data": {
      "text/plain": [
       "1"
      ]
     },
     "execution_count": 19,
     "metadata": {},
     "output_type": "execute_result"
    }
   ],
   "source": [
    "arr1.ndim"
   ]
  },
  {
   "cell_type": "code",
   "execution_count": 26,
   "id": "a207fbb1-17d0-4c2c-8260-ac1267d3b5fc",
   "metadata": {},
   "outputs": [],
   "source": [
    "data3 = [[3,4,5,6,5],[3,4,3,5,1]]  # list ichifagi list (nested)\n",
    "arr3 = np.array(data3)"
   ]
  },
  {
   "cell_type": "code",
   "execution_count": 28,
   "id": "294a8573-7760-4993-8cdf-4d09eea1edac",
   "metadata": {},
   "outputs": [
    {
     "data": {
      "text/plain": [
       "array([[3, 4, 5, 6, 5],\n",
       "       [3, 4, 3, 5, 1]])"
      ]
     },
     "execution_count": 28,
     "metadata": {},
     "output_type": "execute_result"
    }
   ],
   "source": [
    "arr3"
   ]
  },
  {
   "cell_type": "code",
   "execution_count": 29,
   "id": "8fb3603b-62c1-4ad7-8fde-61e3b1c16cd4",
   "metadata": {},
   "outputs": [
    {
     "data": {
      "text/plain": [
       "2"
      ]
     },
     "execution_count": 29,
     "metadata": {},
     "output_type": "execute_result"
    }
   ],
   "source": [
    "arr3.ndim"
   ]
  },
  {
   "cell_type": "code",
   "execution_count": 31,
   "id": "23c62a19-09e4-42a0-8209-0d2c75d74e15",
   "metadata": {},
   "outputs": [
    {
     "data": {
      "text/plain": [
       "(2, 5)"
      ]
     },
     "execution_count": 31,
     "metadata": {},
     "output_type": "execute_result"
    }
   ],
   "source": [
    "arr3.shape   # qator va ustunlar sonini ko'rsatadi ( qator = 2,  ustun = 5)"
   ]
  },
  {
   "cell_type": "code",
   "execution_count": 32,
   "id": "d6247b2e-366d-470e-9d9a-ef65f8de35ba",
   "metadata": {},
   "outputs": [
    {
     "data": {
      "text/plain": [
       "10"
      ]
     },
     "execution_count": 32,
     "metadata": {},
     "output_type": "execute_result"
    }
   ],
   "source": [
    "arr3.size  # elementlar sonini ko'rsatadi "
   ]
  },
  {
   "cell_type": "code",
   "execution_count": 36,
   "id": "e3691cc3-3d80-4fc8-80b0-c83f2d29d93f",
   "metadata": {},
   "outputs": [
    {
     "data": {
      "text/plain": [
       "array([[0., 0., 0., 0., 0., 0.],\n",
       "       [0., 0., 0., 0., 0., 0.]])"
      ]
     },
     "execution_count": 36,
     "metadata": {},
     "output_type": "execute_result"
    }
   ],
   "source": [
    "arr4 = np.zeros((2, 6))\n",
    "arr4 "
   ]
  },
  {
   "cell_type": "code",
   "execution_count": 37,
   "id": "eb1c81dd-fcb2-4c84-9882-4df0c66ef518",
   "metadata": {},
   "outputs": [
    {
     "data": {
      "text/plain": [
       "array([[1., 1., 1., 1., 1., 1.],\n",
       "       [1., 1., 1., 1., 1., 1.]])"
      ]
     },
     "execution_count": 37,
     "metadata": {},
     "output_type": "execute_result"
    }
   ],
   "source": [
    "arr5 = np.ones((2, 6))\n",
    "arr5"
   ]
  },
  {
   "cell_type": "code",
   "execution_count": 40,
   "id": "6d24000c-5f5e-489c-b002-900d0ddbd1bb",
   "metadata": {},
   "outputs": [
    {
     "data": {
      "text/plain": [
       "array([ 0,  1,  2,  3,  4,  5,  6,  7,  8,  9, 10, 11, 12, 13, 14, 15, 16,\n",
       "       17, 18, 19])"
      ]
     },
     "execution_count": 40,
     "metadata": {},
     "output_type": "execute_result"
    }
   ],
   "source": [
    "arr6 = np.arange(20)\n",
    "arr6"
   ]
  },
  {
   "cell_type": "code",
   "execution_count": 39,
   "id": "c3b46807-3830-447c-acbc-bbb291a08d82",
   "metadata": {},
   "outputs": [
    {
     "data": {
      "text/plain": [
       "array([ 1, 11, 21, 31, 41, 51, 61, 71, 81])"
      ]
     },
     "execution_count": 39,
     "metadata": {},
     "output_type": "execute_result"
    }
   ],
   "source": [
    "arr7 = np.arange(1, 90, 10)\n",
    "arr7 "
   ]
  }
 ],
 "metadata": {
  "kernelspec": {
   "display_name": "Python 3 (ipykernel)",
   "language": "python",
   "name": "python3"
  },
  "language_info": {
   "codemirror_mode": {
    "name": "ipython",
    "version": 3
   },
   "file_extension": ".py",
   "mimetype": "text/x-python",
   "name": "python",
   "nbconvert_exporter": "python",
   "pygments_lexer": "ipython3",
   "version": "3.10.12"
  },
  "widgets": {
   "application/vnd.jupyter.widget-state+json": {
    "state": {},
    "version_major": 2,
    "version_minor": 0
   }
  }
 },
 "nbformat": 4,
 "nbformat_minor": 5
}
