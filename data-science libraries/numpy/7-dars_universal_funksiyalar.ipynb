{
 "cells": [
  {
   "cell_type": "code",
   "execution_count": 1,
   "id": "a92181b3-efc3-4785-afd9-8aaa6767d753",
   "metadata": {},
   "outputs": [],
   "source": [
    "import numpy as np"
   ]
  },
  {
   "cell_type": "code",
   "execution_count": 3,
   "id": "f268c885-b31a-4118-ac5d-f56594f847e4",
   "metadata": {},
   "outputs": [
    {
     "data": {
      "text/plain": [
       "array([0, 1, 2, 3, 4, 5, 6, 7, 8, 9])"
      ]
     },
     "execution_count": 3,
     "metadata": {},
     "output_type": "execute_result"
    }
   ],
   "source": [
    "arr = np.arange(10)\n",
    "arr"
   ]
  },
  {
   "cell_type": "markdown",
   "id": "bb72567a-1fba-497e-ad9c-0e8aa1ecdfe0",
   "metadata": {},
   "source": [
    "`Urany` funksiyalar yani bitta argument oladi (arg1)"
   ]
  },
  {
   "cell_type": "markdown",
   "id": "49a2f691-c22a-4c07-83ef-bd47660d0615",
   "metadata": {},
   "source": [
    "`sqrt` massivning xar bir elementini kvadrat ildizni qaytaradi"
   ]
  },
  {
   "cell_type": "code",
   "execution_count": 4,
   "id": "6b83c0f0-ff1d-4965-8aa2-3170842d1ee2",
   "metadata": {},
   "outputs": [
    {
     "data": {
      "text/plain": [
       "array([0.        , 1.        , 1.41421356, 1.73205081, 2.        ,\n",
       "       2.23606798, 2.44948974, 2.64575131, 2.82842712, 3.        ])"
      ]
     },
     "execution_count": 4,
     "metadata": {},
     "output_type": "execute_result"
    }
   ],
   "source": [
    "np.sqrt(arr) # arr nomli massivning barcha elementlaridan kv ildizni qaytaradi"
   ]
  },
  {
   "cell_type": "markdown",
   "id": "c9ab938c-7f74-40b7-9928-4498df756d67",
   "metadata": {},
   "source": [
    "`square` massivning xar bir elementini kvadratga oshiradi"
   ]
  },
  {
   "cell_type": "code",
   "execution_count": 5,
   "id": "39319967-edfb-41e5-95e3-75a4691fa88e",
   "metadata": {},
   "outputs": [
    {
     "data": {
      "text/plain": [
       "array([ 0,  1,  4,  9, 16, 25, 36, 49, 64, 81])"
      ]
     },
     "execution_count": 5,
     "metadata": {},
     "output_type": "execute_result"
    }
   ],
   "source": [
    "np.square(arr) # arr nomli massivning barcha elementlarini kvadratga oshiradi"
   ]
  },
  {
   "cell_type": "markdown",
   "id": "c6c94c0b-98f2-4a6d-a3cf-51bfb1e6d832",
   "metadata": {},
   "source": [
    "`exp` massivning xar bir elementini eksponentini qaytaradi"
   ]
  },
  {
   "cell_type": "code",
   "execution_count": 10,
   "id": "62986512-59d9-4960-a79c-30cbdcbc8304",
   "metadata": {},
   "outputs": [
    {
     "data": {
      "text/plain": [
       "array([1.00000000e+00, 2.71828183e+00, 7.38905610e+00, 2.00855369e+01,\n",
       "       5.45981500e+01, 1.48413159e+02, 4.03428793e+02, 1.09663316e+03,\n",
       "       2.98095799e+03, 8.10308393e+03])"
      ]
     },
     "execution_count": 10,
     "metadata": {},
     "output_type": "execute_result"
    }
   ],
   "source": [
    "np.exp(arr) # arr nomli massivning barcha elemntlarini eksponentini qaytaradi"
   ]
  },
  {
   "cell_type": "markdown",
   "id": "b86ba3fa-149d-4d8a-8698-b635a0f5bcd1",
   "metadata": {},
   "source": [
    "`log` massivning xar bir logorifmini hisoblaydi"
   ]
  },
  {
   "cell_type": "code",
   "execution_count": 8,
   "id": "c2a5dd70-882f-489d-8693-6f7bfa6cc92c",
   "metadata": {},
   "outputs": [
    {
     "data": {
      "text/plain": [
       "array([0.        , 0.69314718, 1.09861229, 1.38629436, 1.60943791,\n",
       "       1.79175947, 1.94591015, 2.07944154, 2.19722458])"
      ]
     },
     "execution_count": 8,
     "metadata": {},
     "output_type": "execute_result"
    }
   ],
   "source": [
    "np.log(arr[1:]) # arr nomli massivning 0-elementdan tashqari barcha elementlarini logarifmini hisoblaydi (loge)"
   ]
  },
  {
   "cell_type": "markdown",
   "id": "2c8ef9bf-63bb-4ed6-8d6d-b635ecbe30ba",
   "metadata": {},
   "source": [
    "`modf` bu funksiya haqiqiy sonlarni butun va qoldiq qismlarini ajratib beruvchi funksiya"
   ]
  },
  {
   "cell_type": "code",
   "execution_count": 11,
   "id": "3f9f52e5-7088-4b24-a0fd-af26098f77c7",
   "metadata": {},
   "outputs": [
    {
     "data": {
      "text/plain": [
       "array([ 0.05083832, -0.87935673, -1.24552952,  0.49405693,  0.1681008 ,\n",
       "        0.91438399])"
      ]
     },
     "execution_count": 11,
     "metadata": {},
     "output_type": "execute_result"
    }
   ],
   "source": [
    "arr1 = np.random.randn(6) # 6 ta elementdan iborat taxminiy qiymatlarga ega massiv\n",
    "arr1"
   ]
  },
  {
   "cell_type": "code",
   "execution_count": 12,
   "id": "532c9ad5-5e95-4bd4-9d3a-c240ca64d815",
   "metadata": {},
   "outputs": [],
   "source": [
    "qoldiq, butun = np.modf(arr1) # arr1 ning elementlarini qoldiq va butun qismlarini ikkita massivga ajratadi"
   ]
  },
  {
   "cell_type": "code",
   "execution_count": 13,
   "id": "e73ed55f-5041-4cb3-8f06-96fe35418db1",
   "metadata": {},
   "outputs": [
    {
     "name": "stdout",
     "output_type": "stream",
     "text": [
      "[ 0.05083832 -0.87935673 -0.24552952  0.49405693  0.1681008   0.91438399]\n",
      "[ 0. -0. -1.  0.  0.  0.]\n"
     ]
    }
   ],
   "source": [
    "print(qoldiq)\n",
    "print(butun)"
   ]
  },
  {
   "cell_type": "markdown",
   "id": "32eab3c5-6860-4185-b8ec-3a270fe313d3",
   "metadata": {},
   "source": [
    "`sign` funkisyasi massiv elementlarini qiymati manfiy bo'lsa -1 \n",
    "va aksincha musbat bo'lsa 1 ni qaytaradi"
   ]
  },
  {
   "cell_type": "code",
   "execution_count": 15,
   "id": "94b01ff6-cbc1-44e3-bb98-668e230c6693",
   "metadata": {},
   "outputs": [
    {
     "data": {
      "text/plain": [
       "array([ 1., -1., -1.,  1.,  1.,  1.])"
      ]
     },
     "execution_count": 15,
     "metadata": {},
     "output_type": "execute_result"
    }
   ],
   "source": [
    "np.sign(arr1) # arr1 massivining elementlari ishoralarini \"-1\" va \"1\" ko'rinishida qaytaradi"
   ]
  },
  {
   "cell_type": "markdown",
   "id": "79fb1d40-f213-4ab7-9737-2ada1ae75525",
   "metadata": {},
   "source": [
    "`isnan` massivning elementlarida NaN ma'lumoti bo'lsa True qaytaradi va aksincha esa False qaytaradi"
   ]
  },
  {
   "cell_type": "code",
   "execution_count": 16,
   "id": "f4b4104e-4102-4783-8797-ae61e644680d",
   "metadata": {},
   "outputs": [
    {
     "data": {
      "text/plain": [
       "array([ 0.05083832, -0.87935673, -1.24552952,  0.49405693,  0.1681008 ,\n",
       "        0.91438399])"
      ]
     },
     "execution_count": 16,
     "metadata": {},
     "output_type": "execute_result"
    }
   ],
   "source": [
    "arr1"
   ]
  },
  {
   "cell_type": "code",
   "execution_count": 17,
   "id": "169780fb-790a-46b2-ad35-5485cf72405f",
   "metadata": {},
   "outputs": [
    {
     "data": {
      "text/plain": [
       "array([False, False, False, False, False, False])"
      ]
     },
     "execution_count": 17,
     "metadata": {},
     "output_type": "execute_result"
    }
   ],
   "source": [
    "np.isnan(arr1)"
   ]
  },
  {
   "cell_type": "code",
   "execution_count": 18,
   "id": "5f7a13cb-d682-4ec4-917e-61ce3564ff74",
   "metadata": {},
   "outputs": [],
   "source": [
    "arr1[0] = np.NaN # 0- elementimizni nan ga almashtirish"
   ]
  },
  {
   "cell_type": "code",
   "execution_count": 19,
   "id": "e0fda18d-9fd7-4208-8ede-6765d28b5383",
   "metadata": {},
   "outputs": [
    {
     "data": {
      "text/plain": [
       "array([        nan, -0.87935673, -1.24552952,  0.49405693,  0.1681008 ,\n",
       "        0.91438399])"
      ]
     },
     "execution_count": 19,
     "metadata": {},
     "output_type": "execute_result"
    }
   ],
   "source": [
    "arr1"
   ]
  },
  {
   "cell_type": "code",
   "execution_count": 20,
   "id": "b52c90fc-8c64-4406-af2a-6bad806c44d0",
   "metadata": {},
   "outputs": [
    {
     "data": {
      "text/plain": [
       "array([ True, False, False, False, False, False])"
      ]
     },
     "execution_count": 20,
     "metadata": {},
     "output_type": "execute_result"
    }
   ],
   "source": [
    "np.isnan(arr1)"
   ]
  },
  {
   "cell_type": "markdown",
   "id": "f829c9e2-f888-4201-a55d-895fbe7e25fd",
   "metadata": {},
   "source": [
    "Binary funksiyalar (ikkita argument qabul qiluvchi funkisya)\n",
    "`add`, `multiply`, `maximum` funksiyalarini ko'rib chiqamiz\n",
    "`add` ikkita massivning mos elementlarini qo'shadi"
   ]
  },
  {
   "cell_type": "code",
   "execution_count": 21,
   "id": "8582730f-5606-4790-93a9-5d17c5344bb5",
   "metadata": {},
   "outputs": [],
   "source": [
    "# 2 ta massivni yaratib olamiz\n",
    "arr2 = np.random.randn(6)\n",
    "arr3 = np.random.randn(6)"
   ]
  },
  {
   "cell_type": "code",
   "execution_count": 22,
   "id": "ff5c4a4d-f6a1-4825-ba8c-5049f7a701cf",
   "metadata": {},
   "outputs": [
    {
     "data": {
      "text/plain": [
       "array([ 0.98243   ,  0.43604515,  0.75268075,  0.09256417,  0.72386897,\n",
       "       -0.08726899])"
      ]
     },
     "execution_count": 22,
     "metadata": {},
     "output_type": "execute_result"
    }
   ],
   "source": [
    "arr2\n",
    "arr3"
   ]
  },
  {
   "cell_type": "code",
   "execution_count": 23,
   "id": "c04a1335-e6c1-48ab-871c-e0fe925e5093",
   "metadata": {},
   "outputs": [
    {
     "data": {
      "text/plain": [
       "array([ 2.72041753,  0.19359167,  0.57576811,  1.29602486,  0.83770098,\n",
       "       -1.4945216 ])"
      ]
     },
     "execution_count": 23,
     "metadata": {},
     "output_type": "execute_result"
    }
   ],
   "source": [
    "np.add(arr2, arr3)"
   ]
  },
  {
   "cell_type": "code",
   "execution_count": 24,
   "id": "74a1f7bd-c3f1-4634-bfdb-bcc61ee9727e",
   "metadata": {},
   "outputs": [
    {
     "data": {
      "text/plain": [
       "array([ 2.72041753,  0.19359167,  0.57576811,  1.29602486,  0.83770098,\n",
       "       -1.4945216 ])"
      ]
     },
     "execution_count": 24,
     "metadata": {},
     "output_type": "execute_result"
    }
   ],
   "source": [
    "arr2 + arr3 # arr2 va arr3 ning elementlarini mos ravishda qo'shib beradi"
   ]
  },
  {
   "cell_type": "markdown",
   "id": "2a39c1ff-f72a-43fc-89b8-bece64545c2a",
   "metadata": {},
   "source": [
    "`multiply` ikkita massivning mos elementlarini ko'paytiradi"
   ]
  },
  {
   "cell_type": "code",
   "execution_count": 25,
   "id": "3edf7cfe-6bbc-43d3-bc9c-8867d26090ce",
   "metadata": {},
   "outputs": [
    {
     "data": {
      "text/plain": [
       "array([ 1.70745109, -0.10572067, -0.13315873,  0.11139734,  0.08239946,\n",
       "        0.12280951])"
      ]
     },
     "execution_count": 25,
     "metadata": {},
     "output_type": "execute_result"
    }
   ],
   "source": [
    "np.multiply(arr2, arr3) # arr2 va arr3 ning mos elementlarini ko'paytiradi"
   ]
  },
  {
   "cell_type": "markdown",
   "id": "e5b86334-4c32-4d83-8fe8-c56e83806b84",
   "metadata": {},
   "source": [
    "`maximum` ikkita massivning elementlarin taqqoslab ulardan kattasining qiymatini qaytaradi"
   ]
  },
  {
   "cell_type": "code",
   "execution_count": 26,
   "id": "1e4d0587-812a-45d4-8336-187c41b00c6c",
   "metadata": {},
   "outputs": [
    {
     "data": {
      "text/plain": [
       "array([ 1.73798754,  0.43604515,  0.75268075,  1.20346069,  0.72386897,\n",
       "       -0.08726899])"
      ]
     },
     "execution_count": 26,
     "metadata": {},
     "output_type": "execute_result"
    }
   ],
   "source": [
    "np.maximum(arr2, arr3) # arr2 va arr3 larning elementlarin taqqoslab, kattasining elementini qaytaradi"
   ]
  },
  {
   "cell_type": "code",
   "execution_count": null,
   "id": "fea62f65-4056-4464-a461-5d50e38ae95d",
   "metadata": {},
   "outputs": [],
   "source": []
  }
 ],
 "metadata": {
  "kernelspec": {
   "display_name": "Python 3 (ipykernel)",
   "language": "python",
   "name": "python3"
  },
  "language_info": {
   "codemirror_mode": {
    "name": "ipython",
    "version": 3
   },
   "file_extension": ".py",
   "mimetype": "text/x-python",
   "name": "python",
   "nbconvert_exporter": "python",
   "pygments_lexer": "ipython3",
   "version": "3.10.12"
  }
 },
 "nbformat": 4,
 "nbformat_minor": 5
}
