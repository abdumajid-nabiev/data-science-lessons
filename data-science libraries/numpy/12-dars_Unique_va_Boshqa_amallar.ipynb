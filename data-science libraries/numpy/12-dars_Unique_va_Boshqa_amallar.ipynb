{
 "cells": [
  {
   "cell_type": "code",
   "execution_count": 1,
   "id": "3d2c202e-8cfa-4ece-b414-5efc6ec93e3e",
   "metadata": {},
   "outputs": [],
   "source": [
    "import numpy as np"
   ]
  },
  {
   "cell_type": "code",
   "execution_count": 2,
   "id": "56321feb-5413-4bc6-81d7-1e8ac15dadfb",
   "metadata": {},
   "outputs": [],
   "source": [
    "names = np.array(['Sarvar', 'Abdurahmon', 'Hasan', 'Temurlane', 'Sarvar', 'Temurlane'])\n",
    "ints = np.array([3, 3, 3, 2, 2, 1, 1, 4, 4])"
   ]
  },
  {
   "cell_type": "markdown",
   "id": "e6ff9aa7-e927-4c4e-8e7b-5df4eb1992c5",
   "metadata": {},
   "source": [
    "### `unique` "
   ]
  },
  {
   "cell_type": "code",
   "execution_count": 3,
   "id": "715af1dc-64c1-4eff-b805-ee81cc260531",
   "metadata": {},
   "outputs": [
    {
     "data": {
      "text/plain": [
       "array(['Abdurahmon', 'Hasan', 'Sarvar', 'Temurlane'], dtype='<U10')"
      ]
     },
     "execution_count": 3,
     "metadata": {},
     "output_type": "execute_result"
    }
   ],
   "source": [
    "np.unique(names)"
   ]
  },
  {
   "cell_type": "code",
   "execution_count": 4,
   "id": "1fefe1c7-fecc-49da-b30a-f3cae5a3901f",
   "metadata": {},
   "outputs": [
    {
     "data": {
      "text/plain": [
       "{'Abdurahmon', 'Hasan', 'Sarvar', 'Temurlane'}"
      ]
     },
     "execution_count": 4,
     "metadata": {},
     "output_type": "execute_result"
    }
   ],
   "source": [
    "set(names)"
   ]
  },
  {
   "cell_type": "markdown",
   "id": "4f504d78-8741-4a6e-b71c-e2ee236af4f9",
   "metadata": {},
   "source": [
    "### `in1d`"
   ]
  },
  {
   "cell_type": "code",
   "execution_count": 5,
   "id": "dff82b78-d61b-4b62-93a7-8d031d84e952",
   "metadata": {},
   "outputs": [],
   "source": [
    "arr1 = np.array([6, 0, 0, 3, 2, 5, 6])\n",
    "arr2 = np.array([0, 2, 3])"
   ]
  },
  {
   "cell_type": "code",
   "execution_count": 6,
   "id": "f919c05d-5968-4e75-8788-ddcf898cd6d5",
   "metadata": {},
   "outputs": [
    {
     "data": {
      "text/plain": [
       "array([False,  True,  True,  True,  True, False, False])"
      ]
     },
     "execution_count": 6,
     "metadata": {},
     "output_type": "execute_result"
    }
   ],
   "source": [
    "np.in1d(arr1, arr2) #arr2 dagi elementlarni arr1 da mavjudligini tekshirish uchun "
   ]
  },
  {
   "cell_type": "markdown",
   "id": "86e97ed3-7ba7-4032-885c-f382dc1bd8e7",
   "metadata": {},
   "source": [
    "### `setdiff1d` "
   ]
  },
  {
   "cell_type": "code",
   "execution_count": 7,
   "id": "0b33ebc8-dedf-49d6-bfce-ebabbee2f7b5",
   "metadata": {},
   "outputs": [],
   "source": [
    "names1 = np.array(['Khabib', 'Zubayr', 'Umar', 'Islam', 'Usman', 'Zabit', 'Temur'])\n",
    "names2 = np.array(['Karim', 'Zubayr', 'Umar', 'Temur', 'Sarvar', 'Usman', 'Islam'])"
   ]
  },
  {
   "cell_type": "code",
   "execution_count": 8,
   "id": "b4012d44-3688-4910-a2bf-8dd6992dcfed",
   "metadata": {},
   "outputs": [
    {
     "data": {
      "text/plain": [
       "array(['Khabib', 'Zabit'], dtype='<U6')"
      ]
     },
     "execution_count": 8,
     "metadata": {},
     "output_type": "execute_result"
    }
   ],
   "source": [
    "np.setdiff1d(names1, names2)"
   ]
  },
  {
   "cell_type": "code",
   "execution_count": null,
   "id": "19371196-faa1-4cb8-98c1-87ef9f5a63ab",
   "metadata": {},
   "outputs": [],
   "source": []
  }
 ],
 "metadata": {
  "kernelspec": {
   "display_name": "Python 3 (ipykernel)",
   "language": "python",
   "name": "python3"
  },
  "language_info": {
   "codemirror_mode": {
    "name": "ipython",
    "version": 3
   },
   "file_extension": ".py",
   "mimetype": "text/x-python",
   "name": "python",
   "nbconvert_exporter": "python",
   "pygments_lexer": "ipython3",
   "version": "3.10.12"
  }
 },
 "nbformat": 4,
 "nbformat_minor": 5
}
