{
 "cells": [
  {
   "cell_type": "markdown",
   "id": "71749ac5-0dcf-42d7-8431-68701a67dd41",
   "metadata": {},
   "source": [
    "# 0-dars:  Ma'lumotlar tuzilmasi"
   ]
  },
  {
   "cell_type": "code",
   "execution_count": 1,
   "id": "ca97bba1-351f-4f16-97c5-e9cd65ac6709",
   "metadata": {},
   "outputs": [],
   "source": [
    "import pandas as pd"
   ]
  },
  {
   "cell_type": "code",
   "execution_count": 2,
   "id": "764b054a-1fee-4945-8889-3af99e492036",
   "metadata": {},
   "outputs": [],
   "source": [
    "import numpy as np"
   ]
  },
  {
   "cell_type": "code",
   "execution_count": 3,
   "id": "4f0c857a-9d99-4c27-8f74-9a9349a2a90b",
   "metadata": {},
   "outputs": [],
   "source": [
    "from pandas import Series"
   ]
  },
  {
   "cell_type": "code",
   "execution_count": 4,
   "id": "bb7216df-b69c-40c4-a109-e8ae2f2e36ca",
   "metadata": {},
   "outputs": [],
   "source": [
    "obj = Series([4, 5, 6, -5.4])"
   ]
  },
  {
   "cell_type": "code",
   "execution_count": 5,
   "id": "ee5a1db1-a350-4215-89c9-d2dfe109f61e",
   "metadata": {},
   "outputs": [
    {
     "data": {
      "text/plain": [
       "pandas.core.series.Series"
      ]
     },
     "execution_count": 5,
     "metadata": {},
     "output_type": "execute_result"
    }
   ],
   "source": [
    "type(obj)"
   ]
  },
  {
   "cell_type": "code",
   "execution_count": 6,
   "id": "9e48148e-c663-456d-b9f8-acd3bc1d3828",
   "metadata": {},
   "outputs": [
    {
     "name": "stdout",
     "output_type": "stream",
     "text": [
      "0    4.0\n",
      "1    5.0\n",
      "2    6.0\n",
      "3   -5.4\n",
      "dtype: float64\n"
     ]
    }
   ],
   "source": [
    "print(obj)"
   ]
  },
  {
   "cell_type": "code",
   "execution_count": 7,
   "id": "f2c0c4a2-5859-41d6-a4af-e4eb9e8ed1a5",
   "metadata": {},
   "outputs": [
    {
     "data": {
      "text/plain": [
       "array([ 4. ,  5. ,  6. , -5.4])"
      ]
     },
     "execution_count": 7,
     "metadata": {},
     "output_type": "execute_result"
    }
   ],
   "source": [
    "obj.values"
   ]
  },
  {
   "cell_type": "code",
   "execution_count": 8,
   "id": "d8ee297e-848b-4389-b0f5-f038f924f1ba",
   "metadata": {},
   "outputs": [
    {
     "data": {
      "text/plain": [
       "RangeIndex(start=0, stop=4, step=1)"
      ]
     },
     "execution_count": 8,
     "metadata": {},
     "output_type": "execute_result"
    }
   ],
   "source": [
    "obj.index"
   ]
  },
  {
   "cell_type": "code",
   "execution_count": 9,
   "id": "7bca9d19-d431-4c56-9d23-32f22fc90c93",
   "metadata": {},
   "outputs": [],
   "source": [
    "obj2=Series([3, 4, 5, 3], index=['a', 'b', 'c', 'd'] )"
   ]
  },
  {
   "cell_type": "code",
   "execution_count": 10,
   "id": "77735c44-3cbd-4588-a75b-173fd2fb0f8e",
   "metadata": {},
   "outputs": [
    {
     "data": {
      "text/plain": [
       "a    3\n",
       "b    4\n",
       "c    5\n",
       "d    3\n",
       "dtype: int64"
      ]
     },
     "execution_count": 10,
     "metadata": {},
     "output_type": "execute_result"
    }
   ],
   "source": [
    "obj2"
   ]
  },
  {
   "cell_type": "code",
   "execution_count": 11,
   "id": "a2034610-fccf-4994-b51b-b00f77201920",
   "metadata": {},
   "outputs": [
    {
     "data": {
      "text/plain": [
       "Index(['a', 'b', 'c', 'd'], dtype='object')"
      ]
     },
     "execution_count": 11,
     "metadata": {},
     "output_type": "execute_result"
    }
   ],
   "source": [
    "obj2.index"
   ]
  },
  {
   "cell_type": "code",
   "execution_count": 12,
   "id": "cc0f8b40-b354-4836-b302-5d90d0c580a4",
   "metadata": {},
   "outputs": [
    {
     "data": {
      "text/plain": [
       "3"
      ]
     },
     "execution_count": 12,
     "metadata": {},
     "output_type": "execute_result"
    }
   ],
   "source": [
    "obj2['a']"
   ]
  },
  {
   "cell_type": "code",
   "execution_count": 13,
   "id": "4557a8dd-7d13-45a5-9e60-e7d607090a8a",
   "metadata": {},
   "outputs": [
    {
     "data": {
      "text/plain": [
       "a    3\n",
       "c    5\n",
       "d    3\n",
       "b    4\n",
       "dtype: int64"
      ]
     },
     "execution_count": 13,
     "metadata": {},
     "output_type": "execute_result"
    }
   ],
   "source": [
    "obj2[[ 'a', 'c', 'd', 'b']]"
   ]
  },
  {
   "cell_type": "code",
   "execution_count": 14,
   "id": "6d7059e9-9108-4901-bf92-59930c22090f",
   "metadata": {},
   "outputs": [
    {
     "data": {
      "text/plain": [
       "b    4\n",
       "c    5\n",
       "dtype: int64"
      ]
     },
     "execution_count": 14,
     "metadata": {},
     "output_type": "execute_result"
    }
   ],
   "source": [
    "obj2[obj2>3]   # filterlash"
   ]
  },
  {
   "cell_type": "code",
   "execution_count": 15,
   "id": "87b540aa-06bb-49c6-9a08-b079f6855fe6",
   "metadata": {},
   "outputs": [
    {
     "data": {
      "text/plain": [
       "a     6\n",
       "b     8\n",
       "c    10\n",
       "d     6\n",
       "dtype: int64"
      ]
     },
     "execution_count": 15,
     "metadata": {},
     "output_type": "execute_result"
    }
   ],
   "source": [
    "obj2 * 2"
   ]
  },
  {
   "cell_type": "code",
   "execution_count": 16,
   "id": "1c85c83c-4c10-4d87-aa24-7905f6b2797c",
   "metadata": {},
   "outputs": [
    {
     "data": {
      "text/plain": [
       "a     20.085537\n",
       "b     54.598150\n",
       "c    148.413159\n",
       "d     20.085537\n",
       "dtype: float64"
      ]
     },
     "execution_count": 16,
     "metadata": {},
     "output_type": "execute_result"
    }
   ],
   "source": [
    "np.exp(obj2)"
   ]
  },
  {
   "cell_type": "code",
   "execution_count": null,
   "id": "8e3700ec-181c-44a3-b9e7-65d14d2187ed",
   "metadata": {},
   "outputs": [],
   "source": []
  },
  {
   "cell_type": "code",
   "execution_count": null,
   "id": "ebee2622-1d3f-4287-8962-c46867d1473c",
   "metadata": {},
   "outputs": [],
   "source": []
  }
 ],
 "metadata": {
  "kernelspec": {
   "display_name": "Python 3 (ipykernel)",
   "language": "python",
   "name": "python3"
  },
  "language_info": {
   "codemirror_mode": {
    "name": "ipython",
    "version": 3
   },
   "file_extension": ".py",
   "mimetype": "text/x-python",
   "name": "python",
   "nbconvert_exporter": "python",
   "pygments_lexer": "ipython3",
   "version": "3.10.12"
  }
 },
 "nbformat": 4,
 "nbformat_minor": 5
}
