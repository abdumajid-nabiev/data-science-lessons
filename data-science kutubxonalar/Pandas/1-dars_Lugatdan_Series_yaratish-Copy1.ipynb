{
 "cells": [
  {
   "cell_type": "markdown",
   "id": "ffeab3bc-16f8-4d94-9dc5-3bbf85db36b7",
   "metadata": {},
   "source": [
    "# 1-dars:  Lug'atdan Series yaratish"
   ]
  },
  {
   "cell_type": "code",
   "execution_count": 2,
   "id": "951b197f-71cd-4a14-a266-94e2424641ef",
   "metadata": {},
   "outputs": [],
   "source": [
    "import pandas as pd"
   ]
  },
  {
   "cell_type": "code",
   "execution_count": 3,
   "id": "2cff1d69-4499-4cff-a48e-7ece18918bdb",
   "metadata": {},
   "outputs": [],
   "source": [
    "import numpy as np"
   ]
  },
  {
   "cell_type": "code",
   "execution_count": 4,
   "id": "f4735f30-28ba-45f9-9121-bb21702ebfc6",
   "metadata": {},
   "outputs": [],
   "source": [
    "from pandas import Series"
   ]
  },
  {
   "cell_type": "code",
   "execution_count": null,
   "id": "4586e7c1-745c-4980-a300-c4c6b2d00944",
   "metadata": {},
   "outputs": [],
   "source": []
  },
  {
   "cell_type": "code",
   "execution_count": 5,
   "id": "64aad898-574e-4090-936d-037c69baf676",
   "metadata": {},
   "outputs": [],
   "source": [
    "cars_dict = {'KIA':30000, 'BYD':12000, 'Dodge':20000, 'Honda':45000, 'Supra':700000}"
   ]
  },
  {
   "cell_type": "code",
   "execution_count": 6,
   "id": "3bc0299d-4780-42fd-86a1-2bceba7a49fb",
   "metadata": {},
   "outputs": [
    {
     "data": {
      "text/plain": [
       "dict"
      ]
     },
     "execution_count": 6,
     "metadata": {},
     "output_type": "execute_result"
    }
   ],
   "source": [
    "type(cars_dict)"
   ]
  },
  {
   "cell_type": "code",
   "execution_count": 7,
   "id": "b68b6e2a-b960-4ab1-852d-1e415db2a716",
   "metadata": {},
   "outputs": [],
   "source": [
    "cars = Series(cars_dict)"
   ]
  },
  {
   "cell_type": "code",
   "execution_count": 8,
   "id": "c2712ef0-3341-4e6b-a6d6-6d641a13374c",
   "metadata": {},
   "outputs": [
    {
     "data": {
      "text/plain": [
       "KIA       30000\n",
       "BYD       12000\n",
       "Dodge     20000\n",
       "Honda     45000\n",
       "Supra    700000\n",
       "dtype: int64"
      ]
     },
     "execution_count": 8,
     "metadata": {},
     "output_type": "execute_result"
    }
   ],
   "source": [
    "cars"
   ]
  },
  {
   "cell_type": "code",
   "execution_count": 9,
   "id": "4a71f0d3-7952-460d-b15e-1c2611b49afe",
   "metadata": {},
   "outputs": [
    {
     "data": {
      "text/plain": [
       "pandas.core.series.Series"
      ]
     },
     "execution_count": 9,
     "metadata": {},
     "output_type": "execute_result"
    }
   ],
   "source": [
    "type(cars)"
   ]
  },
  {
   "cell_type": "code",
   "execution_count": 11,
   "id": "f03e731f-756f-40aa-ac6d-04174a9ca99a",
   "metadata": {},
   "outputs": [],
   "source": [
    "cars1 = Series({'KIA':30000, 'BYD':12000, 'Dodge':20000, 'Honda':45000, 'Supra':700000})"
   ]
  },
  {
   "cell_type": "code",
   "execution_count": 12,
   "id": "7ebf5673-1825-4429-9b8b-367b08fa7572",
   "metadata": {},
   "outputs": [
    {
     "data": {
      "text/plain": [
       "KIA       30000\n",
       "BYD       12000\n",
       "Dodge     20000\n",
       "Honda     45000\n",
       "Supra    700000\n",
       "dtype: int64"
      ]
     },
     "execution_count": 12,
     "metadata": {},
     "output_type": "execute_result"
    }
   ],
   "source": [
    "cars1"
   ]
  },
  {
   "cell_type": "code",
   "execution_count": 13,
   "id": "7b8435f7-254f-492b-b256-f346236bba9d",
   "metadata": {},
   "outputs": [
    {
     "data": {
      "text/plain": [
       "True"
      ]
     },
     "execution_count": 13,
     "metadata": {},
     "output_type": "execute_result"
    }
   ],
   "source": [
    "'BYD' in cars"
   ]
  },
  {
   "cell_type": "code",
   "execution_count": 14,
   "id": "22ba1782-aa7a-4456-b7a2-7f24edd3412a",
   "metadata": {},
   "outputs": [
    {
     "data": {
      "text/plain": [
       "False"
      ]
     },
     "execution_count": 14,
     "metadata": {},
     "output_type": "execute_result"
    }
   ],
   "source": [
    "'BMW' in cars1"
   ]
  },
  {
   "cell_type": "code",
   "execution_count": 15,
   "id": "bcfa4b86-431f-4365-9563-02abb4cecaae",
   "metadata": {},
   "outputs": [
    {
     "data": {
      "text/plain": [
       "700000"
      ]
     },
     "execution_count": 15,
     "metadata": {},
     "output_type": "execute_result"
    }
   ],
   "source": [
    "cars1['Supra']"
   ]
  },
  {
   "cell_type": "code",
   "execution_count": 22,
   "id": "1dca5543-6aee-428d-ad51-96a7d11bafb3",
   "metadata": {},
   "outputs": [],
   "source": [
    "models = ['Supra', 'Dodge', 'KIA', 'Ferrari', 'Honda', 'BYD']"
   ]
  },
  {
   "cell_type": "code",
   "execution_count": 23,
   "id": "93204cae-6c0c-4bac-abe9-663b05b0b66d",
   "metadata": {},
   "outputs": [],
   "source": [
    "cars2 = Series(cars_dict, index=models)"
   ]
  },
  {
   "cell_type": "code",
   "execution_count": 24,
   "id": "7506dfb6-2bd6-4da1-8788-669b40e75469",
   "metadata": {},
   "outputs": [
    {
     "data": {
      "text/plain": [
       "Supra      700000.0\n",
       "Dodge       20000.0\n",
       "KIA         30000.0\n",
       "Ferrari         NaN\n",
       "Honda       45000.0\n",
       "BYD         12000.0\n",
       "dtype: float64"
      ]
     },
     "execution_count": 24,
     "metadata": {},
     "output_type": "execute_result"
    }
   ],
   "source": [
    "cars2"
   ]
  },
  {
   "cell_type": "code",
   "execution_count": null,
   "id": "ccc1aed7-57d4-454c-9d94-cc75d4189899",
   "metadata": {},
   "outputs": [],
   "source": []
  }
 ],
 "metadata": {
  "kernelspec": {
   "display_name": "Python 3 (ipykernel)",
   "language": "python",
   "name": "python3"
  },
  "language_info": {
   "codemirror_mode": {
    "name": "ipython",
    "version": 3
   },
   "file_extension": ".py",
   "mimetype": "text/x-python",
   "name": "python",
   "nbconvert_exporter": "python",
   "pygments_lexer": "ipython3",
   "version": "3.10.12"
  }
 },
 "nbformat": 4,
 "nbformat_minor": 5
}
