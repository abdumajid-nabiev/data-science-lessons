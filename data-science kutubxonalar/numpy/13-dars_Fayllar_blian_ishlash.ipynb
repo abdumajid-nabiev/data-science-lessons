{
 "cells": [
  {
   "cell_type": "code",
   "execution_count": 1,
   "id": "0b1ec60d-f145-432f-b234-ae1602144946",
   "metadata": {},
   "outputs": [],
   "source": [
    "import numpy as np"
   ]
  },
  {
   "cell_type": "code",
   "execution_count": 3,
   "id": "6abe80ea-f5da-46a6-9e6d-d159bf12ab32",
   "metadata": {},
   "outputs": [
    {
     "data": {
      "text/plain": [
       "array([0, 1, 2, 3, 4, 5, 6, 7, 8, 9])"
      ]
     },
     "execution_count": 3,
     "metadata": {},
     "output_type": "execute_result"
    }
   ],
   "source": [
    "arr = np.arange(10)\n",
    "arr"
   ]
  },
  {
   "cell_type": "code",
   "execution_count": 4,
   "id": "dba4c478-925f-448a-bdf8-b46ece965f3f",
   "metadata": {},
   "outputs": [],
   "source": [
    "np.save('data', arr)"
   ]
  },
  {
   "cell_type": "code",
   "execution_count": 5,
   "id": "e82d0772-0075-409c-a374-3b67ddd4059a",
   "metadata": {},
   "outputs": [
    {
     "data": {
      "text/plain": [
       "array([0, 1, 2, 3, 4, 5, 6, 7, 8, 9])"
      ]
     },
     "execution_count": 5,
     "metadata": {},
     "output_type": "execute_result"
    }
   ],
   "source": [
    "arr2 = np.load('data.npy')\n",
    "arr2"
   ]
  },
  {
   "cell_type": "code",
   "execution_count": 6,
   "id": "b89b21fa-c7d2-4d9b-99bd-bd5912e192f2",
   "metadata": {},
   "outputs": [],
   "source": [
    "arr3 = np.arange(20)"
   ]
  },
  {
   "cell_type": "code",
   "execution_count": 8,
   "id": "f80d4d0d-4e1a-4827-b6bf-caceeb32e154",
   "metadata": {},
   "outputs": [],
   "source": [
    "np.savez('arrays', a=arr, b=arr2)  #argument ko'rimishida Arraylarni berish lozim"
   ]
  },
  {
   "cell_type": "code",
   "execution_count": 9,
   "id": "0068cf48-3d7b-40ae-ad92-69edb3e37668",
   "metadata": {},
   "outputs": [],
   "source": [
    "arrays = np.load('arrays.npz')"
   ]
  },
  {
   "cell_type": "code",
   "execution_count": 12,
   "id": "1315430d-6dea-4b92-b05b-721a6410b357",
   "metadata": {},
   "outputs": [
    {
     "data": {
      "text/plain": [
       "array([0, 1, 2, 3, 4, 5, 6, 7, 8, 9])"
      ]
     },
     "execution_count": 12,
     "metadata": {},
     "output_type": "execute_result"
    }
   ],
   "source": [
    "arrays['b']"
   ]
  },
  {
   "cell_type": "code",
   "execution_count": 13,
   "id": "d1b7a700-b497-4089-bd1e-37f773a9574d",
   "metadata": {},
   "outputs": [
    {
     "data": {
      "text/plain": [
       "array([0, 1, 2, 3, 4, 5, 6, 7, 8, 9])"
      ]
     },
     "execution_count": 13,
     "metadata": {},
     "output_type": "execute_result"
    }
   ],
   "source": [
    "arrays['a']"
   ]
  },
  {
   "cell_type": "code",
   "execution_count": 15,
   "id": "c09fb7c4-1781-4c56-8690-e6815ced98b8",
   "metadata": {},
   "outputs": [],
   "source": [
    "np.savez_compressed('array_comp.npz', a=arr, b=arr2) # bu katta arraylar uchun ishlatiladi"
   ]
  },
  {
   "cell_type": "code",
   "execution_count": null,
   "id": "88a1a306-7896-4d96-86bb-7a8ad3d1a936",
   "metadata": {},
   "outputs": [],
   "source": []
  }
 ],
 "metadata": {
  "kernelspec": {
   "display_name": "Python 3 (ipykernel)",
   "language": "python",
   "name": "python3"
  },
  "language_info": {
   "codemirror_mode": {
    "name": "ipython",
    "version": 3
   },
   "file_extension": ".py",
   "mimetype": "text/x-python",
   "name": "python",
   "nbconvert_exporter": "python",
   "pygments_lexer": "ipython3",
   "version": "3.10.12"
  }
 },
 "nbformat": 4,
 "nbformat_minor": 5
}
