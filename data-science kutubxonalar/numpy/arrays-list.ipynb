{
 "cells": [
  {
   "cell_type": "code",
   "execution_count": 1,
   "id": "e9f3a869-16e8-455c-bbfa-0aacfacc22ff",
   "metadata": {},
   "outputs": [],
   "source": [
    "import numpy as np"
   ]
  },
  {
   "cell_type": "code",
   "execution_count": 2,
   "id": "74537e05-2a0e-447d-b05b-2853e16a367e",
   "metadata": {},
   "outputs": [],
   "source": [
    "my_list = list(range(10000))  # python list 0~9999 ----> normal \n",
    "my_array = np.array(range(10000))  # numpy array (massiv) -----> vektorlashgan "
   ]
  },
  {
   "cell_type": "code",
   "execution_count": 3,
   "id": "c5610553-ea32-4c6d-9c1c-cb2b0bc84fdb",
   "metadata": {},
   "outputs": [
    {
     "name": "stdout",
     "output_type": "stream",
     "text": [
      "CPU times: user 24.5 ms, sys: 10.7 ms, total: 35.2 ms\n",
      "Wall time: 33.1 ms\n"
     ]
    }
   ],
   "source": [
    "%time for son in range (10): [x*2 for x in my_list]"
   ]
  },
  {
   "cell_type": "code",
   "execution_count": null,
   "id": "1e86639d-fc82-4f43-923e-46b0f1341036",
   "metadata": {},
   "outputs": [],
   "source": []
  },
  {
   "cell_type": "code",
   "execution_count": 4,
   "id": "2ce9094d-e5b1-4d49-b96f-940d87a4a8de",
   "metadata": {},
   "outputs": [
    {
     "name": "stdout",
     "output_type": "stream",
     "text": [
      "CPU times: user 2.72 ms, sys: 1.02 ms, total: 3.74 ms\n",
      "Wall time: 2.44 ms\n"
     ]
    }
   ],
   "source": [
    "%time for son in range (10): my_array*2 "
   ]
  },
  {
   "cell_type": "code",
   "execution_count": 5,
   "id": "5ba9477b-b21d-421c-9626-a7f1142aa70f",
   "metadata": {},
   "outputs": [
    {
     "data": {
      "text/plain": [
       "13.565573770491804"
      ]
     },
     "execution_count": 5,
     "metadata": {},
     "output_type": "execute_result"
    }
   ],
   "source": [
    "33.1/2.44"
   ]
  },
  {
   "cell_type": "code",
   "execution_count": null,
   "id": "c5c94f85-e5df-465b-8653-cde27aefcf9f",
   "metadata": {},
   "outputs": [],
   "source": []
  }
 ],
 "metadata": {
  "kernelspec": {
   "display_name": "Python 3 (ipykernel)",
   "language": "python",
   "name": "python3"
  },
  "language_info": {
   "codemirror_mode": {
    "name": "ipython",
    "version": 3
   },
   "file_extension": ".py",
   "mimetype": "text/x-python",
   "name": "python",
   "nbconvert_exporter": "python",
   "pygments_lexer": "ipython3",
   "version": "3.10.12"
  }
 },
 "nbformat": 4,
 "nbformat_minor": 5
}
