{
 "cells": [
  {
   "cell_type": "code",
   "execution_count": 2,
   "id": "3db501e7-0259-4afd-be65-8b9ed0afa2d2",
   "metadata": {},
   "outputs": [],
   "source": [
    "import numpy as np"
   ]
  },
  {
   "cell_type": "code",
   "execution_count": 7,
   "id": "be869405-7be4-437d-b089-b4bac9479a71",
   "metadata": {},
   "outputs": [
    {
     "data": {
      "text/plain": [
       "array([[-0.20777346, -0.94647089, -0.55668635,  0.80778288],\n",
       "       [ 1.18418777,  0.32323294, -0.02367937, -0.44346034],\n",
       "       [ 0.04248675,  0.85629536,  0.28666423,  0.18634518],\n",
       "       [-0.49018005,  0.89327023,  2.41110123,  1.70214065],\n",
       "       [ 0.5056873 ,  0.56025626, -1.55017865, -0.1490987 ]])"
      ]
     },
     "execution_count": 7,
     "metadata": {},
     "output_type": "execute_result"
    }
   ],
   "source": [
    "arr = np.random.randn(5, 4)\n",
    "arr"
   ]
  },
  {
   "cell_type": "markdown",
   "id": "3426468f-ee2e-4934-9f1a-d053209679bd",
   "metadata": {},
   "source": [
    "`sum` sonlarning yig'indisi uchun ishlatiladi"
   ]
  },
  {
   "cell_type": "code",
   "execution_count": 8,
   "id": "b720df31-1fe9-405b-a86b-dcc44890850d",
   "metadata": {},
   "outputs": [
    {
     "data": {
      "text/plain": [
       "5.3919229745747375"
      ]
     },
     "execution_count": 8,
     "metadata": {},
     "output_type": "execute_result"
    }
   ],
   "source": [
    "arr.sum()    # umumiy sonlar yig'indisi uchun sum"
   ]
  },
  {
   "cell_type": "code",
   "execution_count": 9,
   "id": "0e6a946b-82f7-4cf6-bf71-d240020b4e13",
   "metadata": {},
   "outputs": [
    {
     "data": {
      "text/plain": [
       "array([-0.90314782,  1.04028099,  1.37179152,  4.51633207, -0.63333379])"
      ]
     },
     "execution_count": 9,
     "metadata": {},
     "output_type": "execute_result"
    }
   ],
   "source": [
    "arr.sum(axis=1)  # qator yig'indi"
   ]
  },
  {
   "cell_type": "code",
   "execution_count": 10,
   "id": "a087a8f9-bd0d-4172-93ac-066c696434fa",
   "metadata": {},
   "outputs": [
    {
     "data": {
      "text/plain": [
       "array([1.03440831, 1.6865839 , 0.5672211 , 2.10370966])"
      ]
     },
     "execution_count": 10,
     "metadata": {},
     "output_type": "execute_result"
    }
   ],
   "source": [
    "arr.sum(axis=0)   # ustun yig'indi"
   ]
  },
  {
   "cell_type": "markdown",
   "id": "bff4356f-aaa0-4bfd-a5b6-b716371a673b",
   "metadata": {},
   "source": [
    "### `mean` <h5> uslubi sonning o'rta arifmetigini topib beradi </h5>"
   ]
  },
  {
   "cell_type": "code",
   "execution_count": 12,
   "id": "40540ae7-2c44-4ab9-974b-bd8689b69a49",
   "metadata": {},
   "outputs": [
    {
     "data": {
      "text/plain": [
       "array([0, 1, 2, 3, 4, 5])"
      ]
     },
     "execution_count": 12,
     "metadata": {},
     "output_type": "execute_result"
    }
   ],
   "source": [
    "data = np.arange(6)\n",
    "data"
   ]
  },
  {
   "cell_type": "code",
   "execution_count": 14,
   "id": "0708c053-94f3-4393-a6ee-045312296b5e",
   "metadata": {},
   "outputs": [
    {
     "data": {
      "text/plain": [
       "2.5"
      ]
     },
     "execution_count": 14,
     "metadata": {},
     "output_type": "execute_result"
    }
   ],
   "source": [
    "mean = np.sum(data)/len(data)\n",
    "mean"
   ]
  },
  {
   "cell_type": "code",
   "execution_count": 15,
   "id": "b9782bf2-a65e-4c1a-b76a-f0821d638833",
   "metadata": {},
   "outputs": [
    {
     "data": {
      "text/plain": [
       "2.5"
      ]
     },
     "execution_count": 15,
     "metadata": {},
     "output_type": "execute_result"
    }
   ],
   "source": [
    "np.mean(data)"
   ]
  },
  {
   "cell_type": "code",
   "execution_count": 16,
   "id": "eb235068-83b5-4fd9-879b-c8f017efba79",
   "metadata": {},
   "outputs": [
    {
     "data": {
      "text/plain": [
       "2.5"
      ]
     },
     "execution_count": 16,
     "metadata": {},
     "output_type": "execute_result"
    }
   ],
   "source": [
    "data.mean()"
   ]
  },
  {
   "cell_type": "code",
   "execution_count": 18,
   "id": "588ec6c5-06f6-442d-bf35-85e7de9b1c5e",
   "metadata": {},
   "outputs": [
    {
     "data": {
      "text/plain": [
       "array([[-0.20777346, -0.94647089, -0.55668635,  0.80778288],\n",
       "       [ 1.18418777,  0.32323294, -0.02367937, -0.44346034],\n",
       "       [ 0.04248675,  0.85629536,  0.28666423,  0.18634518],\n",
       "       [-0.49018005,  0.89327023,  2.41110123,  1.70214065],\n",
       "       [ 0.5056873 ,  0.56025626, -1.55017865, -0.1490987 ]])"
      ]
     },
     "execution_count": 18,
     "metadata": {},
     "output_type": "execute_result"
    }
   ],
   "source": [
    "arr"
   ]
  },
  {
   "cell_type": "code",
   "execution_count": 17,
   "id": "3d3f8f75-66b1-4951-8d23-ba4c4a70a485",
   "metadata": {},
   "outputs": [
    {
     "data": {
      "text/plain": [
       "0.2695961487287369"
      ]
     },
     "execution_count": 17,
     "metadata": {},
     "output_type": "execute_result"
    }
   ],
   "source": [
    "np.mean(arr)"
   ]
  },
  {
   "cell_type": "code",
   "execution_count": 19,
   "id": "327b7e23-7512-4dd0-af34-9c417219f5f6",
   "metadata": {},
   "outputs": [
    {
     "data": {
      "text/plain": [
       "array([-0.22578696,  0.26007025,  0.34294788,  1.12908302, -0.15833345])"
      ]
     },
     "execution_count": 19,
     "metadata": {},
     "output_type": "execute_result"
    }
   ],
   "source": [
    "np.mean(arr, axis=1)"
   ]
  },
  {
   "cell_type": "code",
   "execution_count": 21,
   "id": "a652604f-ecad-4684-8293-10a99b0dab94",
   "metadata": {},
   "outputs": [
    {
     "data": {
      "text/plain": [
       "array([0.20688166, 0.33731678, 0.11344422, 0.42074193])"
      ]
     },
     "execution_count": 21,
     "metadata": {},
     "output_type": "execute_result"
    }
   ],
   "source": [
    "np.mean(arr, axis=0)"
   ]
  },
  {
   "cell_type": "markdown",
   "id": "7f262251-755b-47f5-95df-59171ec89bed",
   "metadata": {},
   "source": [
    "### `cumsum` <h5> uslubi sonning yig'iluvchi yig'indi topib beradi </h5>"
   ]
  },
  {
   "cell_type": "code",
   "execution_count": 22,
   "id": "3dd40e26-5bd0-4d72-879d-f49a27054f1e",
   "metadata": {},
   "outputs": [
    {
     "data": {
      "text/plain": [
       "array([0, 1, 2, 3, 4, 5])"
      ]
     },
     "execution_count": 22,
     "metadata": {},
     "output_type": "execute_result"
    }
   ],
   "source": [
    "data"
   ]
  },
  {
   "cell_type": "code",
   "execution_count": 23,
   "id": "34385636-15e3-4530-8281-473589598f74",
   "metadata": {},
   "outputs": [
    {
     "data": {
      "text/plain": [
       "array([ 0,  1,  3,  6, 10, 15])"
      ]
     },
     "execution_count": 23,
     "metadata": {},
     "output_type": "execute_result"
    }
   ],
   "source": [
    "data.cumsum()"
   ]
  },
  {
   "cell_type": "code",
   "execution_count": null,
   "id": "83963fba-34b8-49ed-a115-891922f62bd7",
   "metadata": {},
   "outputs": [],
   "source": []
  }
 ],
 "metadata": {
  "kernelspec": {
   "display_name": "Python 3 (ipykernel)",
   "language": "python",
   "name": "python3"
  },
  "language_info": {
   "codemirror_mode": {
    "name": "ipython",
    "version": 3
   },
   "file_extension": ".py",
   "mimetype": "text/x-python",
   "name": "python",
   "nbconvert_exporter": "python",
   "pygments_lexer": "ipython3",
   "version": "3.10.12"
  }
 },
 "nbformat": 4,
 "nbformat_minor": 5
}
