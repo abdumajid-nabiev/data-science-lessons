{
 "cells": [
  {
   "cell_type": "code",
   "execution_count": 1,
   "id": "677be61d-51de-4ea3-a1ef-1cb9a01d30c7",
   "metadata": {},
   "outputs": [],
   "source": [
    "import numpy as np"
   ]
  },
  {
   "cell_type": "code",
   "execution_count": 7,
   "id": "4b8258ad-6ccb-419b-afa2-f245385b4605",
   "metadata": {},
   "outputs": [],
   "source": [
    "arr = np.arange(10, 100, 10)"
   ]
  },
  {
   "cell_type": "code",
   "execution_count": 8,
   "id": "c89a34d4-a3bd-4099-becc-ef458cbd71a5",
   "metadata": {},
   "outputs": [
    {
     "data": {
      "text/plain": [
       "30"
      ]
     },
     "execution_count": 8,
     "metadata": {},
     "output_type": "execute_result"
    }
   ],
   "source": [
    "arr[2]"
   ]
  },
  {
   "cell_type": "code",
   "execution_count": 11,
   "id": "d370809d-9239-413a-8bbb-052b54b7cd41",
   "metadata": {},
   "outputs": [
    {
     "data": {
      "text/plain": [
       "array([40, 50])"
      ]
     },
     "execution_count": 11,
     "metadata": {},
     "output_type": "execute_result"
    }
   ],
   "source": [
    "arr[3:5]"
   ]
  },
  {
   "cell_type": "code",
   "execution_count": 14,
   "id": "7ae17e82-b32b-4b8a-a265-dff886a3172b",
   "metadata": {},
   "outputs": [
    {
     "data": {
      "text/plain": [
       "array([0, 0])"
      ]
     },
     "execution_count": 14,
     "metadata": {},
     "output_type": "execute_result"
    }
   ],
   "source": [
    "sliced_arr = arr[3:5]\n",
    "sliced_arr[:] = 0\n",
    "sliced_arr"
   ]
  },
  {
   "cell_type": "code",
   "execution_count": 16,
   "id": "d97b4dc5-b7a0-415c-bf15-a4cd2e623ae4",
   "metadata": {},
   "outputs": [
    {
     "data": {
      "text/plain": [
       "array([10, 20, 30, 40, 50, 60, 70, 80, 90])"
      ]
     },
     "execution_count": 16,
     "metadata": {},
     "output_type": "execute_result"
    }
   ],
   "source": [
    "arr1 = np.arange(10, 100, 10)\n",
    "arr1 "
   ]
  },
  {
   "cell_type": "code",
   "execution_count": 21,
   "id": "062942f2-e6f7-4c84-9231-b43838511b08",
   "metadata": {},
   "outputs": [
    {
     "data": {
      "text/plain": [
       "array([0, 0])"
      ]
     },
     "execution_count": 21,
     "metadata": {},
     "output_type": "execute_result"
    }
   ],
   "source": [
    "sliced_arr1 = arr1[3:5].copy()  # ko'chirib olingan arrayda asosiy arrayga tasir bermaydi\n",
    "sliced_arr1[:] = 0\n",
    "sliced_arr1"
   ]
  },
  {
   "cell_type": "code",
   "execution_count": 22,
   "id": "c190cdc1-86a5-4533-982f-3462db984dd6",
   "metadata": {},
   "outputs": [
    {
     "data": {
      "text/plain": [
       "array([10, 20, 30, 40, 50, 60, 70, 80, 90])"
      ]
     },
     "execution_count": 22,
     "metadata": {},
     "output_type": "execute_result"
    }
   ],
   "source": [
    "arr1"
   ]
  },
  {
   "cell_type": "markdown",
   "id": "be346f5a-ccc1-43db-9915-40bb22091187",
   "metadata": {},
   "source": [
    "<h5> 2D MASSIVLAR <h5>"
   ]
  },
  {
   "cell_type": "code",
   "execution_count": 26,
   "id": "46f8ea19-f742-4046-8d75-fe8028a56d81",
   "metadata": {},
   "outputs": [
    {
     "data": {
      "text/plain": [
       "array([[1, 2, 3, 4],\n",
       "       [5, 6, 7, 8],\n",
       "       [1, 2, 3, 4]])"
      ]
     },
     "execution_count": 26,
     "metadata": {},
     "output_type": "execute_result"
    }
   ],
   "source": [
    "arr2d = np.array([[1,2,3,4], [5,6,7,8], [1,2,3,4]])     # 3x3 olchamli massiv\n",
    "arr2d"
   ]
  },
  {
   "cell_type": "code",
   "execution_count": 28,
   "id": "18410fec-5581-4229-80a3-544400d19d36",
   "metadata": {},
   "outputs": [
    {
     "data": {
      "text/plain": [
       "2"
      ]
     },
     "execution_count": 28,
     "metadata": {},
     "output_type": "execute_result"
    }
   ],
   "source": [
    "arr2d.ndim"
   ]
  },
  {
   "cell_type": "code",
   "execution_count": 29,
   "id": "8ce8d6fe-72b8-43ac-a12f-6a2249506d59",
   "metadata": {},
   "outputs": [
    {
     "data": {
      "text/plain": [
       "array([[1, 2, 3, 4],\n",
       "       [5, 6, 7, 8],\n",
       "       [1, 2, 3, 4]])"
      ]
     },
     "execution_count": 29,
     "metadata": {},
     "output_type": "execute_result"
    }
   ],
   "source": [
    "arr2d"
   ]
  },
  {
   "cell_type": "code",
   "execution_count": 30,
   "id": "54963637-25f6-4a8c-ac76-6c586710c8ac",
   "metadata": {},
   "outputs": [
    {
     "data": {
      "text/plain": [
       "6"
      ]
     },
     "execution_count": 30,
     "metadata": {},
     "output_type": "execute_result"
    }
   ],
   "source": [
    "arr2d[1,1]"
   ]
  },
  {
   "cell_type": "code",
   "execution_count": 32,
   "id": "63f8400d-d611-40f7-8697-4ea709636885",
   "metadata": {},
   "outputs": [
    {
     "data": {
      "text/plain": [
       "4"
      ]
     },
     "execution_count": 32,
     "metadata": {},
     "output_type": "execute_result"
    }
   ],
   "source": [
    "arr2d[2,3]"
   ]
  },
  {
   "cell_type": "markdown",
   "id": "1750bdf7-8b43-45a8-9bb0-dcaed8f0e107",
   "metadata": {},
   "source": [
    "<h5>2D massivdan bir nechta element olish</h5>"
   ]
  },
  {
   "cell_type": "code",
   "execution_count": 37,
   "id": "2d3e3b7c-7d68-40a4-b26e-043857b19ce8",
   "metadata": {},
   "outputs": [
    {
     "data": {
      "text/plain": [
       "array([3, 4])"
      ]
     },
     "execution_count": 37,
     "metadata": {},
     "output_type": "execute_result"
    }
   ],
   "source": [
    "sl_arr = arr2d[2, 2:4]  # sonlar 0, 1, 2, 3, 4 qilib sanalgani uchun 2:4 bular 3,4 sonalridir\n",
    "sl_arr"
   ]
  },
  {
   "cell_type": "code",
   "execution_count": 38,
   "id": "a2736415-c7c5-44af-bc05-3498499051e5",
   "metadata": {},
   "outputs": [
    {
     "data": {
      "text/plain": [
       "array([3, 4])"
      ]
     },
     "execution_count": 38,
     "metadata": {},
     "output_type": "execute_result"
    }
   ],
   "source": [
    "sl_arr2 = arr2d[2, 2:]  # sonlar 0, 1, 2, 3, 4 qilib sanalgani uchun 2:4 bular 3,4 sonalridir\n",
    "sl_arr2"
   ]
  },
  {
   "cell_type": "code",
   "execution_count": null,
   "id": "5c348e86-fc8f-4979-b8ac-1e3a08aa7a1c",
   "metadata": {},
   "outputs": [],
   "source": []
  }
 ],
 "metadata": {
  "kernelspec": {
   "display_name": "Python 3 (ipykernel)",
   "language": "python",
   "name": "python3"
  },
  "language_info": {
   "codemirror_mode": {
    "name": "ipython",
    "version": 3
   },
   "file_extension": ".py",
   "mimetype": "text/x-python",
   "name": "python",
   "nbconvert_exporter": "python",
   "pygments_lexer": "ipython3",
   "version": "3.10.12"
  }
 },
 "nbformat": 4,
 "nbformat_minor": 5
}
