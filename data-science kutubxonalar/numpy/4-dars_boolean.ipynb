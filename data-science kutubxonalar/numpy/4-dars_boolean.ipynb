{
 "cells": [
  {
   "cell_type": "code",
   "execution_count": 5,
   "id": "775b011b-7955-4d12-a07d-f6971691efdd",
   "metadata": {},
   "outputs": [],
   "source": [
    "import numpy as np"
   ]
  },
  {
   "cell_type": "code",
   "execution_count": 9,
   "id": "275e97eb-c173-4c2c-a12d-39f9a88d74c3",
   "metadata": {},
   "outputs": [
    {
     "data": {
      "text/plain": [
       "array(['hasan', 'husan', 'mirzabek', 'ahmad', 'karim', 'holiq', 'hasan',\n",
       "       'husan'], dtype='<U8')"
      ]
     },
     "execution_count": 9,
     "metadata": {},
     "output_type": "execute_result"
    }
   ],
   "source": [
    "# ismlar\n",
    "names = np.array (['hasan', 'husan', 'mirzabek', 'ahmad', 'karim', 'holiq', 'hasan', 'husan'])\n",
    "names"
   ]
  },
  {
   "cell_type": "code",
   "execution_count": 16,
   "id": "9dfc7043-92b6-4287-b33a-a31d56081ad5",
   "metadata": {},
   "outputs": [
    {
     "data": {
      "text/plain": [
       "array([[ 0.22175626,  1.38733524,  1.5834049 ,  0.70235953,  1.57324006],\n",
       "       [-1.57313118, -0.25227514,  0.16461783,  1.7711997 , -1.42898866],\n",
       "       [ 0.79268002,  0.82305078,  1.15934745,  0.62575081,  0.30051766],\n",
       "       [ 0.45536853,  0.46787218, -1.0408907 , -1.74200385,  0.40703703],\n",
       "       [-0.29795567,  0.3769657 , -0.19265621, -0.58894982,  1.21663982],\n",
       "       [-0.14215569,  2.57700327,  0.02509215,  0.5437937 , -1.12958084],\n",
       "       [ 0.00688399,  0.78201666, -0.17071109, -0.8624003 ,  1.69908423],\n",
       "       [ 1.35890871, -1.67878298,  0.1865147 , -0.61481472, -0.6930655 ]])"
      ]
     },
     "execution_count": 16,
     "metadata": {},
     "output_type": "execute_result"
    }
   ],
   "source": [
    "# data = ma'lumot\n",
    "data = np.random.randn(8, 5)\n",
    "data"
   ]
  },
  {
   "cell_type": "code",
   "execution_count": 17,
   "id": "1bd44392-bad1-4a5c-a0e6-2ccd3bc5aab5",
   "metadata": {},
   "outputs": [
    {
     "data": {
      "text/plain": [
       "array([ True, False, False, False, False, False,  True, False])"
      ]
     },
     "execution_count": 17,
     "metadata": {},
     "output_type": "execute_result"
    }
   ],
   "source": [
    "names == 'hasan'"
   ]
  },
  {
   "cell_type": "code",
   "execution_count": 18,
   "id": "ffc55175-4e98-4e1c-b272-5fc56af490a0",
   "metadata": {},
   "outputs": [
    {
     "data": {
      "text/plain": [
       "array([[ 0.22175626,  1.38733524,  1.5834049 ,  0.70235953,  1.57324006],\n",
       "       [ 0.00688399,  0.78201666, -0.17071109, -0.8624003 ,  1.69908423]])"
      ]
     },
     "execution_count": 18,
     "metadata": {},
     "output_type": "execute_result"
    }
   ],
   "source": [
    "data[names == 'hasan']"
   ]
  },
  {
   "cell_type": "code",
   "execution_count": 27,
   "id": "683ff051-3dc1-4354-a8fc-3c3fe8e3e9c0",
   "metadata": {},
   "outputs": [
    {
     "data": {
      "text/plain": [
       "array([], shape=(0, 5), dtype=float64)"
      ]
     },
     "execution_count": 27,
     "metadata": {},
     "output_type": "execute_result"
    }
   ],
   "source": [
    "data[names == 'hasan' ]"
   ]
  },
  {
   "cell_type": "code",
   "execution_count": 28,
   "id": "cc6804e3-b990-4dbe-aca5-cbe422317304",
   "metadata": {},
   "outputs": [
    {
     "data": {
      "text/plain": [
       "array([[-1.57313118, -0.25227514,  0.16461783,  1.7711997 , -1.42898866],\n",
       "       [ 0.79268002,  0.82305078,  1.15934745,  0.62575081,  0.30051766],\n",
       "       [ 0.45536853,  0.46787218, -1.0408907 , -1.74200385,  0.40703703],\n",
       "       [-0.29795567,  0.3769657 , -0.19265621, -0.58894982,  1.21663982],\n",
       "       [-0.14215569,  2.57700327,  0.02509215,  0.5437937 , -1.12958084],\n",
       "       [ 1.35890871, -1.67878298,  0.1865147 , -0.61481472, -0.6930655 ]])"
      ]
     },
     "execution_count": 28,
     "metadata": {},
     "output_type": "execute_result"
    }
   ],
   "source": [
    "data[names != 'hasan']"
   ]
  },
  {
   "cell_type": "code",
   "execution_count": 31,
   "id": "6db731cc-a382-49c8-a437-ed698832a805",
   "metadata": {},
   "outputs": [
    {
     "data": {
      "text/plain": [
       "array([[-1.57313118, -0.25227514,  0.16461783,  1.7711997 , -1.42898866],\n",
       "       [ 0.79268002,  0.82305078,  1.15934745,  0.62575081,  0.30051766],\n",
       "       [ 0.45536853,  0.46787218, -1.0408907 , -1.74200385,  0.40703703],\n",
       "       [-0.29795567,  0.3769657 , -0.19265621, -0.58894982,  1.21663982],\n",
       "       [-0.14215569,  2.57700327,  0.02509215,  0.5437937 , -1.12958084],\n",
       "       [ 1.35890871, -1.67878298,  0.1865147 , -0.61481472, -0.6930655 ]])"
      ]
     },
     "execution_count": 31,
     "metadata": {},
     "output_type": "execute_result"
    }
   ],
   "source": [
    "data [~(names == 'hasan')]"
   ]
  },
  {
   "cell_type": "code",
   "execution_count": 32,
   "id": "80e91af0-f2cc-4e92-ba4d-1fadd183414e",
   "metadata": {},
   "outputs": [
    {
     "name": "stdout",
     "output_type": "stream",
     "text": [
      "['hasan' 'husan' 'mirzabek' 'ahmad' 'karim' 'holiq' 'hasan' 'husan']\n",
      "[[ 0.22175626  1.38733524  1.5834049   0.70235953  1.57324006]\n",
      " [-1.57313118 -0.25227514  0.16461783  1.7711997  -1.42898866]\n",
      " [ 0.79268002  0.82305078  1.15934745  0.62575081  0.30051766]\n",
      " [ 0.45536853  0.46787218 -1.0408907  -1.74200385  0.40703703]\n",
      " [-0.29795567  0.3769657  -0.19265621 -0.58894982  1.21663982]\n",
      " [-0.14215569  2.57700327  0.02509215  0.5437937  -1.12958084]\n",
      " [ 0.00688399  0.78201666 -0.17071109 -0.8624003   1.69908423]\n",
      " [ 1.35890871 -1.67878298  0.1865147  -0.61481472 -0.6930655 ]]\n"
     ]
    }
   ],
   "source": [
    "print(names)\n",
    "print(data)"
   ]
  },
  {
   "cell_type": "code",
   "execution_count": 33,
   "id": "1e3a2700-3f50-48bd-943f-8657fe9392eb",
   "metadata": {},
   "outputs": [
    {
     "data": {
      "text/plain": [
       "array([ True,  True, False, False, False, False,  True,  True])"
      ]
     },
     "execution_count": 33,
     "metadata": {},
     "output_type": "execute_result"
    }
   ],
   "source": [
    "mask = (names == 'hasan') | (names == 'husan')\n",
    "mask"
   ]
  },
  {
   "cell_type": "code",
   "execution_count": 34,
   "id": "15a5f5c9-cef1-4f76-8e8a-c74533641da4",
   "metadata": {},
   "outputs": [
    {
     "data": {
      "text/plain": [
       "array([[ 0.22175626,  1.38733524,  1.5834049 ,  0.70235953,  1.57324006],\n",
       "       [-1.57313118, -0.25227514,  0.16461783,  1.7711997 , -1.42898866],\n",
       "       [ 0.00688399,  0.78201666, -0.17071109, -0.8624003 ,  1.69908423],\n",
       "       [ 1.35890871, -1.67878298,  0.1865147 , -0.61481472, -0.6930655 ]])"
      ]
     },
     "execution_count": 34,
     "metadata": {},
     "output_type": "execute_result"
    }
   ],
   "source": [
    "data[mask]"
   ]
  },
  {
   "cell_type": "code",
   "execution_count": 35,
   "id": "11e00bbd-5423-4e98-bb31-cd0aa1ce17f2",
   "metadata": {},
   "outputs": [
    {
     "data": {
      "text/plain": [
       "array([[ 0.22175626,  1.38733524,  1.5834049 ,  0.70235953,  1.57324006],\n",
       "       [-1.57313118, -0.25227514,  0.16461783,  1.7711997 , -1.42898866],\n",
       "       [ 0.79268002,  0.82305078,  1.15934745,  0.62575081,  0.30051766],\n",
       "       [ 0.45536853,  0.46787218, -1.0408907 , -1.74200385,  0.40703703],\n",
       "       [-0.29795567,  0.3769657 , -0.19265621, -0.58894982,  1.21663982],\n",
       "       [-0.14215569,  2.57700327,  0.02509215,  0.5437937 , -1.12958084],\n",
       "       [ 0.00688399,  0.78201666, -0.17071109, -0.8624003 ,  1.69908423],\n",
       "       [ 1.35890871, -1.67878298,  0.1865147 , -0.61481472, -0.6930655 ]])"
      ]
     },
     "execution_count": 35,
     "metadata": {},
     "output_type": "execute_result"
    }
   ],
   "source": [
    "data"
   ]
  },
  {
   "cell_type": "code",
   "execution_count": 36,
   "id": "73f2f59e-3d28-4bc4-a666-95ea2f27adda",
   "metadata": {},
   "outputs": [
    {
     "data": {
      "text/plain": [
       "array([[0.22175626, 1.38733524, 1.5834049 , 0.70235953, 1.57324006],\n",
       "       [1.        , 1.        , 0.16461783, 1.7711997 , 1.        ],\n",
       "       [0.79268002, 0.82305078, 1.15934745, 0.62575081, 0.30051766],\n",
       "       [0.45536853, 0.46787218, 1.        , 1.        , 0.40703703],\n",
       "       [1.        , 0.3769657 , 1.        , 1.        , 1.21663982],\n",
       "       [1.        , 2.57700327, 0.02509215, 0.5437937 , 1.        ],\n",
       "       [0.00688399, 0.78201666, 1.        , 1.        , 1.69908423],\n",
       "       [1.35890871, 1.        , 0.1865147 , 1.        , 1.        ]])"
      ]
     },
     "execution_count": 36,
     "metadata": {},
     "output_type": "execute_result"
    }
   ],
   "source": [
    "data[data<0] = 1        # noldan kichik barcha sonlarni 1 o'zgaritirib qo'yiladi\n",
    "data"
   ]
  },
  {
   "cell_type": "code",
   "execution_count": null,
   "id": "cd7c87f4-3848-4689-833b-db9e237a0e72",
   "metadata": {},
   "outputs": [],
   "source": []
  }
 ],
 "metadata": {
  "kernelspec": {
   "display_name": "Python 3 (ipykernel)",
   "language": "python",
   "name": "python3"
  },
  "language_info": {
   "codemirror_mode": {
    "name": "ipython",
    "version": 3
   },
   "file_extension": ".py",
   "mimetype": "text/x-python",
   "name": "python",
   "nbconvert_exporter": "python",
   "pygments_lexer": "ipython3",
   "version": "3.10.12"
  }
 },
 "nbformat": 4,
 "nbformat_minor": 5
}
