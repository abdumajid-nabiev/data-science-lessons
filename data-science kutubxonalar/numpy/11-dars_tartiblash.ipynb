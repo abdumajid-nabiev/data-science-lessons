{
 "cells": [
  {
   "cell_type": "code",
   "execution_count": 3,
   "id": "14eb1b25-4848-4f5c-a129-90c10da2d7cd",
   "metadata": {},
   "outputs": [],
   "source": [
    "import numpy as np"
   ]
  },
  {
   "cell_type": "code",
   "execution_count": 5,
   "id": "3e981899-21ea-4849-8335-4df5bb9a2362",
   "metadata": {},
   "outputs": [
    {
     "data": {
      "text/plain": [
       "array([-2.4418595 ,  0.28610148,  0.43318913, -0.92115489])"
      ]
     },
     "execution_count": 5,
     "metadata": {},
     "output_type": "execute_result"
    }
   ],
   "source": [
    "arr = np.random.randn(4)\n",
    "arr"
   ]
  },
  {
   "cell_type": "markdown",
   "id": "4b282d1e-d794-4340-8f47-c45348bb81a8",
   "metadata": {},
   "source": [
    "### `sort` funksiyasi"
   ]
  },
  {
   "cell_type": "code",
   "execution_count": 7,
   "id": "c03cb36a-cd3e-4e99-90bf-f3e7f332ed3b",
   "metadata": {},
   "outputs": [
    {
     "data": {
      "text/plain": [
       "array([-2.4418595 , -0.92115489,  0.28610148,  0.43318913])"
      ]
     },
     "execution_count": 7,
     "metadata": {},
     "output_type": "execute_result"
    }
   ],
   "source": [
    "sorted_arr = np.sort(arr)\n",
    "sorted_arr"
   ]
  },
  {
   "cell_type": "code",
   "execution_count": 9,
   "id": "4911830c-95ab-4127-bcb5-45fcf2804c17",
   "metadata": {},
   "outputs": [
    {
     "data": {
      "text/plain": [
       "array([-2.4418595 , -0.92115489,  0.28610148,  0.43318913])"
      ]
     },
     "execution_count": 9,
     "metadata": {},
     "output_type": "execute_result"
    }
   ],
   "source": [
    "arr.sort()   # 2-usul\n",
    "arr"
   ]
  },
  {
   "cell_type": "markdown",
   "id": "97077e07-9fa1-4496-a3b0-305eaa2d8713",
   "metadata": {},
   "source": [
    "<h4>Teskari tartiblash</h4>"
   ]
  },
  {
   "cell_type": "code",
   "execution_count": 10,
   "id": "ce25d21a-92ad-4d7d-a45f-e0d2868f6416",
   "metadata": {},
   "outputs": [
    {
     "data": {
      "text/plain": [
       "array([ 0.43318913,  0.28610148, -0.92115489, -2.4418595 ])"
      ]
     },
     "execution_count": 10,
     "metadata": {},
     "output_type": "execute_result"
    }
   ],
   "source": [
    "rev_arr = -np.sort(-arr)\n",
    "rev_arr"
   ]
  },
  {
   "cell_type": "code",
   "execution_count": 12,
   "id": "410c5d54-69a3-471c-a38c-eeeab179e448",
   "metadata": {},
   "outputs": [
    {
     "data": {
      "text/plain": [
       "array([[ 0.67598613, -0.01784671,  1.29514727,  1.46590296],\n",
       "       [-1.98765831, -0.52352807, -1.73196589,  0.30930433]])"
      ]
     },
     "execution_count": 12,
     "metadata": {},
     "output_type": "execute_result"
    }
   ],
   "source": [
    "arr2d = np.random.randn(2, 4)\n",
    "arr2d"
   ]
  },
  {
   "cell_type": "code",
   "execution_count": 13,
   "id": "e7f751f9-25ea-4712-aa76-f7639c7c5623",
   "metadata": {},
   "outputs": [
    {
     "data": {
      "text/plain": [
       "array([[-1.98765831, -0.52352807, -1.73196589,  0.30930433],\n",
       "       [ 0.67598613, -0.01784671,  1.29514727,  1.46590296]])"
      ]
     },
     "execution_count": 13,
     "metadata": {},
     "output_type": "execute_result"
    }
   ],
   "source": [
    "row_srt = np.sort(arr2d, axis=0) #arr2d qator bo'yicha tartiblangan ko'rinishi\n",
    "row_srt"
   ]
  },
  {
   "cell_type": "code",
   "execution_count": 14,
   "id": "60407e37-e05e-4958-9211-70b76ee8407c",
   "metadata": {},
   "outputs": [
    {
     "data": {
      "text/plain": [
       "array([[-0.01784671,  0.67598613,  1.29514727,  1.46590296],\n",
       "       [-1.98765831, -1.73196589, -0.52352807,  0.30930433]])"
      ]
     },
     "execution_count": 14,
     "metadata": {},
     "output_type": "execute_result"
    }
   ],
   "source": [
    "col_srt = np.sort(arr2d, axis=1)\n",
    "col_srt"
   ]
  },
  {
   "cell_type": "code",
   "execution_count": null,
   "id": "106a67ba-c892-4d2c-989a-d5c7bc77b765",
   "metadata": {},
   "outputs": [],
   "source": []
  }
 ],
 "metadata": {
  "kernelspec": {
   "display_name": "Python 3 (ipykernel)",
   "language": "python",
   "name": "python3"
  },
  "language_info": {
   "codemirror_mode": {
    "name": "ipython",
    "version": 3
   },
   "file_extension": ".py",
   "mimetype": "text/x-python",
   "name": "python",
   "nbconvert_exporter": "python",
   "pygments_lexer": "ipython3",
   "version": "3.10.12"
  }
 },
 "nbformat": 4,
 "nbformat_minor": 5
}
