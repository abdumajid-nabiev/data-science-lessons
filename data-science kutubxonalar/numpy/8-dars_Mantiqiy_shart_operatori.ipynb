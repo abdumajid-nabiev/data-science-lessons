{
 "cells": [
  {
   "cell_type": "code",
   "execution_count": 1,
   "id": "0b499bbe-e80e-467c-81e3-b474ea575325",
   "metadata": {},
   "outputs": [],
   "source": [
    "import numpy as np"
   ]
  },
  {
   "cell_type": "code",
   "execution_count": 2,
   "id": "b10a6c49-cb29-4695-a0e6-f1eabcb183d8",
   "metadata": {},
   "outputs": [],
   "source": [
    "xarr = np.array([1.1, 1.2, 1.3, 1.4, 1.5])\n",
    "yarr = np.array([2.1, 2.2, 2.3, 2.4, 2.5])"
   ]
  },
  {
   "cell_type": "code",
   "execution_count": 3,
   "id": "444d214f-7ecd-48cd-857c-53a83d51164d",
   "metadata": {},
   "outputs": [],
   "source": [
    "kond = np.array([True, False, True, True, False])"
   ]
  },
  {
   "cell_type": "markdown",
   "id": "f0ba5eb6-a888-4d21-8eb7-81b2398ed351",
   "metadata": {},
   "source": [
    "<h5>Agar kond = True ---> xarr  YOKI agar kond = False ----> yarr</h5>"
   ]
  },
  {
   "cell_type": "code",
   "execution_count": 5,
   "id": "3fd6eeee-54b9-42b6-90f3-2b6d4f1191ce",
   "metadata": {},
   "outputs": [
    {
     "data": {
      "text/plain": [
       "array([1.1, 2.2, 1.3, 1.4, 2.5])"
      ]
     },
     "execution_count": 5,
     "metadata": {},
     "output_type": "execute_result"
    }
   ],
   "source": [
    "natija = np.where(kond, xarr, yarr)\n",
    "natija"
   ]
  },
  {
   "cell_type": "code",
   "execution_count": 7,
   "id": "f120708c-ba37-4566-8ff4-11d9aa7ce5b4",
   "metadata": {},
   "outputs": [
    {
     "data": {
      "text/plain": [
       "array([[ 1.28808818,  1.68199039,  1.76547034, -0.61982636],\n",
       "       [ 0.13604946, -1.11760303,  1.50359974, -0.99469316],\n",
       "       [ 0.94628238, -0.3576776 ,  0.03784755,  0.84219326],\n",
       "       [ 0.34560939, -0.43534875, -0.72144102,  0.31157803]])"
      ]
     },
     "execution_count": 7,
     "metadata": {},
     "output_type": "execute_result"
    }
   ],
   "source": [
    "arr = np.random.randn(4,4)\n",
    "arr"
   ]
  },
  {
   "cell_type": "markdown",
   "id": "12eb84ed-8e4e-4740-b2d9-9a8128c0a96e",
   "metadata": {},
   "source": [
    "<h4>Agar arr < 0 dan kichik bo'lsa uni -2 aylatiradi, aks holda musbat bo'lsa uni 2 o'zgartiriladi </h4>"
   ]
  },
  {
   "cell_type": "code",
   "execution_count": 9,
   "id": "a504da2a-8bac-4fa0-9eec-7a21c9e5344d",
   "metadata": {},
   "outputs": [
    {
     "data": {
      "text/plain": [
       "array([[ 2,  2,  2, -2],\n",
       "       [ 2, -2,  2, -2],\n",
       "       [ 2, -2,  2,  2],\n",
       "       [ 2, -2, -2,  2]])"
      ]
     },
     "execution_count": 9,
     "metadata": {},
     "output_type": "execute_result"
    }
   ],
   "source": [
    "natijalar = np.where(arr<0, -2, 2)\n",
    "natijalar"
   ]
  },
  {
   "cell_type": "code",
   "execution_count": null,
   "id": "3d2cc81e-0c19-46a1-9486-5b5dba791888",
   "metadata": {},
   "outputs": [],
   "source": []
  }
 ],
 "metadata": {
  "kernelspec": {
   "display_name": "Python 3 (ipykernel)",
   "language": "python",
   "name": "python3"
  },
  "language_info": {
   "codemirror_mode": {
    "name": "ipython",
    "version": 3
   },
   "file_extension": ".py",
   "mimetype": "text/x-python",
   "name": "python",
   "nbconvert_exporter": "python",
   "pygments_lexer": "ipython3",
   "version": "3.10.12"
  }
 },
 "nbformat": 4,
 "nbformat_minor": 5
}
